{
 "cells": [
  {
   "cell_type": "code",
   "execution_count": 1,
   "id": "e6024c35-e3b7-4ae6-bada-e8164636e5de",
   "metadata": {
    "id": "e6024c35-e3b7-4ae6-bada-e8164636e5de"
   },
   "outputs": [],
   "source": [
    "import pandas as pd\n",
    "import numpy as np\n",
    "import matplotlib.pyplot as plt\n",
    "import seaborn as sns\n",
    "\n",
    "sns.set_theme()"
   ]
  },
  {
   "cell_type": "markdown",
   "id": "b91c253a-671d-4429-b3a6-0980c67291a1",
   "metadata": {
    "id": "b91c253a-671d-4429-b3a6-0980c67291a1"
   },
   "source": [
    "## 1. EDA"
   ]
  },
  {
   "cell_type": "markdown",
   "id": "c1f3d2dd-1239-410a-9ac6-b0489e9f4b5b",
   "metadata": {
    "id": "c1f3d2dd-1239-410a-9ac6-b0489e9f4b5b"
   },
   "source": [
    "### Data Exploration"
   ]
  },
  {
   "cell_type": "code",
   "execution_count": 4,
   "id": "046d16fd-c25e-4ce6-9218-0eab3676dd5d",
   "metadata": {
    "id": "046d16fd-c25e-4ce6-9218-0eab3676dd5d",
    "outputId": "c127b8c3-4b08-44a7-b1ef-d9d09e342381"
   },
   "outputs": [
    {
     "data": {
      "text/html": [
       "<div>\n",
       "<style scoped>\n",
       "    .dataframe tbody tr th:only-of-type {\n",
       "        vertical-align: middle;\n",
       "    }\n",
       "\n",
       "    .dataframe tbody tr th {\n",
       "        vertical-align: top;\n",
       "    }\n",
       "\n",
       "    .dataframe thead th {\n",
       "        text-align: right;\n",
       "    }\n",
       "</style>\n",
       "<table border=\"1\" class=\"dataframe\">\n",
       "  <thead>\n",
       "    <tr style=\"text-align: right;\">\n",
       "      <th></th>\n",
       "      <th>rentfaster_id</th>\n",
       "      <th>city</th>\n",
       "      <th>province</th>\n",
       "      <th>address</th>\n",
       "      <th>latitude</th>\n",
       "      <th>longitude</th>\n",
       "      <th>lease_term</th>\n",
       "      <th>type</th>\n",
       "      <th>price</th>\n",
       "      <th>beds</th>\n",
       "      <th>baths</th>\n",
       "      <th>sq_feet</th>\n",
       "      <th>link</th>\n",
       "      <th>furnishing</th>\n",
       "      <th>availability_date</th>\n",
       "      <th>smoking</th>\n",
       "      <th>cats</th>\n",
       "      <th>dogs</th>\n",
       "    </tr>\n",
       "  </thead>\n",
       "  <tbody>\n",
       "    <tr>\n",
       "      <th>0</th>\n",
       "      <td>468622</td>\n",
       "      <td>Airdrie</td>\n",
       "      <td>Alberta</td>\n",
       "      <td>69 Gateway Dr NE</td>\n",
       "      <td>51.305962</td>\n",
       "      <td>-114.012515</td>\n",
       "      <td>Long Term</td>\n",
       "      <td>Townhouse</td>\n",
       "      <td>2495.0</td>\n",
       "      <td>2 Beds</td>\n",
       "      <td>2.5</td>\n",
       "      <td>1403</td>\n",
       "      <td>/ab/airdrie/rentals/townhouse/2-bedrooms/pet-f...</td>\n",
       "      <td>Unfurnished</td>\n",
       "      <td>Immediate</td>\n",
       "      <td>Non-Smoking</td>\n",
       "      <td>True</td>\n",
       "      <td>True</td>\n",
       "    </tr>\n",
       "    <tr>\n",
       "      <th>1</th>\n",
       "      <td>468622</td>\n",
       "      <td>Airdrie</td>\n",
       "      <td>Alberta</td>\n",
       "      <td>69 Gateway Dr NE</td>\n",
       "      <td>51.305962</td>\n",
       "      <td>-114.012515</td>\n",
       "      <td>Long Term</td>\n",
       "      <td>Townhouse</td>\n",
       "      <td>2695.0</td>\n",
       "      <td>3 Beds</td>\n",
       "      <td>2.5</td>\n",
       "      <td>1496</td>\n",
       "      <td>/ab/airdrie/rentals/townhouse/2-bedrooms/pet-f...</td>\n",
       "      <td>Unfurnished</td>\n",
       "      <td>Immediate</td>\n",
       "      <td>Non-Smoking</td>\n",
       "      <td>True</td>\n",
       "      <td>True</td>\n",
       "    </tr>\n",
       "    <tr>\n",
       "      <th>2</th>\n",
       "      <td>468622</td>\n",
       "      <td>Airdrie</td>\n",
       "      <td>Alberta</td>\n",
       "      <td>69 Gateway Dr NE</td>\n",
       "      <td>51.305962</td>\n",
       "      <td>-114.012515</td>\n",
       "      <td>Long Term</td>\n",
       "      <td>Townhouse</td>\n",
       "      <td>2295.0</td>\n",
       "      <td>2 Beds</td>\n",
       "      <td>2.5</td>\n",
       "      <td>1180</td>\n",
       "      <td>/ab/airdrie/rentals/townhouse/2-bedrooms/pet-f...</td>\n",
       "      <td>Unfurnished</td>\n",
       "      <td>Immediate</td>\n",
       "      <td>Non-Smoking</td>\n",
       "      <td>True</td>\n",
       "      <td>True</td>\n",
       "    </tr>\n",
       "    <tr>\n",
       "      <th>3</th>\n",
       "      <td>468622</td>\n",
       "      <td>Airdrie</td>\n",
       "      <td>Alberta</td>\n",
       "      <td>69 Gateway Dr NE</td>\n",
       "      <td>51.305962</td>\n",
       "      <td>-114.012515</td>\n",
       "      <td>Long Term</td>\n",
       "      <td>Townhouse</td>\n",
       "      <td>2095.0</td>\n",
       "      <td>2 Beds</td>\n",
       "      <td>2.5</td>\n",
       "      <td>1403</td>\n",
       "      <td>/ab/airdrie/rentals/townhouse/2-bedrooms/pet-f...</td>\n",
       "      <td>Unfurnished</td>\n",
       "      <td>November 18</td>\n",
       "      <td>Non-Smoking</td>\n",
       "      <td>True</td>\n",
       "      <td>True</td>\n",
       "    </tr>\n",
       "    <tr>\n",
       "      <th>4</th>\n",
       "      <td>468622</td>\n",
       "      <td>Airdrie</td>\n",
       "      <td>Alberta</td>\n",
       "      <td>69 Gateway Dr NE</td>\n",
       "      <td>51.305962</td>\n",
       "      <td>-114.012515</td>\n",
       "      <td>Long Term</td>\n",
       "      <td>Townhouse</td>\n",
       "      <td>2495.0</td>\n",
       "      <td>2 Beds</td>\n",
       "      <td>2.5</td>\n",
       "      <td>1403</td>\n",
       "      <td>/ab/airdrie/rentals/townhouse/2-bedrooms/pet-f...</td>\n",
       "      <td>Unfurnished</td>\n",
       "      <td>Immediate</td>\n",
       "      <td>Non-Smoking</td>\n",
       "      <td>True</td>\n",
       "      <td>True</td>\n",
       "    </tr>\n",
       "    <tr>\n",
       "      <th>...</th>\n",
       "      <td>...</td>\n",
       "      <td>...</td>\n",
       "      <td>...</td>\n",
       "      <td>...</td>\n",
       "      <td>...</td>\n",
       "      <td>...</td>\n",
       "      <td>...</td>\n",
       "      <td>...</td>\n",
       "      <td>...</td>\n",
       "      <td>...</td>\n",
       "      <td>...</td>\n",
       "      <td>...</td>\n",
       "      <td>...</td>\n",
       "      <td>...</td>\n",
       "      <td>...</td>\n",
       "      <td>...</td>\n",
       "      <td>...</td>\n",
       "      <td>...</td>\n",
       "    </tr>\n",
       "    <tr>\n",
       "      <th>25766</th>\n",
       "      <td>334285</td>\n",
       "      <td>Yorkton</td>\n",
       "      <td>Saskatchewan</td>\n",
       "      <td>18 Allanbrooke Dr</td>\n",
       "      <td>51.203024</td>\n",
       "      <td>-102.484782</td>\n",
       "      <td>Long Term</td>\n",
       "      <td>Apartment</td>\n",
       "      <td>920.0</td>\n",
       "      <td>Studio</td>\n",
       "      <td>1</td>\n",
       "      <td>400</td>\n",
       "      <td>/sk/yorkton/rentals/apartment/3-bedrooms/pet-f...</td>\n",
       "      <td>Unfurnished</td>\n",
       "      <td>Immediate</td>\n",
       "      <td>Non-Smoking</td>\n",
       "      <td>True</td>\n",
       "      <td>True</td>\n",
       "    </tr>\n",
       "    <tr>\n",
       "      <th>25767</th>\n",
       "      <td>334285</td>\n",
       "      <td>Yorkton</td>\n",
       "      <td>Saskatchewan</td>\n",
       "      <td>18 Allanbrooke Dr</td>\n",
       "      <td>51.203024</td>\n",
       "      <td>-102.484782</td>\n",
       "      <td>Long Term</td>\n",
       "      <td>Apartment</td>\n",
       "      <td>1450.0</td>\n",
       "      <td>3 Beds</td>\n",
       "      <td>1</td>\n",
       "      <td>810</td>\n",
       "      <td>/sk/yorkton/rentals/apartment/3-bedrooms/pet-f...</td>\n",
       "      <td>Unfurnished</td>\n",
       "      <td>Immediate</td>\n",
       "      <td>Non-Smoking</td>\n",
       "      <td>True</td>\n",
       "      <td>True</td>\n",
       "    </tr>\n",
       "    <tr>\n",
       "      <th>25768</th>\n",
       "      <td>334284</td>\n",
       "      <td>Yorkton</td>\n",
       "      <td>Saskatchewan</td>\n",
       "      <td>363 Northview Rd</td>\n",
       "      <td>51.202667</td>\n",
       "      <td>-102.485765</td>\n",
       "      <td>Long Term</td>\n",
       "      <td>Apartment</td>\n",
       "      <td>1125.0</td>\n",
       "      <td>1 Bed</td>\n",
       "      <td>1</td>\n",
       "      <td>520</td>\n",
       "      <td>/sk/yorkton/rentals/apartment/1-bedroom/pet-fr...</td>\n",
       "      <td>Unfurnished</td>\n",
       "      <td>Immediate</td>\n",
       "      <td>Non-Smoking</td>\n",
       "      <td>True</td>\n",
       "      <td>True</td>\n",
       "    </tr>\n",
       "    <tr>\n",
       "      <th>25769</th>\n",
       "      <td>334284</td>\n",
       "      <td>Yorkton</td>\n",
       "      <td>Saskatchewan</td>\n",
       "      <td>363 Northview Rd</td>\n",
       "      <td>51.202667</td>\n",
       "      <td>-102.485765</td>\n",
       "      <td>Long Term</td>\n",
       "      <td>Apartment</td>\n",
       "      <td>920.0</td>\n",
       "      <td>Studio</td>\n",
       "      <td>1</td>\n",
       "      <td>400</td>\n",
       "      <td>/sk/yorkton/rentals/apartment/1-bedroom/pet-fr...</td>\n",
       "      <td>Unfurnished</td>\n",
       "      <td>Immediate</td>\n",
       "      <td>Non-Smoking</td>\n",
       "      <td>True</td>\n",
       "      <td>True</td>\n",
       "    </tr>\n",
       "    <tr>\n",
       "      <th>25770</th>\n",
       "      <td>334284</td>\n",
       "      <td>Yorkton</td>\n",
       "      <td>Saskatchewan</td>\n",
       "      <td>363 Northview Rd</td>\n",
       "      <td>51.202667</td>\n",
       "      <td>-102.485765</td>\n",
       "      <td>Long Term</td>\n",
       "      <td>Apartment</td>\n",
       "      <td>1285.0</td>\n",
       "      <td>2 Beds</td>\n",
       "      <td>1</td>\n",
       "      <td>700</td>\n",
       "      <td>/sk/yorkton/rentals/apartment/1-bedroom/pet-fr...</td>\n",
       "      <td>Unfurnished</td>\n",
       "      <td>Immediate</td>\n",
       "      <td>Non-Smoking</td>\n",
       "      <td>True</td>\n",
       "      <td>True</td>\n",
       "    </tr>\n",
       "  </tbody>\n",
       "</table>\n",
       "<p>25771 rows × 18 columns</p>\n",
       "</div>"
      ],
      "text/plain": [
       "       rentfaster_id     city      province            address   latitude  \\\n",
       "0             468622  Airdrie       Alberta   69 Gateway Dr NE  51.305962   \n",
       "1             468622  Airdrie       Alberta   69 Gateway Dr NE  51.305962   \n",
       "2             468622  Airdrie       Alberta   69 Gateway Dr NE  51.305962   \n",
       "3             468622  Airdrie       Alberta   69 Gateway Dr NE  51.305962   \n",
       "4             468622  Airdrie       Alberta   69 Gateway Dr NE  51.305962   \n",
       "...              ...      ...           ...                ...        ...   \n",
       "25766         334285  Yorkton  Saskatchewan  18 Allanbrooke Dr  51.203024   \n",
       "25767         334285  Yorkton  Saskatchewan  18 Allanbrooke Dr  51.203024   \n",
       "25768         334284  Yorkton  Saskatchewan   363 Northview Rd  51.202667   \n",
       "25769         334284  Yorkton  Saskatchewan   363 Northview Rd  51.202667   \n",
       "25770         334284  Yorkton  Saskatchewan   363 Northview Rd  51.202667   \n",
       "\n",
       "        longitude lease_term       type   price    beds baths sq_feet  \\\n",
       "0     -114.012515  Long Term  Townhouse  2495.0  2 Beds   2.5    1403   \n",
       "1     -114.012515  Long Term  Townhouse  2695.0  3 Beds   2.5    1496   \n",
       "2     -114.012515  Long Term  Townhouse  2295.0  2 Beds   2.5    1180   \n",
       "3     -114.012515  Long Term  Townhouse  2095.0  2 Beds   2.5    1403   \n",
       "4     -114.012515  Long Term  Townhouse  2495.0  2 Beds   2.5    1403   \n",
       "...           ...        ...        ...     ...     ...   ...     ...   \n",
       "25766 -102.484782  Long Term  Apartment   920.0  Studio     1     400   \n",
       "25767 -102.484782  Long Term  Apartment  1450.0  3 Beds     1     810   \n",
       "25768 -102.485765  Long Term  Apartment  1125.0   1 Bed     1     520   \n",
       "25769 -102.485765  Long Term  Apartment   920.0  Studio     1     400   \n",
       "25770 -102.485765  Long Term  Apartment  1285.0  2 Beds     1     700   \n",
       "\n",
       "                                                    link   furnishing  \\\n",
       "0      /ab/airdrie/rentals/townhouse/2-bedrooms/pet-f...  Unfurnished   \n",
       "1      /ab/airdrie/rentals/townhouse/2-bedrooms/pet-f...  Unfurnished   \n",
       "2      /ab/airdrie/rentals/townhouse/2-bedrooms/pet-f...  Unfurnished   \n",
       "3      /ab/airdrie/rentals/townhouse/2-bedrooms/pet-f...  Unfurnished   \n",
       "4      /ab/airdrie/rentals/townhouse/2-bedrooms/pet-f...  Unfurnished   \n",
       "...                                                  ...          ...   \n",
       "25766  /sk/yorkton/rentals/apartment/3-bedrooms/pet-f...  Unfurnished   \n",
       "25767  /sk/yorkton/rentals/apartment/3-bedrooms/pet-f...  Unfurnished   \n",
       "25768  /sk/yorkton/rentals/apartment/1-bedroom/pet-fr...  Unfurnished   \n",
       "25769  /sk/yorkton/rentals/apartment/1-bedroom/pet-fr...  Unfurnished   \n",
       "25770  /sk/yorkton/rentals/apartment/1-bedroom/pet-fr...  Unfurnished   \n",
       "\n",
       "      availability_date      smoking  cats  dogs  \n",
       "0             Immediate  Non-Smoking  True  True  \n",
       "1             Immediate  Non-Smoking  True  True  \n",
       "2             Immediate  Non-Smoking  True  True  \n",
       "3           November 18  Non-Smoking  True  True  \n",
       "4             Immediate  Non-Smoking  True  True  \n",
       "...                 ...          ...   ...   ...  \n",
       "25766         Immediate  Non-Smoking  True  True  \n",
       "25767         Immediate  Non-Smoking  True  True  \n",
       "25768         Immediate  Non-Smoking  True  True  \n",
       "25769         Immediate  Non-Smoking  True  True  \n",
       "25770         Immediate  Non-Smoking  True  True  \n",
       "\n",
       "[25771 rows x 18 columns]"
      ]
     },
     "execution_count": 4,
     "metadata": {},
     "output_type": "execute_result"
    }
   ],
   "source": [
    "# Read passengers dataset\n",
    "\n",
    "df = pd.read_csv(\"canada_rent.csv\")\n",
    "df"
   ]
  },
  {
   "cell_type": "code",
   "execution_count": 5,
   "id": "a4c7bb42-3262-413a-b6b8-b94c83d21a3a",
   "metadata": {
    "id": "a4c7bb42-3262-413a-b6b8-b94c83d21a3a",
    "outputId": "b3d5d5a3-51e6-4281-98ab-bb8630a8799a"
   },
   "outputs": [
    {
     "name": "stdout",
     "output_type": "stream",
     "text": [
      "<class 'pandas.core.frame.DataFrame'>\n",
      "RangeIndex: 25771 entries, 0 to 25770\n",
      "Data columns (total 18 columns):\n",
      " #   Column             Non-Null Count  Dtype  \n",
      "---  ------             --------------  -----  \n",
      " 0   rentfaster_id      25771 non-null  int64  \n",
      " 1   city               25771 non-null  object \n",
      " 2   province           25771 non-null  object \n",
      " 3   address            25646 non-null  object \n",
      " 4   latitude           25771 non-null  float64\n",
      " 5   longitude          25771 non-null  float64\n",
      " 6   lease_term         25725 non-null  object \n",
      " 7   type               25771 non-null  object \n",
      " 8   price              25771 non-null  float64\n",
      " 9   beds               25639 non-null  object \n",
      " 10  baths              25637 non-null  object \n",
      " 11  sq_feet            21659 non-null  object \n",
      " 12  link               25771 non-null  object \n",
      " 13  furnishing         25771 non-null  object \n",
      " 14  availability_date  25759 non-null  object \n",
      " 15  smoking            23069 non-null  object \n",
      " 16  cats               25598 non-null  object \n",
      " 17  dogs               25598 non-null  object \n",
      "dtypes: float64(3), int64(1), object(14)\n",
      "memory usage: 3.5+ MB\n"
     ]
    }
   ],
   "source": [
    "df.info()"
   ]
  },
  {
   "cell_type": "code",
   "execution_count": 6,
   "id": "7e39e942-e2ed-4cc7-b7a2-3c8b16cda7a4",
   "metadata": {
    "id": "7e39e942-e2ed-4cc7-b7a2-3c8b16cda7a4",
    "outputId": "2ade014e-f6ae-4691-a3c1-1b8fcfe4d213"
   },
   "outputs": [
    {
     "data": {
      "text/html": [
       "<div>\n",
       "<style scoped>\n",
       "    .dataframe tbody tr th:only-of-type {\n",
       "        vertical-align: middle;\n",
       "    }\n",
       "\n",
       "    .dataframe tbody tr th {\n",
       "        vertical-align: top;\n",
       "    }\n",
       "\n",
       "    .dataframe thead th {\n",
       "        text-align: right;\n",
       "    }\n",
       "</style>\n",
       "<table border=\"1\" class=\"dataframe\">\n",
       "  <thead>\n",
       "    <tr style=\"text-align: right;\">\n",
       "      <th></th>\n",
       "      <th>rentfaster_id</th>\n",
       "      <th>latitude</th>\n",
       "      <th>longitude</th>\n",
       "      <th>price</th>\n",
       "    </tr>\n",
       "  </thead>\n",
       "  <tbody>\n",
       "    <tr>\n",
       "      <th>count</th>\n",
       "      <td>25771.000000</td>\n",
       "      <td>25771.000000</td>\n",
       "      <td>25771.000000</td>\n",
       "      <td>25771.000000</td>\n",
       "    </tr>\n",
       "    <tr>\n",
       "      <th>mean</th>\n",
       "      <td>471913.795274</td>\n",
       "      <td>48.903370</td>\n",
       "      <td>-100.332196</td>\n",
       "      <td>2151.624142</td>\n",
       "    </tr>\n",
       "    <tr>\n",
       "      <th>std</th>\n",
       "      <td>120330.335865</td>\n",
       "      <td>3.603257</td>\n",
       "      <td>17.917001</td>\n",
       "      <td>972.820941</td>\n",
       "    </tr>\n",
       "    <tr>\n",
       "      <th>min</th>\n",
       "      <td>820.000000</td>\n",
       "      <td>40.741802</td>\n",
       "      <td>-128.661880</td>\n",
       "      <td>0.000000</td>\n",
       "    </tr>\n",
       "    <tr>\n",
       "      <th>25%</th>\n",
       "      <td>415749.000000</td>\n",
       "      <td>45.418785</td>\n",
       "      <td>-114.074660</td>\n",
       "      <td>1600.000000</td>\n",
       "    </tr>\n",
       "    <tr>\n",
       "      <th>50%</th>\n",
       "      <td>522379.000000</td>\n",
       "      <td>50.913739</td>\n",
       "      <td>-113.513905</td>\n",
       "      <td>2045.000000</td>\n",
       "    </tr>\n",
       "    <tr>\n",
       "      <th>75%</th>\n",
       "      <td>563397.500000</td>\n",
       "      <td>51.093585</td>\n",
       "      <td>-79.401311</td>\n",
       "      <td>2550.000000</td>\n",
       "    </tr>\n",
       "    <tr>\n",
       "      <th>max</th>\n",
       "      <td>572635.000000</td>\n",
       "      <td>62.459246</td>\n",
       "      <td>-52.695472</td>\n",
       "      <td>29990.000000</td>\n",
       "    </tr>\n",
       "  </tbody>\n",
       "</table>\n",
       "</div>"
      ],
      "text/plain": [
       "       rentfaster_id      latitude     longitude         price\n",
       "count   25771.000000  25771.000000  25771.000000  25771.000000\n",
       "mean   471913.795274     48.903370   -100.332196   2151.624142\n",
       "std    120330.335865      3.603257     17.917001    972.820941\n",
       "min       820.000000     40.741802   -128.661880      0.000000\n",
       "25%    415749.000000     45.418785   -114.074660   1600.000000\n",
       "50%    522379.000000     50.913739   -113.513905   2045.000000\n",
       "75%    563397.500000     51.093585    -79.401311   2550.000000\n",
       "max    572635.000000     62.459246    -52.695472  29990.000000"
      ]
     },
     "execution_count": 6,
     "metadata": {},
     "output_type": "execute_result"
    }
   ],
   "source": [
    "df.describe()"
   ]
  },
  {
   "cell_type": "code",
   "execution_count": 7,
   "id": "1286a4e7-4fa2-47a6-b36f-2684f29d5412",
   "metadata": {
    "id": "1286a4e7-4fa2-47a6-b36f-2684f29d5412",
    "outputId": "f59f1265-d938-4cd3-96d1-814d68aac404"
   },
   "outputs": [
    {
     "data": {
      "text/plain": [
       "rentfaster_id           0\n",
       "city                    0\n",
       "province                0\n",
       "address               125\n",
       "latitude                0\n",
       "longitude               0\n",
       "lease_term             46\n",
       "type                    0\n",
       "price                   0\n",
       "beds                  132\n",
       "baths                 134\n",
       "sq_feet              4112\n",
       "link                    0\n",
       "furnishing              0\n",
       "availability_date      12\n",
       "smoking              2702\n",
       "cats                  173\n",
       "dogs                  173\n",
       "dtype: int64"
      ]
     },
     "execution_count": 7,
     "metadata": {},
     "output_type": "execute_result"
    }
   ],
   "source": [
    "# checking for nulls\n",
    "df.isna().sum()"
   ]
  },
  {
   "cell_type": "code",
   "execution_count": 8,
   "id": "fb0bdf63-84d6-40a4-b8b3-29e45de860d5",
   "metadata": {
    "id": "fb0bdf63-84d6-40a4-b8b3-29e45de860d5",
    "outputId": "68e00e6c-cf2e-4532-a5e5-a4b27bee8449"
   },
   "outputs": [
    {
     "data": {
      "text/html": [
       "<div>\n",
       "<style scoped>\n",
       "    .dataframe tbody tr th:only-of-type {\n",
       "        vertical-align: middle;\n",
       "    }\n",
       "\n",
       "    .dataframe tbody tr th {\n",
       "        vertical-align: top;\n",
       "    }\n",
       "\n",
       "    .dataframe thead th {\n",
       "        text-align: right;\n",
       "    }\n",
       "</style>\n",
       "<table border=\"1\" class=\"dataframe\">\n",
       "  <thead>\n",
       "    <tr style=\"text-align: right;\">\n",
       "      <th></th>\n",
       "      <th>rentfaster_id</th>\n",
       "      <th>city</th>\n",
       "      <th>province</th>\n",
       "      <th>address</th>\n",
       "      <th>latitude</th>\n",
       "      <th>longitude</th>\n",
       "      <th>lease_term</th>\n",
       "      <th>type</th>\n",
       "      <th>price</th>\n",
       "      <th>beds</th>\n",
       "      <th>baths</th>\n",
       "      <th>sq_feet</th>\n",
       "      <th>link</th>\n",
       "      <th>furnishing</th>\n",
       "      <th>availability_date</th>\n",
       "      <th>smoking</th>\n",
       "      <th>cats</th>\n",
       "      <th>dogs</th>\n",
       "    </tr>\n",
       "  </thead>\n",
       "  <tbody>\n",
       "    <tr>\n",
       "      <th>700</th>\n",
       "      <td>417846</td>\n",
       "      <td>Calgary</td>\n",
       "      <td>Alberta</td>\n",
       "      <td>919 10 Ave SW</td>\n",
       "      <td>51.043534</td>\n",
       "      <td>-114.082819</td>\n",
       "      <td>Long Term</td>\n",
       "      <td>Apartment</td>\n",
       "      <td>0.0</td>\n",
       "      <td>2 Beds</td>\n",
       "      <td>2</td>\n",
       "      <td>961</td>\n",
       "      <td>/ab/calgary/rentals/apartment/1-bedroom/downto...</td>\n",
       "      <td>Unfurnished</td>\n",
       "      <td>August 01</td>\n",
       "      <td>Non-Smoking</td>\n",
       "      <td>True</td>\n",
       "      <td>True</td>\n",
       "    </tr>\n",
       "    <tr>\n",
       "      <th>4788</th>\n",
       "      <td>359534</td>\n",
       "      <td>Calgary</td>\n",
       "      <td>Alberta</td>\n",
       "      <td>515 4 Ave NE</td>\n",
       "      <td>51.055763</td>\n",
       "      <td>-114.051664</td>\n",
       "      <td>Long Term</td>\n",
       "      <td>Townhouse</td>\n",
       "      <td>0.0</td>\n",
       "      <td>2 Beds</td>\n",
       "      <td>2.5</td>\n",
       "      <td>1,100</td>\n",
       "      <td>/ab/calgary/rentals/apartment/2-bedrooms/bridg...</td>\n",
       "      <td>Unfurnished</td>\n",
       "      <td>No Vacancy</td>\n",
       "      <td>Smoke Free Building</td>\n",
       "      <td>True</td>\n",
       "      <td>True</td>\n",
       "    </tr>\n",
       "    <tr>\n",
       "      <th>4789</th>\n",
       "      <td>359534</td>\n",
       "      <td>Calgary</td>\n",
       "      <td>Alberta</td>\n",
       "      <td>515 4 Ave NE</td>\n",
       "      <td>51.055763</td>\n",
       "      <td>-114.051664</td>\n",
       "      <td>Long Term</td>\n",
       "      <td>Apartment</td>\n",
       "      <td>0.0</td>\n",
       "      <td>2 Beds</td>\n",
       "      <td>2</td>\n",
       "      <td>NaN</td>\n",
       "      <td>/ab/calgary/rentals/apartment/2-bedrooms/bridg...</td>\n",
       "      <td>Unfurnished</td>\n",
       "      <td>No Vacancy</td>\n",
       "      <td>Smoke Free Building</td>\n",
       "      <td>True</td>\n",
       "      <td>True</td>\n",
       "    </tr>\n",
       "    <tr>\n",
       "      <th>4791</th>\n",
       "      <td>359534</td>\n",
       "      <td>Calgary</td>\n",
       "      <td>Alberta</td>\n",
       "      <td>515 4 Ave NE</td>\n",
       "      <td>51.055763</td>\n",
       "      <td>-114.051664</td>\n",
       "      <td>Long Term</td>\n",
       "      <td>Apartment</td>\n",
       "      <td>0.0</td>\n",
       "      <td>2 Beds</td>\n",
       "      <td>2</td>\n",
       "      <td>NaN</td>\n",
       "      <td>/ab/calgary/rentals/apartment/2-bedrooms/bridg...</td>\n",
       "      <td>Unfurnished</td>\n",
       "      <td>No Vacancy</td>\n",
       "      <td>Smoke Free Building</td>\n",
       "      <td>True</td>\n",
       "      <td>True</td>\n",
       "    </tr>\n",
       "    <tr>\n",
       "      <th>4792</th>\n",
       "      <td>359534</td>\n",
       "      <td>Calgary</td>\n",
       "      <td>Alberta</td>\n",
       "      <td>515 4 Ave NE</td>\n",
       "      <td>51.055763</td>\n",
       "      <td>-114.051664</td>\n",
       "      <td>Long Term</td>\n",
       "      <td>Apartment</td>\n",
       "      <td>0.0</td>\n",
       "      <td>2 Beds</td>\n",
       "      <td>2</td>\n",
       "      <td>NaN</td>\n",
       "      <td>/ab/calgary/rentals/apartment/2-bedrooms/bridg...</td>\n",
       "      <td>Unfurnished</td>\n",
       "      <td>No Vacancy</td>\n",
       "      <td>Smoke Free Building</td>\n",
       "      <td>True</td>\n",
       "      <td>True</td>\n",
       "    </tr>\n",
       "    <tr>\n",
       "      <th>...</th>\n",
       "      <td>...</td>\n",
       "      <td>...</td>\n",
       "      <td>...</td>\n",
       "      <td>...</td>\n",
       "      <td>...</td>\n",
       "      <td>...</td>\n",
       "      <td>...</td>\n",
       "      <td>...</td>\n",
       "      <td>...</td>\n",
       "      <td>...</td>\n",
       "      <td>...</td>\n",
       "      <td>...</td>\n",
       "      <td>...</td>\n",
       "      <td>...</td>\n",
       "      <td>...</td>\n",
       "      <td>...</td>\n",
       "      <td>...</td>\n",
       "      <td>...</td>\n",
       "    </tr>\n",
       "    <tr>\n",
       "      <th>24356</th>\n",
       "      <td>536449</td>\n",
       "      <td>Montréal</td>\n",
       "      <td>Quebec</td>\n",
       "      <td>1433 Rue Towers</td>\n",
       "      <td>45.492751</td>\n",
       "      <td>-73.581495</td>\n",
       "      <td>Long Term</td>\n",
       "      <td>Apartment</td>\n",
       "      <td>0.0</td>\n",
       "      <td>Studio</td>\n",
       "      <td>1</td>\n",
       "      <td>0</td>\n",
       "      <td>/qc/montreal/rentals/apartment/1-bedroom/non-s...</td>\n",
       "      <td>Unfurnished</td>\n",
       "      <td>Immediate</td>\n",
       "      <td>Non-Smoking</td>\n",
       "      <td>False</td>\n",
       "      <td>False</td>\n",
       "    </tr>\n",
       "    <tr>\n",
       "      <th>24357</th>\n",
       "      <td>536449</td>\n",
       "      <td>Montréal</td>\n",
       "      <td>Quebec</td>\n",
       "      <td>1433 Rue Towers</td>\n",
       "      <td>45.492751</td>\n",
       "      <td>-73.581495</td>\n",
       "      <td>Long Term</td>\n",
       "      <td>Apartment</td>\n",
       "      <td>0.0</td>\n",
       "      <td>Studio</td>\n",
       "      <td>1</td>\n",
       "      <td>0</td>\n",
       "      <td>/qc/montreal/rentals/apartment/1-bedroom/non-s...</td>\n",
       "      <td>Unfurnished</td>\n",
       "      <td>Immediate</td>\n",
       "      <td>Non-Smoking</td>\n",
       "      <td>False</td>\n",
       "      <td>False</td>\n",
       "    </tr>\n",
       "    <tr>\n",
       "      <th>24358</th>\n",
       "      <td>536449</td>\n",
       "      <td>Montréal</td>\n",
       "      <td>Quebec</td>\n",
       "      <td>1433 Rue Towers</td>\n",
       "      <td>45.492751</td>\n",
       "      <td>-73.581495</td>\n",
       "      <td>Long Term</td>\n",
       "      <td>Apartment</td>\n",
       "      <td>0.0</td>\n",
       "      <td>Studio</td>\n",
       "      <td>1</td>\n",
       "      <td>0</td>\n",
       "      <td>/qc/montreal/rentals/apartment/1-bedroom/non-s...</td>\n",
       "      <td>Unfurnished</td>\n",
       "      <td>Immediate</td>\n",
       "      <td>Non-Smoking</td>\n",
       "      <td>False</td>\n",
       "      <td>False</td>\n",
       "    </tr>\n",
       "    <tr>\n",
       "      <th>24359</th>\n",
       "      <td>536449</td>\n",
       "      <td>Montréal</td>\n",
       "      <td>Quebec</td>\n",
       "      <td>1433 Rue Towers</td>\n",
       "      <td>45.492751</td>\n",
       "      <td>-73.581495</td>\n",
       "      <td>Long Term</td>\n",
       "      <td>Apartment</td>\n",
       "      <td>0.0</td>\n",
       "      <td>Studio</td>\n",
       "      <td>1</td>\n",
       "      <td>0</td>\n",
       "      <td>/qc/montreal/rentals/apartment/1-bedroom/non-s...</td>\n",
       "      <td>Unfurnished</td>\n",
       "      <td>Immediate</td>\n",
       "      <td>Non-Smoking</td>\n",
       "      <td>False</td>\n",
       "      <td>False</td>\n",
       "    </tr>\n",
       "    <tr>\n",
       "      <th>24615</th>\n",
       "      <td>536448</td>\n",
       "      <td>Montréal</td>\n",
       "      <td>Quebec</td>\n",
       "      <td>1150 Rue Sherbrooke East</td>\n",
       "      <td>45.522042</td>\n",
       "      <td>-73.565297</td>\n",
       "      <td>Long Term</td>\n",
       "      <td>Apartment</td>\n",
       "      <td>0.0</td>\n",
       "      <td>Studio</td>\n",
       "      <td>1</td>\n",
       "      <td>0</td>\n",
       "      <td>/qc/montreal/rentals/apartment/1-bedroom/non-s...</td>\n",
       "      <td>Unfurnished</td>\n",
       "      <td>Immediate</td>\n",
       "      <td>Non-Smoking</td>\n",
       "      <td>False</td>\n",
       "      <td>False</td>\n",
       "    </tr>\n",
       "  </tbody>\n",
       "</table>\n",
       "<p>227 rows × 18 columns</p>\n",
       "</div>"
      ],
      "text/plain": [
       "       rentfaster_id      city province                   address   latitude  \\\n",
       "700           417846   Calgary  Alberta             919 10 Ave SW  51.043534   \n",
       "4788          359534   Calgary  Alberta              515 4 Ave NE  51.055763   \n",
       "4789          359534   Calgary  Alberta              515 4 Ave NE  51.055763   \n",
       "4791          359534   Calgary  Alberta              515 4 Ave NE  51.055763   \n",
       "4792          359534   Calgary  Alberta              515 4 Ave NE  51.055763   \n",
       "...              ...       ...      ...                       ...        ...   \n",
       "24356         536449  Montréal   Quebec           1433 Rue Towers  45.492751   \n",
       "24357         536449  Montréal   Quebec           1433 Rue Towers  45.492751   \n",
       "24358         536449  Montréal   Quebec           1433 Rue Towers  45.492751   \n",
       "24359         536449  Montréal   Quebec           1433 Rue Towers  45.492751   \n",
       "24615         536448  Montréal   Quebec  1150 Rue Sherbrooke East  45.522042   \n",
       "\n",
       "        longitude lease_term       type  price    beds baths sq_feet  \\\n",
       "700   -114.082819  Long Term  Apartment    0.0  2 Beds     2     961   \n",
       "4788  -114.051664  Long Term  Townhouse    0.0  2 Beds   2.5   1,100   \n",
       "4789  -114.051664  Long Term  Apartment    0.0  2 Beds     2     NaN   \n",
       "4791  -114.051664  Long Term  Apartment    0.0  2 Beds     2     NaN   \n",
       "4792  -114.051664  Long Term  Apartment    0.0  2 Beds     2     NaN   \n",
       "...           ...        ...        ...    ...     ...   ...     ...   \n",
       "24356  -73.581495  Long Term  Apartment    0.0  Studio     1       0   \n",
       "24357  -73.581495  Long Term  Apartment    0.0  Studio     1       0   \n",
       "24358  -73.581495  Long Term  Apartment    0.0  Studio     1       0   \n",
       "24359  -73.581495  Long Term  Apartment    0.0  Studio     1       0   \n",
       "24615  -73.565297  Long Term  Apartment    0.0  Studio     1       0   \n",
       "\n",
       "                                                    link   furnishing  \\\n",
       "700    /ab/calgary/rentals/apartment/1-bedroom/downto...  Unfurnished   \n",
       "4788   /ab/calgary/rentals/apartment/2-bedrooms/bridg...  Unfurnished   \n",
       "4789   /ab/calgary/rentals/apartment/2-bedrooms/bridg...  Unfurnished   \n",
       "4791   /ab/calgary/rentals/apartment/2-bedrooms/bridg...  Unfurnished   \n",
       "4792   /ab/calgary/rentals/apartment/2-bedrooms/bridg...  Unfurnished   \n",
       "...                                                  ...          ...   \n",
       "24356  /qc/montreal/rentals/apartment/1-bedroom/non-s...  Unfurnished   \n",
       "24357  /qc/montreal/rentals/apartment/1-bedroom/non-s...  Unfurnished   \n",
       "24358  /qc/montreal/rentals/apartment/1-bedroom/non-s...  Unfurnished   \n",
       "24359  /qc/montreal/rentals/apartment/1-bedroom/non-s...  Unfurnished   \n",
       "24615  /qc/montreal/rentals/apartment/1-bedroom/non-s...  Unfurnished   \n",
       "\n",
       "      availability_date              smoking   cats   dogs  \n",
       "700           August 01          Non-Smoking   True   True  \n",
       "4788         No Vacancy  Smoke Free Building   True   True  \n",
       "4789         No Vacancy  Smoke Free Building   True   True  \n",
       "4791         No Vacancy  Smoke Free Building   True   True  \n",
       "4792         No Vacancy  Smoke Free Building   True   True  \n",
       "...                 ...                  ...    ...    ...  \n",
       "24356         Immediate          Non-Smoking  False  False  \n",
       "24357         Immediate          Non-Smoking  False  False  \n",
       "24358         Immediate          Non-Smoking  False  False  \n",
       "24359         Immediate          Non-Smoking  False  False  \n",
       "24615         Immediate          Non-Smoking  False  False  \n",
       "\n",
       "[227 rows x 18 columns]"
      ]
     },
     "execution_count": 8,
     "metadata": {},
     "output_type": "execute_result"
    }
   ],
   "source": [
    "# some rows have a price 0\n",
    "df[df['price']==0]"
   ]
  },
  {
   "cell_type": "markdown",
   "id": "fe6a5ea4-17d4-4595-aa62-ae93a51e544e",
   "metadata": {
    "id": "fe6a5ea4-17d4-4595-aa62-ae93a51e544e"
   },
   "source": [
    "### Column Type analysis"
   ]
  },
  {
   "cell_type": "code",
   "execution_count": 10,
   "id": "2b419b2f-c787-49a8-aa90-a5951d282d31",
   "metadata": {
    "id": "2b419b2f-c787-49a8-aa90-a5951d282d31",
    "outputId": "815fd78d-39d7-43a3-9ea5-64df29a1e5e3"
   },
   "outputs": [
    {
     "data": {
      "text/plain": [
       "array(['Townhouse', 'Apartment', 'Main Floor', 'House', 'Basement',\n",
       "       'Duplex', 'Storage', 'Condo Unit', 'Room For Rent', 'Loft',\n",
       "       'Acreage', 'Office Space', 'Parking Spot', 'Vacation Home',\n",
       "       'Mobile'], dtype=object)"
      ]
     },
     "execution_count": 10,
     "metadata": {},
     "output_type": "execute_result"
    }
   ],
   "source": [
    "df['type'].unique()"
   ]
  },
  {
   "cell_type": "code",
   "execution_count": 11,
   "id": "d9208f57-e6c4-48e6-b563-976c01876500",
   "metadata": {
    "id": "d9208f57-e6c4-48e6-b563-976c01876500",
    "outputId": "5f418e82-39dc-426d-99d3-72b504a2ebff"
   },
   "outputs": [
    {
     "data": {
      "text/plain": [
       "type\n",
       "Acreage             11\n",
       "Apartment        16377\n",
       "Basement          1659\n",
       "Condo Unit        2256\n",
       "Duplex             497\n",
       "House             1607\n",
       "Loft                25\n",
       "Main Floor         810\n",
       "Mobile               2\n",
       "Office Space        87\n",
       "Parking Spot        45\n",
       "Room For Rent      720\n",
       "Storage             43\n",
       "Townhouse         1628\n",
       "Vacation Home        4\n",
       "Name: type, dtype: int64"
      ]
     },
     "execution_count": 11,
     "metadata": {},
     "output_type": "execute_result"
    }
   ],
   "source": [
    "dft = df.groupby('type')\n",
    "dft['type'].count()"
   ]
  },
  {
   "cell_type": "code",
   "execution_count": 12,
   "id": "621db4f6-921b-4aa3-a6f5-ebc8bfb8a79b",
   "metadata": {
    "id": "621db4f6-921b-4aa3-a6f5-ebc8bfb8a79b",
    "outputId": "24d5f0e2-1634-4a27-faf9-c99d8ae1dfa9",
    "scrolled": true
   },
   "outputs": [
    {
     "data": {
      "image/png": "[encoded data removed]",
      "text/plain": [
       "<Figure size 640x480 with 1 Axes>"
      ]
     },
     "metadata": {},
     "output_type": "display_data"
    }
   ],
   "source": [
    "ax=sns.countplot(data = df, x='type')\n",
    "ax.tick_params(axis='x', rotation=45)"
   ]
  },
  {
   "cell_type": "code",
   "execution_count": 13,
   "id": "c4bea981-70a9-48f3-b0d1-bd4dab43729d",
   "metadata": {
    "id": "c4bea981-70a9-48f3-b0d1-bd4dab43729d",
    "outputId": "1bbefe79-cd80-4832-8f01-0ca941fe679d"
   },
   "outputs": [
    {
     "data": {
      "text/html": [
       "<div>\n",
       "<style scoped>\n",
       "    .dataframe tbody tr th:only-of-type {\n",
       "        vertical-align: middle;\n",
       "    }\n",
       "\n",
       "    .dataframe tbody tr th {\n",
       "        vertical-align: top;\n",
       "    }\n",
       "\n",
       "    .dataframe thead th {\n",
       "        text-align: right;\n",
       "    }\n",
       "</style>\n",
       "<table border=\"1\" class=\"dataframe\">\n",
       "  <thead>\n",
       "    <tr style=\"text-align: right;\">\n",
       "      <th></th>\n",
       "      <th>rentfaster_id</th>\n",
       "      <th>city</th>\n",
       "      <th>province</th>\n",
       "      <th>address</th>\n",
       "      <th>latitude</th>\n",
       "      <th>longitude</th>\n",
       "      <th>lease_term</th>\n",
       "      <th>type</th>\n",
       "      <th>price</th>\n",
       "      <th>beds</th>\n",
       "      <th>baths</th>\n",
       "      <th>sq_feet</th>\n",
       "      <th>link</th>\n",
       "      <th>furnishing</th>\n",
       "      <th>availability_date</th>\n",
       "      <th>smoking</th>\n",
       "      <th>cats</th>\n",
       "      <th>dogs</th>\n",
       "    </tr>\n",
       "  </thead>\n",
       "  <tbody>\n",
       "    <tr>\n",
       "      <th>139</th>\n",
       "      <td>425814</td>\n",
       "      <td>Banff</td>\n",
       "      <td>Alberta</td>\n",
       "      <td>100 Jay Street</td>\n",
       "      <td>51.189545</td>\n",
       "      <td>-115.561577</td>\n",
       "      <td>Long Term</td>\n",
       "      <td>Office Space</td>\n",
       "      <td>1050.0</td>\n",
       "      <td>NaN</td>\n",
       "      <td>NaN</td>\n",
       "      <td>NaN</td>\n",
       "      <td>/ab/banff/rentals/office-space/non-smoking/425814</td>\n",
       "      <td>Unfurnished</td>\n",
       "      <td>July 01</td>\n",
       "      <td>Non-Smoking</td>\n",
       "      <td>NaN</td>\n",
       "      <td>NaN</td>\n",
       "    </tr>\n",
       "    <tr>\n",
       "      <th>979</th>\n",
       "      <td>405283</td>\n",
       "      <td>Calgary</td>\n",
       "      <td>Alberta</td>\n",
       "      <td>3825 34 Street Northeast</td>\n",
       "      <td>51.087445</td>\n",
       "      <td>-113.986361</td>\n",
       "      <td>Negotiable</td>\n",
       "      <td>Office Space</td>\n",
       "      <td>900.0</td>\n",
       "      <td>NaN</td>\n",
       "      <td>NaN</td>\n",
       "      <td>NaN</td>\n",
       "      <td>/ab/calgary/rentals/office-space/whitehorn/non...</td>\n",
       "      <td>Unfurnished</td>\n",
       "      <td>Immediate</td>\n",
       "      <td>Non-Smoking</td>\n",
       "      <td>NaN</td>\n",
       "      <td>NaN</td>\n",
       "    </tr>\n",
       "    <tr>\n",
       "      <th>1036</th>\n",
       "      <td>391308</td>\n",
       "      <td>Calgary</td>\n",
       "      <td>Alberta</td>\n",
       "      <td>3825 34 St NE</td>\n",
       "      <td>51.087445</td>\n",
       "      <td>-113.986361</td>\n",
       "      <td>Negotiable</td>\n",
       "      <td>Office Space</td>\n",
       "      <td>2200.0</td>\n",
       "      <td>NaN</td>\n",
       "      <td>NaN</td>\n",
       "      <td>NaN</td>\n",
       "      <td>/ab/calgary/rentals/office-space/whitehorn/non...</td>\n",
       "      <td>Unfurnished</td>\n",
       "      <td>Immediate</td>\n",
       "      <td>Non-Smoking</td>\n",
       "      <td>NaN</td>\n",
       "      <td>NaN</td>\n",
       "    </tr>\n",
       "    <tr>\n",
       "      <th>1079</th>\n",
       "      <td>391308</td>\n",
       "      <td>Calgary</td>\n",
       "      <td>Alberta</td>\n",
       "      <td>3825 34 St NE</td>\n",
       "      <td>51.087445</td>\n",
       "      <td>-113.986361</td>\n",
       "      <td>Negotiable</td>\n",
       "      <td>Office Space</td>\n",
       "      <td>2200.0</td>\n",
       "      <td>NaN</td>\n",
       "      <td>NaN</td>\n",
       "      <td>NaN</td>\n",
       "      <td>/ab/calgary/rentals/office-space/whitehorn/non...</td>\n",
       "      <td>Unfurnished</td>\n",
       "      <td>Immediate</td>\n",
       "      <td>Non-Smoking</td>\n",
       "      <td>NaN</td>\n",
       "      <td>NaN</td>\n",
       "    </tr>\n",
       "    <tr>\n",
       "      <th>1531</th>\n",
       "      <td>406523</td>\n",
       "      <td>Calgary</td>\n",
       "      <td>Alberta</td>\n",
       "      <td>3825 34 St NE</td>\n",
       "      <td>51.087445</td>\n",
       "      <td>-113.986361</td>\n",
       "      <td>Negotiable</td>\n",
       "      <td>Office Space</td>\n",
       "      <td>3000.0</td>\n",
       "      <td>NaN</td>\n",
       "      <td>NaN</td>\n",
       "      <td>NaN</td>\n",
       "      <td>/ab/calgary/rentals/office-space/whitehorn/non...</td>\n",
       "      <td>Unfurnished</td>\n",
       "      <td>Immediate</td>\n",
       "      <td>Non-Smoking</td>\n",
       "      <td>NaN</td>\n",
       "      <td>NaN</td>\n",
       "    </tr>\n",
       "  </tbody>\n",
       "</table>\n",
       "</div>"
      ],
      "text/plain": [
       "      rentfaster_id     city province                   address   latitude  \\\n",
       "139          425814    Banff  Alberta            100 Jay Street  51.189545   \n",
       "979          405283  Calgary  Alberta  3825 34 Street Northeast  51.087445   \n",
       "1036         391308  Calgary  Alberta             3825 34 St NE  51.087445   \n",
       "1079         391308  Calgary  Alberta             3825 34 St NE  51.087445   \n",
       "1531         406523  Calgary  Alberta             3825 34 St NE  51.087445   \n",
       "\n",
       "       longitude  lease_term          type   price beds baths sq_feet  \\\n",
       "139  -115.561577   Long Term  Office Space  1050.0  NaN   NaN     NaN   \n",
       "979  -113.986361  Negotiable  Office Space   900.0  NaN   NaN     NaN   \n",
       "1036 -113.986361  Negotiable  Office Space  2200.0  NaN   NaN     NaN   \n",
       "1079 -113.986361  Negotiable  Office Space  2200.0  NaN   NaN     NaN   \n",
       "1531 -113.986361  Negotiable  Office Space  3000.0  NaN   NaN     NaN   \n",
       "\n",
       "                                                   link   furnishing  \\\n",
       "139   /ab/banff/rentals/office-space/non-smoking/425814  Unfurnished   \n",
       "979   /ab/calgary/rentals/office-space/whitehorn/non...  Unfurnished   \n",
       "1036  /ab/calgary/rentals/office-space/whitehorn/non...  Unfurnished   \n",
       "1079  /ab/calgary/rentals/office-space/whitehorn/non...  Unfurnished   \n",
       "1531  /ab/calgary/rentals/office-space/whitehorn/non...  Unfurnished   \n",
       "\n",
       "     availability_date      smoking cats dogs  \n",
       "139            July 01  Non-Smoking  NaN  NaN  \n",
       "979          Immediate  Non-Smoking  NaN  NaN  \n",
       "1036         Immediate  Non-Smoking  NaN  NaN  \n",
       "1079         Immediate  Non-Smoking  NaN  NaN  \n",
       "1531         Immediate  Non-Smoking  NaN  NaN  "
      ]
     },
     "execution_count": 13,
     "metadata": {},
     "output_type": "execute_result"
    }
   ],
   "source": [
    "df[df['type']=='Office Space'].head()"
   ]
  },
  {
   "cell_type": "code",
   "execution_count": 14,
   "id": "68ea9917-7191-4e0e-ac4e-9bd3e6d66e17",
   "metadata": {
    "id": "68ea9917-7191-4e0e-ac4e-9bd3e6d66e17",
    "outputId": "b2d8ee79-a94e-428f-f4ae-2b026514cb7a"
   },
   "outputs": [
    {
     "data": {
      "text/html": [
       "<div>\n",
       "<style scoped>\n",
       "    .dataframe tbody tr th:only-of-type {\n",
       "        vertical-align: middle;\n",
       "    }\n",
       "\n",
       "    .dataframe tbody tr th {\n",
       "        vertical-align: top;\n",
       "    }\n",
       "\n",
       "    .dataframe thead th {\n",
       "        text-align: right;\n",
       "    }\n",
       "</style>\n",
       "<table border=\"1\" class=\"dataframe\">\n",
       "  <thead>\n",
       "    <tr style=\"text-align: right;\">\n",
       "      <th></th>\n",
       "      <th>rentfaster_id</th>\n",
       "      <th>city</th>\n",
       "      <th>province</th>\n",
       "      <th>address</th>\n",
       "      <th>latitude</th>\n",
       "      <th>longitude</th>\n",
       "      <th>lease_term</th>\n",
       "      <th>type</th>\n",
       "      <th>price</th>\n",
       "      <th>beds</th>\n",
       "      <th>baths</th>\n",
       "      <th>sq_feet</th>\n",
       "      <th>link</th>\n",
       "      <th>furnishing</th>\n",
       "      <th>availability_date</th>\n",
       "      <th>smoking</th>\n",
       "      <th>cats</th>\n",
       "      <th>dogs</th>\n",
       "    </tr>\n",
       "  </thead>\n",
       "  <tbody>\n",
       "    <tr>\n",
       "      <th>8135</th>\n",
       "      <td>487837</td>\n",
       "      <td>Edson</td>\n",
       "      <td>Alberta</td>\n",
       "      <td>851 63 Street</td>\n",
       "      <td>53.583858</td>\n",
       "      <td>-116.455695</td>\n",
       "      <td>Negotiable</td>\n",
       "      <td>Mobile</td>\n",
       "      <td>2900.0</td>\n",
       "      <td>4 Beds</td>\n",
       "      <td>2</td>\n",
       "      <td>1398.24</td>\n",
       "      <td>/ab/edson/rentals/mobile/4-bedrooms/pet-friend...</td>\n",
       "      <td>Furnished</td>\n",
       "      <td>Immediate</td>\n",
       "      <td>Non-Smoking</td>\n",
       "      <td>True</td>\n",
       "      <td>True</td>\n",
       "    </tr>\n",
       "    <tr>\n",
       "      <th>8771</th>\n",
       "      <td>438014</td>\n",
       "      <td>Strathmore</td>\n",
       "      <td>Alberta</td>\n",
       "      <td>NaN</td>\n",
       "      <td>51.039119</td>\n",
       "      <td>-113.283965</td>\n",
       "      <td>Negotiable</td>\n",
       "      <td>Mobile</td>\n",
       "      <td>1500.0</td>\n",
       "      <td>2 Beds</td>\n",
       "      <td>1</td>\n",
       "      <td>single wide</td>\n",
       "      <td>/ab/strathmore/rentals/mobile/2-bedrooms/non-s...</td>\n",
       "      <td>Unfurnished</td>\n",
       "      <td>Immediate</td>\n",
       "      <td>Non-Smoking</td>\n",
       "      <td>False</td>\n",
       "      <td>False</td>\n",
       "    </tr>\n",
       "  </tbody>\n",
       "</table>\n",
       "</div>"
      ],
      "text/plain": [
       "      rentfaster_id        city province        address   latitude  \\\n",
       "8135         487837       Edson  Alberta  851 63 Street  53.583858   \n",
       "8771         438014  Strathmore  Alberta            NaN  51.039119   \n",
       "\n",
       "       longitude  lease_term    type   price    beds baths      sq_feet  \\\n",
       "8135 -116.455695  Negotiable  Mobile  2900.0  4 Beds     2      1398.24   \n",
       "8771 -113.283965  Negotiable  Mobile  1500.0  2 Beds     1  single wide   \n",
       "\n",
       "                                                   link   furnishing  \\\n",
       "8135  /ab/edson/rentals/mobile/4-bedrooms/pet-friend...    Furnished   \n",
       "8771  /ab/strathmore/rentals/mobile/2-bedrooms/non-s...  Unfurnished   \n",
       "\n",
       "     availability_date      smoking   cats   dogs  \n",
       "8135         Immediate  Non-Smoking   True   True  \n",
       "8771         Immediate  Non-Smoking  False  False  "
      ]
     },
     "execution_count": 14,
     "metadata": {},
     "output_type": "execute_result"
    }
   ],
   "source": [
    "df[df['type']=='Mobile']"
   ]
  },
  {
   "cell_type": "code",
   "execution_count": 15,
   "id": "cf8ae923-155c-4c00-a7b4-72804e6d9c8f",
   "metadata": {
    "id": "cf8ae923-155c-4c00-a7b4-72804e6d9c8f",
    "outputId": "e1151e03-142e-43cc-e325-8de265d9a7d5"
   },
   "outputs": [
    {
     "data": {
      "text/html": [
       "<div>\n",
       "<style scoped>\n",
       "    .dataframe tbody tr th:only-of-type {\n",
       "        vertical-align: middle;\n",
       "    }\n",
       "\n",
       "    .dataframe tbody tr th {\n",
       "        vertical-align: top;\n",
       "    }\n",
       "\n",
       "    .dataframe thead th {\n",
       "        text-align: right;\n",
       "    }\n",
       "</style>\n",
       "<table border=\"1\" class=\"dataframe\">\n",
       "  <thead>\n",
       "    <tr style=\"text-align: right;\">\n",
       "      <th></th>\n",
       "      <th>rentfaster_id</th>\n",
       "      <th>city</th>\n",
       "      <th>province</th>\n",
       "      <th>address</th>\n",
       "      <th>latitude</th>\n",
       "      <th>longitude</th>\n",
       "      <th>lease_term</th>\n",
       "      <th>type</th>\n",
       "      <th>price</th>\n",
       "      <th>beds</th>\n",
       "      <th>baths</th>\n",
       "      <th>sq_feet</th>\n",
       "      <th>link</th>\n",
       "      <th>furnishing</th>\n",
       "      <th>availability_date</th>\n",
       "      <th>smoking</th>\n",
       "      <th>cats</th>\n",
       "      <th>dogs</th>\n",
       "    </tr>\n",
       "  </thead>\n",
       "  <tbody>\n",
       "    <tr>\n",
       "      <th>850</th>\n",
       "      <td>562599</td>\n",
       "      <td>Calgary</td>\n",
       "      <td>Alberta</td>\n",
       "      <td>340 14 Avenue Southwest</td>\n",
       "      <td>51.039983</td>\n",
       "      <td>-114.070754</td>\n",
       "      <td>Short Term</td>\n",
       "      <td>Parking Spot</td>\n",
       "      <td>120.0</td>\n",
       "      <td>NaN</td>\n",
       "      <td>NaN</td>\n",
       "      <td>NaN</td>\n",
       "      <td>/ab/calgary/rentals/parking-spot/beltline/shor...</td>\n",
       "      <td>Unfurnished</td>\n",
       "      <td>Immediate</td>\n",
       "      <td>Non-Smoking</td>\n",
       "      <td>NaN</td>\n",
       "      <td>NaN</td>\n",
       "    </tr>\n",
       "    <tr>\n",
       "      <th>958</th>\n",
       "      <td>78435</td>\n",
       "      <td>Calgary</td>\n",
       "      <td>Alberta</td>\n",
       "      <td>339 13 Ave SW</td>\n",
       "      <td>51.040467</td>\n",
       "      <td>-114.070707</td>\n",
       "      <td>Negotiable</td>\n",
       "      <td>Parking Spot</td>\n",
       "      <td>1990.0</td>\n",
       "      <td>1 Bed</td>\n",
       "      <td>1</td>\n",
       "      <td>550</td>\n",
       "      <td>/ab/calgary/rentals/parking-spot/1-bedroom/vic...</td>\n",
       "      <td>Furnished</td>\n",
       "      <td>Immediate</td>\n",
       "      <td>Non-Smoking</td>\n",
       "      <td>NaN</td>\n",
       "      <td>NaN</td>\n",
       "    </tr>\n",
       "    <tr>\n",
       "      <th>1144</th>\n",
       "      <td>436371</td>\n",
       "      <td>Calgary</td>\n",
       "      <td>Alberta</td>\n",
       "      <td>1122 3 Street Southeast</td>\n",
       "      <td>51.041727</td>\n",
       "      <td>-114.055424</td>\n",
       "      <td>Negotiable</td>\n",
       "      <td>Parking Spot</td>\n",
       "      <td>275.0</td>\n",
       "      <td>NaN</td>\n",
       "      <td>NaN</td>\n",
       "      <td>NaN</td>\n",
       "      <td>/ab/calgary/rentals/parking-spot/victoria-park...</td>\n",
       "      <td>Unfurnished</td>\n",
       "      <td>Immediate</td>\n",
       "      <td>Non-Smoking</td>\n",
       "      <td>NaN</td>\n",
       "      <td>NaN</td>\n",
       "    </tr>\n",
       "    <tr>\n",
       "      <th>1179</th>\n",
       "      <td>436371</td>\n",
       "      <td>Calgary</td>\n",
       "      <td>Alberta</td>\n",
       "      <td>1122 3 Street Southeast</td>\n",
       "      <td>51.041727</td>\n",
       "      <td>-114.055424</td>\n",
       "      <td>Negotiable</td>\n",
       "      <td>Parking Spot</td>\n",
       "      <td>275.0</td>\n",
       "      <td>NaN</td>\n",
       "      <td>NaN</td>\n",
       "      <td>NaN</td>\n",
       "      <td>/ab/calgary/rentals/parking-spot/victoria-park...</td>\n",
       "      <td>Unfurnished</td>\n",
       "      <td>Immediate</td>\n",
       "      <td>Non-Smoking</td>\n",
       "      <td>NaN</td>\n",
       "      <td>NaN</td>\n",
       "    </tr>\n",
       "    <tr>\n",
       "      <th>1425</th>\n",
       "      <td>496487</td>\n",
       "      <td>Calgary</td>\n",
       "      <td>Alberta</td>\n",
       "      <td>339 13 Avenue Southwest</td>\n",
       "      <td>51.040683</td>\n",
       "      <td>-114.070900</td>\n",
       "      <td>Negotiable</td>\n",
       "      <td>Parking Spot</td>\n",
       "      <td>180.0</td>\n",
       "      <td>NaN</td>\n",
       "      <td>NaN</td>\n",
       "      <td>NaN</td>\n",
       "      <td>/ab/calgary/rentals/parking-spot/beltline/non-...</td>\n",
       "      <td>Unfurnished</td>\n",
       "      <td>Immediate</td>\n",
       "      <td>Non-Smoking</td>\n",
       "      <td>NaN</td>\n",
       "      <td>NaN</td>\n",
       "    </tr>\n",
       "  </tbody>\n",
       "</table>\n",
       "</div>"
      ],
      "text/plain": [
       "      rentfaster_id     city province                  address   latitude  \\\n",
       "850          562599  Calgary  Alberta  340 14 Avenue Southwest  51.039983   \n",
       "958           78435  Calgary  Alberta            339 13 Ave SW  51.040467   \n",
       "1144         436371  Calgary  Alberta  1122 3 Street Southeast  51.041727   \n",
       "1179         436371  Calgary  Alberta  1122 3 Street Southeast  51.041727   \n",
       "1425         496487  Calgary  Alberta  339 13 Avenue Southwest  51.040683   \n",
       "\n",
       "       longitude  lease_term          type   price   beds baths sq_feet  \\\n",
       "850  -114.070754  Short Term  Parking Spot   120.0    NaN   NaN     NaN   \n",
       "958  -114.070707  Negotiable  Parking Spot  1990.0  1 Bed     1     550   \n",
       "1144 -114.055424  Negotiable  Parking Spot   275.0    NaN   NaN     NaN   \n",
       "1179 -114.055424  Negotiable  Parking Spot   275.0    NaN   NaN     NaN   \n",
       "1425 -114.070900  Negotiable  Parking Spot   180.0    NaN   NaN     NaN   \n",
       "\n",
       "                                                   link   furnishing  \\\n",
       "850   /ab/calgary/rentals/parking-spot/beltline/shor...  Unfurnished   \n",
       "958   /ab/calgary/rentals/parking-spot/1-bedroom/vic...    Furnished   \n",
       "1144  /ab/calgary/rentals/parking-spot/victoria-park...  Unfurnished   \n",
       "1179  /ab/calgary/rentals/parking-spot/victoria-park...  Unfurnished   \n",
       "1425  /ab/calgary/rentals/parking-spot/beltline/non-...  Unfurnished   \n",
       "\n",
       "     availability_date      smoking cats dogs  \n",
       "850          Immediate  Non-Smoking  NaN  NaN  \n",
       "958          Immediate  Non-Smoking  NaN  NaN  \n",
       "1144         Immediate  Non-Smoking  NaN  NaN  \n",
       "1179         Immediate  Non-Smoking  NaN  NaN  \n",
       "1425         Immediate  Non-Smoking  NaN  NaN  "
      ]
     },
     "execution_count": 15,
     "metadata": {},
     "output_type": "execute_result"
    }
   ],
   "source": [
    "df[df['type']=='Parking Spot'].head()"
   ]
  },
  {
   "cell_type": "code",
   "execution_count": 16,
   "id": "8b8a8fbc-d8d5-47d0-b804-38c250f0b616",
   "metadata": {
    "id": "8b8a8fbc-d8d5-47d0-b804-38c250f0b616",
    "outputId": "223c4c57-3493-44bb-e456-a541a6b71728"
   },
   "outputs": [
    {
     "data": {
      "text/html": [
       "<div>\n",
       "<style scoped>\n",
       "    .dataframe tbody tr th:only-of-type {\n",
       "        vertical-align: middle;\n",
       "    }\n",
       "\n",
       "    .dataframe tbody tr th {\n",
       "        vertical-align: top;\n",
       "    }\n",
       "\n",
       "    .dataframe thead th {\n",
       "        text-align: right;\n",
       "    }\n",
       "</style>\n",
       "<table border=\"1\" class=\"dataframe\">\n",
       "  <thead>\n",
       "    <tr style=\"text-align: right;\">\n",
       "      <th></th>\n",
       "      <th>rentfaster_id</th>\n",
       "      <th>city</th>\n",
       "      <th>province</th>\n",
       "      <th>address</th>\n",
       "      <th>latitude</th>\n",
       "      <th>longitude</th>\n",
       "      <th>lease_term</th>\n",
       "      <th>type</th>\n",
       "      <th>price</th>\n",
       "      <th>beds</th>\n",
       "      <th>baths</th>\n",
       "      <th>sq_feet</th>\n",
       "      <th>link</th>\n",
       "      <th>furnishing</th>\n",
       "      <th>availability_date</th>\n",
       "      <th>smoking</th>\n",
       "      <th>cats</th>\n",
       "      <th>dogs</th>\n",
       "    </tr>\n",
       "  </thead>\n",
       "  <tbody>\n",
       "    <tr>\n",
       "      <th>58</th>\n",
       "      <td>496249</td>\n",
       "      <td>Airdrie</td>\n",
       "      <td>Alberta</td>\n",
       "      <td>NaN</td>\n",
       "      <td>51.269920</td>\n",
       "      <td>-114.042900</td>\n",
       "      <td>Long Term</td>\n",
       "      <td>Room For Rent</td>\n",
       "      <td>800.0</td>\n",
       "      <td>1 Bed</td>\n",
       "      <td>1</td>\n",
       "      <td>1750</td>\n",
       "      <td>/ab/airdrie/rentals/shared/1-bedroom/non-smoki...</td>\n",
       "      <td>Negotiable</td>\n",
       "      <td>Immediate</td>\n",
       "      <td>Non-Smoking</td>\n",
       "      <td>False</td>\n",
       "      <td>False</td>\n",
       "    </tr>\n",
       "    <tr>\n",
       "      <th>66</th>\n",
       "      <td>562560</td>\n",
       "      <td>Airdrie</td>\n",
       "      <td>Alberta</td>\n",
       "      <td>NaN</td>\n",
       "      <td>51.269541</td>\n",
       "      <td>-113.985951</td>\n",
       "      <td>Long Term</td>\n",
       "      <td>Room For Rent</td>\n",
       "      <td>850.0</td>\n",
       "      <td>1 Bed</td>\n",
       "      <td>1</td>\n",
       "      <td>2500</td>\n",
       "      <td>/ab/airdrie/rentals/shared/1-bedroom/furnished...</td>\n",
       "      <td>Furnished</td>\n",
       "      <td>Immediate</td>\n",
       "      <td>Non-Smoking</td>\n",
       "      <td>False</td>\n",
       "      <td>False</td>\n",
       "    </tr>\n",
       "    <tr>\n",
       "      <th>71</th>\n",
       "      <td>552555</td>\n",
       "      <td>Airdrie</td>\n",
       "      <td>Alberta</td>\n",
       "      <td>NaN</td>\n",
       "      <td>51.285875</td>\n",
       "      <td>-114.016541</td>\n",
       "      <td>Negotiable</td>\n",
       "      <td>Room For Rent</td>\n",
       "      <td>780.0</td>\n",
       "      <td>1 Bed</td>\n",
       "      <td>1</td>\n",
       "      <td>NaN</td>\n",
       "      <td>/ab/airdrie/rentals/shared/1-bedroom/furnished...</td>\n",
       "      <td>Furnished</td>\n",
       "      <td>Immediate</td>\n",
       "      <td>Non-Smoking</td>\n",
       "      <td>False</td>\n",
       "      <td>False</td>\n",
       "    </tr>\n",
       "    <tr>\n",
       "      <th>72</th>\n",
       "      <td>561775</td>\n",
       "      <td>Airdrie</td>\n",
       "      <td>Alberta</td>\n",
       "      <td>462 Bayview Manor Southwest</td>\n",
       "      <td>51.283152</td>\n",
       "      <td>-114.045917</td>\n",
       "      <td>Short Term</td>\n",
       "      <td>Room For Rent</td>\n",
       "      <td>700.0</td>\n",
       "      <td>1 Bed</td>\n",
       "      <td>1</td>\n",
       "      <td>1600</td>\n",
       "      <td>/ab/airdrie/rentals/shared/1-bedroom/short-ter...</td>\n",
       "      <td>Furnished</td>\n",
       "      <td>Immediate</td>\n",
       "      <td>Non-Smoking</td>\n",
       "      <td>False</td>\n",
       "      <td>False</td>\n",
       "    </tr>\n",
       "    <tr>\n",
       "      <th>73</th>\n",
       "      <td>346569</td>\n",
       "      <td>Airdrie</td>\n",
       "      <td>Alberta</td>\n",
       "      <td>NaN</td>\n",
       "      <td>51.267260</td>\n",
       "      <td>-114.011827</td>\n",
       "      <td>Negotiable</td>\n",
       "      <td>Room For Rent</td>\n",
       "      <td>850.0</td>\n",
       "      <td>1 Bed</td>\n",
       "      <td>1</td>\n",
       "      <td>NaN</td>\n",
       "      <td>/ab/airdrie/rentals/shared/1-bedroom/non-smoki...</td>\n",
       "      <td>Negotiable</td>\n",
       "      <td>Immediate</td>\n",
       "      <td>Non-Smoking</td>\n",
       "      <td>False</td>\n",
       "      <td>False</td>\n",
       "    </tr>\n",
       "  </tbody>\n",
       "</table>\n",
       "</div>"
      ],
      "text/plain": [
       "    rentfaster_id     city province                      address   latitude  \\\n",
       "58         496249  Airdrie  Alberta                          NaN  51.269920   \n",
       "66         562560  Airdrie  Alberta                          NaN  51.269541   \n",
       "71         552555  Airdrie  Alberta                          NaN  51.285875   \n",
       "72         561775  Airdrie  Alberta  462 Bayview Manor Southwest  51.283152   \n",
       "73         346569  Airdrie  Alberta                          NaN  51.267260   \n",
       "\n",
       "     longitude  lease_term           type  price   beds baths sq_feet  \\\n",
       "58 -114.042900   Long Term  Room For Rent  800.0  1 Bed     1    1750   \n",
       "66 -113.985951   Long Term  Room For Rent  850.0  1 Bed     1    2500   \n",
       "71 -114.016541  Negotiable  Room For Rent  780.0  1 Bed     1     NaN   \n",
       "72 -114.045917  Short Term  Room For Rent  700.0  1 Bed     1    1600   \n",
       "73 -114.011827  Negotiable  Room For Rent  850.0  1 Bed     1     NaN   \n",
       "\n",
       "                                                 link  furnishing  \\\n",
       "58  /ab/airdrie/rentals/shared/1-bedroom/non-smoki...  Negotiable   \n",
       "66  /ab/airdrie/rentals/shared/1-bedroom/furnished...   Furnished   \n",
       "71  /ab/airdrie/rentals/shared/1-bedroom/furnished...   Furnished   \n",
       "72  /ab/airdrie/rentals/shared/1-bedroom/short-ter...   Furnished   \n",
       "73  /ab/airdrie/rentals/shared/1-bedroom/non-smoki...  Negotiable   \n",
       "\n",
       "   availability_date      smoking   cats   dogs  \n",
       "58         Immediate  Non-Smoking  False  False  \n",
       "66         Immediate  Non-Smoking  False  False  \n",
       "71         Immediate  Non-Smoking  False  False  \n",
       "72         Immediate  Non-Smoking  False  False  \n",
       "73         Immediate  Non-Smoking  False  False  "
      ]
     },
     "execution_count": 16,
     "metadata": {},
     "output_type": "execute_result"
    }
   ],
   "source": [
    "df[df['type']=='Room For Rent'].head()"
   ]
  },
  {
   "cell_type": "code",
   "execution_count": 17,
   "id": "53f91cbc-5a22-4e7f-8e05-80c15c8f47a0",
   "metadata": {
    "id": "53f91cbc-5a22-4e7f-8e05-80c15c8f47a0",
    "outputId": "b993fd89-2557-4771-daf1-828faf6eb416"
   },
   "outputs": [
    {
     "data": {
      "text/html": [
       "<div>\n",
       "<style scoped>\n",
       "    .dataframe tbody tr th:only-of-type {\n",
       "        vertical-align: middle;\n",
       "    }\n",
       "\n",
       "    .dataframe tbody tr th {\n",
       "        vertical-align: top;\n",
       "    }\n",
       "\n",
       "    .dataframe thead th {\n",
       "        text-align: right;\n",
       "    }\n",
       "</style>\n",
       "<table border=\"1\" class=\"dataframe\">\n",
       "  <thead>\n",
       "    <tr style=\"text-align: right;\">\n",
       "      <th></th>\n",
       "      <th>rentfaster_id</th>\n",
       "      <th>city</th>\n",
       "      <th>province</th>\n",
       "      <th>address</th>\n",
       "      <th>latitude</th>\n",
       "      <th>longitude</th>\n",
       "      <th>lease_term</th>\n",
       "      <th>type</th>\n",
       "      <th>price</th>\n",
       "      <th>beds</th>\n",
       "      <th>baths</th>\n",
       "      <th>sq_feet</th>\n",
       "      <th>link</th>\n",
       "      <th>furnishing</th>\n",
       "      <th>availability_date</th>\n",
       "      <th>smoking</th>\n",
       "      <th>cats</th>\n",
       "      <th>dogs</th>\n",
       "    </tr>\n",
       "  </thead>\n",
       "  <tbody>\n",
       "    <tr>\n",
       "      <th>42</th>\n",
       "      <td>571557</td>\n",
       "      <td>Airdrie</td>\n",
       "      <td>Alberta</td>\n",
       "      <td>NaN</td>\n",
       "      <td>51.258837</td>\n",
       "      <td>-114.025663</td>\n",
       "      <td>Long Term</td>\n",
       "      <td>Storage</td>\n",
       "      <td>600.0</td>\n",
       "      <td>NaN</td>\n",
       "      <td>NaN</td>\n",
       "      <td>NaN</td>\n",
       "      <td>/ab/airdrie/rentals/storage/non-smoking/571557</td>\n",
       "      <td>Unfurnished</td>\n",
       "      <td>Immediate</td>\n",
       "      <td>Non-Smoking</td>\n",
       "      <td>NaN</td>\n",
       "      <td>NaN</td>\n",
       "    </tr>\n",
       "    <tr>\n",
       "      <th>135</th>\n",
       "      <td>568889</td>\n",
       "      <td>Aldersyde</td>\n",
       "      <td>Alberta</td>\n",
       "      <td>64057 338 Avenue East</td>\n",
       "      <td>50.746203</td>\n",
       "      <td>-113.900507</td>\n",
       "      <td>Negotiable</td>\n",
       "      <td>Storage</td>\n",
       "      <td>3000.0</td>\n",
       "      <td>NaN</td>\n",
       "      <td>NaN</td>\n",
       "      <td>NaN</td>\n",
       "      <td>/ab/aldersyde/rentals/storage/non-smoking/568889</td>\n",
       "      <td>Unfurnished</td>\n",
       "      <td>Immediate</td>\n",
       "      <td>Non-Smoking</td>\n",
       "      <td>NaN</td>\n",
       "      <td>NaN</td>\n",
       "    </tr>\n",
       "    <tr>\n",
       "      <th>1346</th>\n",
       "      <td>318779</td>\n",
       "      <td>Calgary</td>\n",
       "      <td>Alberta</td>\n",
       "      <td>24159 Aspen Drive Calgary Alberta</td>\n",
       "      <td>51.162839</td>\n",
       "      <td>-114.247508</td>\n",
       "      <td>Long Term</td>\n",
       "      <td>Storage</td>\n",
       "      <td>1.0</td>\n",
       "      <td>NaN</td>\n",
       "      <td>NaN</td>\n",
       "      <td>NaN</td>\n",
       "      <td>/ab/calgary/rentals/storage/bearspaw/non-smoki...</td>\n",
       "      <td>Unfurnished</td>\n",
       "      <td>Immediate</td>\n",
       "      <td>Non-Smoking</td>\n",
       "      <td>NaN</td>\n",
       "      <td>NaN</td>\n",
       "    </tr>\n",
       "    <tr>\n",
       "      <th>1633</th>\n",
       "      <td>550496</td>\n",
       "      <td>Calgary</td>\n",
       "      <td>Alberta</td>\n",
       "      <td>4119 46 Avenue Southwest</td>\n",
       "      <td>51.012231</td>\n",
       "      <td>-114.145292</td>\n",
       "      <td>Negotiable</td>\n",
       "      <td>Storage</td>\n",
       "      <td>500.0</td>\n",
       "      <td>NaN</td>\n",
       "      <td>NaN</td>\n",
       "      <td>NaN</td>\n",
       "      <td>/ab/calgary/rentals/storage/glamorgan/non-smok...</td>\n",
       "      <td>Unfurnished</td>\n",
       "      <td>Immediate</td>\n",
       "      <td>Non-Smoking</td>\n",
       "      <td>NaN</td>\n",
       "      <td>NaN</td>\n",
       "    </tr>\n",
       "    <tr>\n",
       "      <th>1706</th>\n",
       "      <td>366847</td>\n",
       "      <td>Calgary</td>\n",
       "      <td>Alberta</td>\n",
       "      <td>515 Northmount Drive Northwest</td>\n",
       "      <td>51.089932</td>\n",
       "      <td>-114.084675</td>\n",
       "      <td>Negotiable</td>\n",
       "      <td>Storage</td>\n",
       "      <td>200.0</td>\n",
       "      <td>NaN</td>\n",
       "      <td>NaN</td>\n",
       "      <td>NaN</td>\n",
       "      <td>/ab/calgary/rentals/storage/highwood/non-smoki...</td>\n",
       "      <td>Unfurnished</td>\n",
       "      <td>Immediate</td>\n",
       "      <td>Non-Smoking</td>\n",
       "      <td>NaN</td>\n",
       "      <td>NaN</td>\n",
       "    </tr>\n",
       "  </tbody>\n",
       "</table>\n",
       "</div>"
      ],
      "text/plain": [
       "      rentfaster_id       city province                            address  \\\n",
       "42           571557    Airdrie  Alberta                                NaN   \n",
       "135          568889  Aldersyde  Alberta              64057 338 Avenue East   \n",
       "1346         318779    Calgary  Alberta  24159 Aspen Drive Calgary Alberta   \n",
       "1633         550496    Calgary  Alberta           4119 46 Avenue Southwest   \n",
       "1706         366847    Calgary  Alberta     515 Northmount Drive Northwest   \n",
       "\n",
       "       latitude   longitude  lease_term     type   price beds baths sq_feet  \\\n",
       "42    51.258837 -114.025663   Long Term  Storage   600.0  NaN   NaN     NaN   \n",
       "135   50.746203 -113.900507  Negotiable  Storage  3000.0  NaN   NaN     NaN   \n",
       "1346  51.162839 -114.247508   Long Term  Storage     1.0  NaN   NaN     NaN   \n",
       "1633  51.012231 -114.145292  Negotiable  Storage   500.0  NaN   NaN     NaN   \n",
       "1706  51.089932 -114.084675  Negotiable  Storage   200.0  NaN   NaN     NaN   \n",
       "\n",
       "                                                   link   furnishing  \\\n",
       "42       /ab/airdrie/rentals/storage/non-smoking/571557  Unfurnished   \n",
       "135    /ab/aldersyde/rentals/storage/non-smoking/568889  Unfurnished   \n",
       "1346  /ab/calgary/rentals/storage/bearspaw/non-smoki...  Unfurnished   \n",
       "1633  /ab/calgary/rentals/storage/glamorgan/non-smok...  Unfurnished   \n",
       "1706  /ab/calgary/rentals/storage/highwood/non-smoki...  Unfurnished   \n",
       "\n",
       "     availability_date      smoking cats dogs  \n",
       "42           Immediate  Non-Smoking  NaN  NaN  \n",
       "135          Immediate  Non-Smoking  NaN  NaN  \n",
       "1346         Immediate  Non-Smoking  NaN  NaN  \n",
       "1633         Immediate  Non-Smoking  NaN  NaN  \n",
       "1706         Immediate  Non-Smoking  NaN  NaN  "
      ]
     },
     "execution_count": 17,
     "metadata": {},
     "output_type": "execute_result"
    }
   ],
   "source": [
    "df[df['type']=='Storage'].head()"
   ]
  },
  {
   "cell_type": "code",
   "execution_count": 18,
   "id": "da4a2906-c11b-46dc-924d-7b102b44cb94",
   "metadata": {
    "id": "da4a2906-c11b-46dc-924d-7b102b44cb94",
    "outputId": "90ae1ae8-7ae2-4810-acfe-16eae29fd64f"
   },
   "outputs": [
    {
     "data": {
      "image/png": "[encoded data removed]",
      "text/plain": [
       "<Figure size 640x480 with 1 Axes>"
      ]
     },
     "metadata": {},
     "output_type": "display_data"
    }
   ],
   "source": [
    "ax = sns.scatterplot(data = df, x = 'type', y = 'price');\n",
    "ax.tick_params(axis='x', rotation=45)"
   ]
  },
  {
   "cell_type": "markdown",
   "id": "47e826ae-1213-46c5-b686-0c422392e3c8",
   "metadata": {
    "id": "47e826ae-1213-46c5-b686-0c422392e3c8"
   },
   "source": [
    "### Column Province analysis"
   ]
  },
  {
   "cell_type": "code",
   "execution_count": 20,
   "id": "4943a695-091a-4c70-83ef-1c76df19843e",
   "metadata": {
    "id": "4943a695-091a-4c70-83ef-1c76df19843e",
    "outputId": "8c86dd30-f7a0-47bc-e340-e56bc3a8e92c"
   },
   "outputs": [
    {
     "data": {
      "text/plain": [
       "array(['Alberta', 'British Columbia', 'Manitoba', 'New Brunswick',\n",
       "       'Newfoundland and Labrador', 'Nova Scotia',\n",
       "       'Northwest Territories', 'Ontario', 'Quebec', 'Saskatchewan'],\n",
       "      dtype=object)"
      ]
     },
     "execution_count": 20,
     "metadata": {},
     "output_type": "execute_result"
    }
   ],
   "source": [
    "df['province'].unique()"
   ]
  },
  {
   "cell_type": "code",
   "execution_count": 21,
   "id": "dcf7970b-75d3-49f8-bceb-b2ece9d96144",
   "metadata": {
    "id": "dcf7970b-75d3-49f8-bceb-b2ece9d96144",
    "outputId": "a49e21a1-4ba6-4272-f703-0f7d7e5ad462"
   },
   "outputs": [
    {
     "data": {
      "text/plain": [
       "province\n",
       "Alberta                      13777\n",
       "British Columbia              1154\n",
       "Manitoba                       890\n",
       "New Brunswick                   13\n",
       "Newfoundland and Labrador       12\n",
       "Northwest Territories           20\n",
       "Nova Scotia                    281\n",
       "Ontario                       6627\n",
       "Quebec                        2269\n",
       "Saskatchewan                   728\n",
       "Name: province, dtype: int64"
      ]
     },
     "execution_count": 21,
     "metadata": {},
     "output_type": "execute_result"
    }
   ],
   "source": [
    "dfp = df.groupby('province')\n",
    "dfp['province'].count()"
   ]
  },
  {
   "cell_type": "code",
   "execution_count": 22,
   "id": "ddcd8955-ecea-4c3d-9a1d-a58d513aefe5",
   "metadata": {
    "id": "ddcd8955-ecea-4c3d-9a1d-a58d513aefe5",
    "outputId": "09e13ff2-3765-4a0f-9ffc-801eb97a4f0e"
   },
   "outputs": [
    {
     "data": {
      "image/png": "[encoded data removed]",
      "text/plain": [
       "<Figure size 640x480 with 1 Axes>"
      ]
     },
     "metadata": {},
     "output_type": "display_data"
    }
   ],
   "source": [
    "ax=sns.countplot(data = df, x='province')\n",
    "ax.tick_params(axis='x', rotation=45)"
   ]
  },
  {
   "cell_type": "markdown",
   "id": "b0d6f99c-e60d-43e4-b243-946f93da167b",
   "metadata": {
    "id": "b0d6f99c-e60d-43e4-b243-946f93da167b"
   },
   "source": [
    "### Column lease_term analysis"
   ]
  },
  {
   "cell_type": "code",
   "execution_count": 24,
   "id": "6f7323cd-024c-4cba-8599-c61638a30b81",
   "metadata": {
    "id": "6f7323cd-024c-4cba-8599-c61638a30b81",
    "outputId": "d663806a-9c56-4760-936c-aa32fc60d9a7",
    "scrolled": true
   },
   "outputs": [
    {
     "data": {
      "text/plain": [
       "lease_term\n",
       "12 months        95\n",
       "6 months          2\n",
       "Long Term     23778\n",
       "Negotiable     1498\n",
       "Short Term      350\n",
       "months            2\n",
       "Name: lease_term, dtype: int64"
      ]
     },
     "execution_count": 24,
     "metadata": {},
     "output_type": "execute_result"
    }
   ],
   "source": [
    "dfp = df.groupby('lease_term')\n",
    "dfp['lease_term'].count()"
   ]
  },
  {
   "cell_type": "code",
   "execution_count": 25,
   "id": "84e5fcaa-ea4a-4f99-9826-ab9b2ec257d5",
   "metadata": {
    "id": "84e5fcaa-ea4a-4f99-9826-ab9b2ec257d5",
    "outputId": "27260724-014b-4e27-be3f-7f0f89929be6"
   },
   "outputs": [
    {
     "data": {
      "image/png": "[encoded data removed]",
      "text/plain": [
       "<Figure size 640x480 with 1 Axes>"
      ]
     },
     "metadata": {},
     "output_type": "display_data"
    }
   ],
   "source": [
    "ax=sns.countplot(data = df, x='lease_term')\n",
    "#ax.tick_params(axis='x', rotation=45)"
   ]
  },
  {
   "cell_type": "markdown",
   "id": "42a537c3-9b73-432a-8b7d-674be9ac8dee",
   "metadata": {
    "id": "42a537c3-9b73-432a-8b7d-674be9ac8dee"
   },
   "source": [
    "### Column Beds analysis"
   ]
  },
  {
   "cell_type": "code",
   "execution_count": 27,
   "id": "717e43de-29cb-4d5d-9495-3f17945a4975",
   "metadata": {
    "id": "717e43de-29cb-4d5d-9495-3f17945a4975",
    "outputId": "5eaef9af-205c-4925-cccb-820a9135c517"
   },
   "outputs": [
    {
     "data": {
      "text/plain": [
       "array(['2 Beds', '3 Beds', 'Studio', '1 Bed', '5 Beds', '4 Beds', nan,\n",
       "       '6 Beds', 'none Beds', '8 Beds', '7 Beds', '9 Beds'], dtype=object)"
      ]
     },
     "execution_count": 27,
     "metadata": {},
     "output_type": "execute_result"
    }
   ],
   "source": [
    "df['beds'].unique()"
   ]
  },
  {
   "cell_type": "code",
   "execution_count": 28,
   "id": "54173a1d-ae53-4543-8338-0e906318230e",
   "metadata": {
    "id": "54173a1d-ae53-4543-8338-0e906318230e",
    "outputId": "e28efa70-c240-43bf-97a3-9b5ffa36fdcf"
   },
   "outputs": [
    {
     "data": {
      "text/plain": [
       "beds\n",
       "1 Bed        9400\n",
       "2 Beds       9875\n",
       "3 Beds       3633\n",
       "4 Beds        786\n",
       "5 Beds        219\n",
       "6 Beds         47\n",
       "7 Beds         10\n",
       "8 Beds          3\n",
       "9 Beds          3\n",
       "Studio       1660\n",
       "none Beds       3\n",
       "Name: beds, dtype: int64"
      ]
     },
     "execution_count": 28,
     "metadata": {},
     "output_type": "execute_result"
    }
   ],
   "source": [
    "dfp = df.groupby('beds')\n",
    "dfp['beds'].count()"
   ]
  },
  {
   "cell_type": "code",
   "execution_count": 29,
   "id": "242849b0-7527-40e3-9e3f-851da02ba522",
   "metadata": {
    "id": "242849b0-7527-40e3-9e3f-851da02ba522",
    "outputId": "44ac3276-6e0a-4ac6-c51b-8c1bf18a5cb6"
   },
   "outputs": [
    {
     "data": {
      "image/png": "[encoded data removed]",
      "text/plain": [
       "<Figure size 640x480 with 1 Axes>"
      ]
     },
     "metadata": {},
     "output_type": "display_data"
    }
   ],
   "source": [
    "ax=sns.countplot(data = df, x='beds')\n",
    "#ax.tick_params(axis='x', rotation=45)"
   ]
  },
  {
   "cell_type": "markdown",
   "id": "73783153-c9d9-4666-b4ba-39e34d5f7d56",
   "metadata": {
    "id": "73783153-c9d9-4666-b4ba-39e34d5f7d56"
   },
   "source": [
    "### Column baths analysis"
   ]
  },
  {
   "cell_type": "code",
   "execution_count": 31,
   "id": "44146b97-7c2f-4c27-aff5-aacb9f558f79",
   "metadata": {
    "id": "44146b97-7c2f-4c27-aff5-aacb9f558f79",
    "outputId": "a4cb5603-6e9a-4440-c421-38ccd4492642"
   },
   "outputs": [
    {
     "data": {
      "text/plain": [
       "array(['2.5', '1', '2', '1.5', '3.5', nan, '4', '3', '5', 'none', '4.5',\n",
       "       '7.5', '5.5', '6', '6.5', '7', '8', '0'], dtype=object)"
      ]
     },
     "execution_count": 31,
     "metadata": {},
     "output_type": "execute_result"
    }
   ],
   "source": [
    "df['baths'].unique()"
   ]
  },
  {
   "cell_type": "code",
   "execution_count": 32,
   "id": "7c890ce3-da9a-499a-aaf3-5657344c8879",
   "metadata": {
    "id": "7c890ce3-da9a-499a-aaf3-5657344c8879",
    "outputId": "a412d4d4-120e-4081-bedd-c5a83c8c96bb"
   },
   "outputs": [
    {
     "data": {
      "text/plain": [
       "baths\n",
       "0           5\n",
       "1       16731\n",
       "1.5       962\n",
       "2        5083\n",
       "2.5      1908\n",
       "3         384\n",
       "3.5       422\n",
       "4          87\n",
       "4.5        23\n",
       "5           9\n",
       "5.5         4\n",
       "6           2\n",
       "6.5         1\n",
       "7           2\n",
       "7.5         2\n",
       "8           1\n",
       "none       11\n",
       "Name: baths, dtype: int64"
      ]
     },
     "execution_count": 32,
     "metadata": {},
     "output_type": "execute_result"
    }
   ],
   "source": [
    "dfp = df.groupby('baths')\n",
    "dfp['baths'].count()"
   ]
  },
  {
   "cell_type": "code",
   "execution_count": 33,
   "id": "e0985b98-ea6e-400f-bbf1-6b401465f50c",
   "metadata": {
    "id": "e0985b98-ea6e-400f-bbf1-6b401465f50c",
    "outputId": "7a3def1c-dd9a-46d9-ef8c-a535c5551dd2"
   },
   "outputs": [
    {
     "data": {
      "image/png": "[encoded data removed]",
      "text/plain": [
       "<Figure size 640x480 with 1 Axes>"
      ]
     },
     "metadata": {},
     "output_type": "display_data"
    }
   ],
   "source": [
    "ax=sns.countplot(data = df, x='baths')\n",
    "#ax.tick_params(axis='x', rotation=45)"
   ]
  },
  {
   "cell_type": "markdown",
   "id": "1b55ccb6-6092-44c8-bb9b-7f536e6abfed",
   "metadata": {},
   "source": [
    "# Columns Cat, Dogs and Smoking"
   ]
  },
  {
   "cell_type": "code",
   "execution_count": 35,
   "id": "c44b4b6a-b182-4f52-919b-227efbf7bb28",
   "metadata": {
    "id": "c44b4b6a-b182-4f52-919b-227efbf7bb28",
    "outputId": "8528ad9d-7f73-4032-9059-79719afe6621"
   },
   "outputs": [
    {
     "data": {
      "image/png": "[encoded data removed]",
      "text/plain": [
       "<Figure size 640x480 with 1 Axes>"
      ]
     },
     "metadata": {},
     "output_type": "display_data"
    }
   ],
   "source": [
    "# Plot here\n",
    "fig, ax = plt.subplots()\n",
    "\n",
    "ax.scatter(x = 'cats', y = 'price',data = df, color = 'blue')\n",
    "ax.scatter(x = 'dogs', y = 'price',data = df, color = 'red');\n"
   ]
  },
  {
   "cell_type": "code",
   "execution_count": 36,
   "id": "95cce0f3-1bad-4e98-bc72-eb1cbfb6e77b",
   "metadata": {
    "id": "95cce0f3-1bad-4e98-bc72-eb1cbfb6e77b",
    "outputId": "3be2b6b1-9eb9-4532-ee8e-3daa3edde743"
   },
   "outputs": [
    {
     "data": {
      "image/png": "[encoded data removed]",
      "text/plain": [
       "<Figure size 640x480 with 1 Axes>"
      ]
     },
     "metadata": {},
     "output_type": "display_data"
    }
   ],
   "source": [
    "sns.scatterplot(data = df, x = 'smoking', y = 'price', color = 'green');"
   ]
  },
  {
   "cell_type": "markdown",
   "id": "9593106f-13ab-408e-91cf-a54390495916",
   "metadata": {
    "id": "9593106f-13ab-408e-91cf-a54390495916"
   },
   "source": [
    "### Column furnishing analysis"
   ]
  },
  {
   "cell_type": "code",
   "execution_count": 38,
   "id": "1a9de511-42fa-4d36-88cf-350cb9f183a3",
   "metadata": {
    "id": "1a9de511-42fa-4d36-88cf-350cb9f183a3",
    "outputId": "59fea095-4451-41c0-bddd-e437eeb6e22f"
   },
   "outputs": [
    {
     "data": {
      "text/plain": [
       "furnishing\n",
       "Furnished                   2163\n",
       "Negotiable                   416\n",
       "Unfurnished                23187\n",
       "Unfurnished, Negotiable        5\n",
       "Name: furnishing, dtype: int64"
      ]
     },
     "execution_count": 38,
     "metadata": {},
     "output_type": "execute_result"
    }
   ],
   "source": [
    "dfp = df.groupby('furnishing')\n",
    "dfp['furnishing'].count()"
   ]
  },
  {
   "cell_type": "code",
   "execution_count": 39,
   "id": "639a410d-061d-414f-be6c-3aef931ff4d1",
   "metadata": {
    "id": "639a410d-061d-414f-be6c-3aef931ff4d1",
    "outputId": "350196de-5543-4049-9e3b-38b274a37f14"
   },
   "outputs": [
    {
     "data": {
      "image/png": "[encoded data removed]",
      "text/plain": [
       "<Figure size 640x480 with 1 Axes>"
      ]
     },
     "metadata": {},
     "output_type": "display_data"
    }
   ],
   "source": [
    "sns.scatterplot(data = df, x = 'furnishing', y = 'price', color = 'violet');"
   ]
  },
  {
   "cell_type": "markdown",
   "id": "7930db28-b0a4-48be-81bf-d5a23c1f4cf6",
   "metadata": {
    "id": "7930db28-b0a4-48be-81bf-d5a23c1f4cf6"
   },
   "source": [
    "# 2. Data cleaning and preparation"
   ]
  },
  {
   "cell_type": "markdown",
   "id": "776bc6a5-4d10-49c5-ae43-864546a7d6ad",
   "metadata": {
    "id": "776bc6a5-4d10-49c5-ae43-864546a7d6ad"
   },
   "source": [
    "## Remove \"unncessary\" rows"
   ]
  },
  {
   "cell_type": "code",
   "execution_count": 42,
   "id": "0b7bbb61-87dc-4442-9bd3-00bcc0d476b3",
   "metadata": {
    "id": "0b7bbb61-87dc-4442-9bd3-00bcc0d476b3"
   },
   "outputs": [],
   "source": [
    "# Drop rows where the price is 0\n",
    "df.drop(df.loc[df['price']==0].index, inplace=True)"
   ]
  },
  {
   "cell_type": "code",
   "execution_count": 43,
   "id": "7335634c-5782-4aed-821c-ad21f7a5610d",
   "metadata": {
    "id": "7335634c-5782-4aed-821c-ad21f7a5610d",
    "outputId": "d6f3446f-4f53-4e84-9176-af9d7a4457db"
   },
   "outputs": [
    {
     "data": {
      "text/html": [
       "<div>\n",
       "<style scoped>\n",
       "    .dataframe tbody tr th:only-of-type {\n",
       "        vertical-align: middle;\n",
       "    }\n",
       "\n",
       "    .dataframe tbody tr th {\n",
       "        vertical-align: top;\n",
       "    }\n",
       "\n",
       "    .dataframe thead th {\n",
       "        text-align: right;\n",
       "    }\n",
       "</style>\n",
       "<table border=\"1\" class=\"dataframe\">\n",
       "  <thead>\n",
       "    <tr style=\"text-align: right;\">\n",
       "      <th></th>\n",
       "      <th>rentfaster_id</th>\n",
       "      <th>latitude</th>\n",
       "      <th>longitude</th>\n",
       "      <th>price</th>\n",
       "    </tr>\n",
       "  </thead>\n",
       "  <tbody>\n",
       "    <tr>\n",
       "      <th>count</th>\n",
       "      <td>25544.000000</td>\n",
       "      <td>25544.000000</td>\n",
       "      <td>25544.000000</td>\n",
       "      <td>25544.000000</td>\n",
       "    </tr>\n",
       "    <tr>\n",
       "      <th>mean</th>\n",
       "      <td>472765.513702</td>\n",
       "      <td>48.931854</td>\n",
       "      <td>-100.463226</td>\n",
       "      <td>2170.744823</td>\n",
       "    </tr>\n",
       "    <tr>\n",
       "      <th>std</th>\n",
       "      <td>120267.610154</td>\n",
       "      <td>3.596117</td>\n",
       "      <td>17.873945</td>\n",
       "      <td>955.658569</td>\n",
       "    </tr>\n",
       "    <tr>\n",
       "      <th>min</th>\n",
       "      <td>820.000000</td>\n",
       "      <td>40.741802</td>\n",
       "      <td>-128.661880</td>\n",
       "      <td>1.000000</td>\n",
       "    </tr>\n",
       "    <tr>\n",
       "      <th>25%</th>\n",
       "      <td>417846.000000</td>\n",
       "      <td>45.424480</td>\n",
       "      <td>-114.074790</td>\n",
       "      <td>1625.000000</td>\n",
       "    </tr>\n",
       "    <tr>\n",
       "      <th>50%</th>\n",
       "      <td>523076.000000</td>\n",
       "      <td>50.916588</td>\n",
       "      <td>-113.517109</td>\n",
       "      <td>2050.000000</td>\n",
       "    </tr>\n",
       "    <tr>\n",
       "      <th>75%</th>\n",
       "      <td>563581.000000</td>\n",
       "      <td>51.096422</td>\n",
       "      <td>-79.405694</td>\n",
       "      <td>2550.000000</td>\n",
       "    </tr>\n",
       "    <tr>\n",
       "      <th>max</th>\n",
       "      <td>572635.000000</td>\n",
       "      <td>62.459246</td>\n",
       "      <td>-52.695472</td>\n",
       "      <td>29990.000000</td>\n",
       "    </tr>\n",
       "  </tbody>\n",
       "</table>\n",
       "</div>"
      ],
      "text/plain": [
       "       rentfaster_id      latitude     longitude         price\n",
       "count   25544.000000  25544.000000  25544.000000  25544.000000\n",
       "mean   472765.513702     48.931854   -100.463226   2170.744823\n",
       "std    120267.610154      3.596117     17.873945    955.658569\n",
       "min       820.000000     40.741802   -128.661880      1.000000\n",
       "25%    417846.000000     45.424480   -114.074790   1625.000000\n",
       "50%    523076.000000     50.916588   -113.517109   2050.000000\n",
       "75%    563581.000000     51.096422    -79.405694   2550.000000\n",
       "max    572635.000000     62.459246    -52.695472  29990.000000"
      ]
     },
     "execution_count": 43,
     "metadata": {},
     "output_type": "execute_result"
    }
   ],
   "source": [
    "df.describe()"
   ]
  },
  {
   "cell_type": "code",
   "execution_count": 44,
   "id": "5e8362d5-c8c0-4d68-9c01-7faf8e315798",
   "metadata": {
    "id": "5e8362d5-c8c0-4d68-9c01-7faf8e315798"
   },
   "outputs": [],
   "source": [
    "# drop all the rows where the type of location is not for living purposes\n",
    "\n",
    "df.drop(df.loc[df['type']=='Parking Spot'].index, inplace=True)\n",
    "df.drop(df.loc[df['type']=='Office Space'].index, inplace=True)\n",
    "df.drop(df.loc[df['type']=='Storage'].index, inplace=True)"
   ]
  },
  {
   "cell_type": "code",
   "execution_count": 45,
   "id": "c4242c53-00ca-4ec0-b633-8cc77367af14",
   "metadata": {
    "id": "c4242c53-00ca-4ec0-b633-8cc77367af14",
    "outputId": "a52284ec-129d-444c-c478-38d7bf5f9ca7"
   },
   "outputs": [
    {
     "data": {
      "text/plain": [
       "type\n",
       "Acreage             11\n",
       "Apartment        16153\n",
       "Basement          1659\n",
       "Condo Unit        2256\n",
       "Duplex             497\n",
       "House             1607\n",
       "Loft                25\n",
       "Main Floor         810\n",
       "Mobile               2\n",
       "Room For Rent      720\n",
       "Townhouse         1626\n",
       "Vacation Home        4\n",
       "Name: type, dtype: int64"
      ]
     },
     "execution_count": 45,
     "metadata": {},
     "output_type": "execute_result"
    }
   ],
   "source": [
    "dft = df.groupby('type')\n",
    "dft['type'].count()"
   ]
  },
  {
   "cell_type": "markdown",
   "id": "4a0c5e70-d14f-4960-9c57-d7debbbbd29b",
   "metadata": {
    "id": "4a0c5e70-d14f-4960-9c57-d7debbbbd29b"
   },
   "source": [
    "## Remove unnecessary columns"
   ]
  },
  {
   "cell_type": "code",
   "execution_count": 47,
   "id": "76eed65d-fd17-484c-8fd3-22bbcb5604ea",
   "metadata": {
    "id": "76eed65d-fd17-484c-8fd3-22bbcb5604ea"
   },
   "outputs": [],
   "source": [
    "# removing columns that do not add significant information to calculate the price\n",
    "# column type is also removed after using to remove the unnecessary rows\n",
    "\n",
    "df = df.drop(['province','rentfaster_id','city','type','address','latitude','longitude','link','availability_date','cats','dogs'], axis = 1)"
   ]
  },
  {
   "cell_type": "code",
   "execution_count": 48,
   "id": "859b0ff5-3749-44f0-9c02-5f1c11b328e8",
   "metadata": {
    "id": "859b0ff5-3749-44f0-9c02-5f1c11b328e8",
    "outputId": "5a61f5af-c70c-4f12-f6e7-c2f152e93130"
   },
   "outputs": [
    {
     "name": "stdout",
     "output_type": "stream",
     "text": [
      "<class 'pandas.core.frame.DataFrame'>\n",
      "Index: 25370 entries, 0 to 25770\n",
      "Data columns (total 7 columns):\n",
      " #   Column      Non-Null Count  Dtype  \n",
      "---  ------      --------------  -----  \n",
      " 0   lease_term  25339 non-null  object \n",
      " 1   price       25370 non-null  float64\n",
      " 2   beds        25370 non-null  object \n",
      " 3   baths       25370 non-null  object \n",
      " 4   sq_feet     21463 non-null  object \n",
      " 5   furnishing  25370 non-null  object \n",
      " 6   smoking     22702 non-null  object \n",
      "dtypes: float64(1), object(6)\n",
      "memory usage: 1.5+ MB\n"
     ]
    }
   ],
   "source": [
    "df.info()"
   ]
  },
  {
   "cell_type": "markdown",
   "id": "eef68db8-f2df-4f94-aed6-fbd4358dca15",
   "metadata": {
    "id": "eef68db8-f2df-4f94-aed6-fbd4358dca15"
   },
   "source": [
    "## 2. Preparing data and dealing with nulls"
   ]
  },
  {
   "cell_type": "markdown",
   "id": "8cad5ee0-a19d-4e0a-b6b1-423f99332184",
   "metadata": {
    "id": "8cad5ee0-a19d-4e0a-b6b1-423f99332184"
   },
   "source": [
    "### Preparing Column sq_feet"
   ]
  },
  {
   "cell_type": "code",
   "execution_count": 51,
   "id": "d4114c8b-bfcb-47e7-b985-841635444bf1",
   "metadata": {
    "id": "d4114c8b-bfcb-47e7-b985-841635444bf1"
   },
   "outputs": [],
   "source": [
    "#convert the column to float\n",
    "df['sq_feet']=df['sq_feet'].str.extract('(\\d+)') # removing text\n",
    "df[['sq_feet']]=df[['sq_feet']].astype(float)"
   ]
  },
  {
   "cell_type": "code",
   "execution_count": 52,
   "id": "da0f4a1f-543e-48f5-95f6-ef0dfb0e8b29",
   "metadata": {
    "id": "da0f4a1f-543e-48f5-95f6-ef0dfb0e8b29",
    "outputId": "ddecced6-5d02-4c07-ddf6-e81adfb6b6a7"
   },
   "outputs": [
    {
     "data": {
      "text/html": [
       "<div>\n",
       "<style scoped>\n",
       "    .dataframe tbody tr th:only-of-type {\n",
       "        vertical-align: middle;\n",
       "    }\n",
       "\n",
       "    .dataframe tbody tr th {\n",
       "        vertical-align: top;\n",
       "    }\n",
       "\n",
       "    .dataframe thead th {\n",
       "        text-align: right;\n",
       "    }\n",
       "</style>\n",
       "<table border=\"1\" class=\"dataframe\">\n",
       "  <thead>\n",
       "    <tr style=\"text-align: right;\">\n",
       "      <th></th>\n",
       "      <th>lease_term</th>\n",
       "      <th>price</th>\n",
       "      <th>beds</th>\n",
       "      <th>baths</th>\n",
       "      <th>sq_feet</th>\n",
       "      <th>furnishing</th>\n",
       "      <th>smoking</th>\n",
       "    </tr>\n",
       "  </thead>\n",
       "  <tbody>\n",
       "    <tr>\n",
       "      <th>160</th>\n",
       "      <td>Long Term</td>\n",
       "      <td>875.0</td>\n",
       "      <td>2 Beds</td>\n",
       "      <td>1</td>\n",
       "      <td>0.0</td>\n",
       "      <td>Unfurnished</td>\n",
       "      <td>Non-Smoking</td>\n",
       "    </tr>\n",
       "    <tr>\n",
       "      <th>161</th>\n",
       "      <td>Long Term</td>\n",
       "      <td>875.0</td>\n",
       "      <td>2 Beds</td>\n",
       "      <td>1</td>\n",
       "      <td>0.0</td>\n",
       "      <td>Unfurnished</td>\n",
       "      <td>Non-Smoking</td>\n",
       "    </tr>\n",
       "    <tr>\n",
       "      <th>162</th>\n",
       "      <td>Long Term</td>\n",
       "      <td>1035.0</td>\n",
       "      <td>1 Bed</td>\n",
       "      <td>1</td>\n",
       "      <td>0.0</td>\n",
       "      <td>Unfurnished</td>\n",
       "      <td>Non-Smoking</td>\n",
       "    </tr>\n",
       "    <tr>\n",
       "      <th>163</th>\n",
       "      <td>Long Term</td>\n",
       "      <td>1005.0</td>\n",
       "      <td>2 Beds</td>\n",
       "      <td>1</td>\n",
       "      <td>0.0</td>\n",
       "      <td>Unfurnished</td>\n",
       "      <td>Non-Smoking</td>\n",
       "    </tr>\n",
       "    <tr>\n",
       "      <th>165</th>\n",
       "      <td>Long Term</td>\n",
       "      <td>855.0</td>\n",
       "      <td>Studio</td>\n",
       "      <td>1</td>\n",
       "      <td>0.0</td>\n",
       "      <td>Unfurnished</td>\n",
       "      <td>Non-Smoking</td>\n",
       "    </tr>\n",
       "    <tr>\n",
       "      <th>...</th>\n",
       "      <td>...</td>\n",
       "      <td>...</td>\n",
       "      <td>...</td>\n",
       "      <td>...</td>\n",
       "      <td>...</td>\n",
       "      <td>...</td>\n",
       "      <td>...</td>\n",
       "    </tr>\n",
       "    <tr>\n",
       "      <th>25756</th>\n",
       "      <td>Long Term</td>\n",
       "      <td>835.0</td>\n",
       "      <td>Studio</td>\n",
       "      <td>1</td>\n",
       "      <td>0.0</td>\n",
       "      <td>Unfurnished</td>\n",
       "      <td>Non-Smoking</td>\n",
       "    </tr>\n",
       "    <tr>\n",
       "      <th>25757</th>\n",
       "      <td>Long Term</td>\n",
       "      <td>960.0</td>\n",
       "      <td>1 Bed</td>\n",
       "      <td>1</td>\n",
       "      <td>0.0</td>\n",
       "      <td>Unfurnished</td>\n",
       "      <td>Non-Smoking</td>\n",
       "    </tr>\n",
       "    <tr>\n",
       "      <th>25758</th>\n",
       "      <td>Long Term</td>\n",
       "      <td>1300.0</td>\n",
       "      <td>2 Beds</td>\n",
       "      <td>1</td>\n",
       "      <td>0.0</td>\n",
       "      <td>Unfurnished</td>\n",
       "      <td>Non-Smoking</td>\n",
       "    </tr>\n",
       "    <tr>\n",
       "      <th>25762</th>\n",
       "      <td>Long Term</td>\n",
       "      <td>945.0</td>\n",
       "      <td>Studio</td>\n",
       "      <td>1</td>\n",
       "      <td>0.0</td>\n",
       "      <td>Unfurnished</td>\n",
       "      <td>Non-Smoking</td>\n",
       "    </tr>\n",
       "    <tr>\n",
       "      <th>25764</th>\n",
       "      <td>Long Term</td>\n",
       "      <td>995.0</td>\n",
       "      <td>Studio</td>\n",
       "      <td>1</td>\n",
       "      <td>0.0</td>\n",
       "      <td>Unfurnished</td>\n",
       "      <td>Non-Smoking</td>\n",
       "    </tr>\n",
       "  </tbody>\n",
       "</table>\n",
       "<p>520 rows × 7 columns</p>\n",
       "</div>"
      ],
      "text/plain": [
       "      lease_term   price    beds baths  sq_feet   furnishing      smoking\n",
       "160    Long Term   875.0  2 Beds     1      0.0  Unfurnished  Non-Smoking\n",
       "161    Long Term   875.0  2 Beds     1      0.0  Unfurnished  Non-Smoking\n",
       "162    Long Term  1035.0   1 Bed     1      0.0  Unfurnished  Non-Smoking\n",
       "163    Long Term  1005.0  2 Beds     1      0.0  Unfurnished  Non-Smoking\n",
       "165    Long Term   855.0  Studio     1      0.0  Unfurnished  Non-Smoking\n",
       "...          ...     ...     ...   ...      ...          ...          ...\n",
       "25756  Long Term   835.0  Studio     1      0.0  Unfurnished  Non-Smoking\n",
       "25757  Long Term   960.0   1 Bed     1      0.0  Unfurnished  Non-Smoking\n",
       "25758  Long Term  1300.0  2 Beds     1      0.0  Unfurnished  Non-Smoking\n",
       "25762  Long Term   945.0  Studio     1      0.0  Unfurnished  Non-Smoking\n",
       "25764  Long Term   995.0  Studio     1      0.0  Unfurnished  Non-Smoking\n",
       "\n",
       "[520 rows x 7 columns]"
      ]
     },
     "execution_count": 52,
     "metadata": {},
     "output_type": "execute_result"
    }
   ],
   "source": [
    "df[df['sq_feet']==0]"
   ]
  },
  {
   "cell_type": "code",
   "execution_count": 53,
   "id": "c81dca62-1b07-4fec-8c54-cfa2adf350ab",
   "metadata": {
    "id": "c81dca62-1b07-4fec-8c54-cfa2adf350ab",
    "outputId": "39f1533b-157b-4106-de62-5cdd2aee0a5b"
   },
   "outputs": [
    {
     "data": {
      "text/html": [
       "<div>\n",
       "<style scoped>\n",
       "    .dataframe tbody tr th:only-of-type {\n",
       "        vertical-align: middle;\n",
       "    }\n",
       "\n",
       "    .dataframe tbody tr th {\n",
       "        vertical-align: top;\n",
       "    }\n",
       "\n",
       "    .dataframe thead th {\n",
       "        text-align: right;\n",
       "    }\n",
       "</style>\n",
       "<table border=\"1\" class=\"dataframe\">\n",
       "  <thead>\n",
       "    <tr style=\"text-align: right;\">\n",
       "      <th></th>\n",
       "      <th>lease_term</th>\n",
       "      <th>price</th>\n",
       "      <th>beds</th>\n",
       "      <th>baths</th>\n",
       "      <th>sq_feet</th>\n",
       "      <th>furnishing</th>\n",
       "      <th>smoking</th>\n",
       "    </tr>\n",
       "  </thead>\n",
       "  <tbody>\n",
       "    <tr>\n",
       "      <th>12</th>\n",
       "      <td>Long Term</td>\n",
       "      <td>2550.0</td>\n",
       "      <td>3 Beds</td>\n",
       "      <td>2.5</td>\n",
       "      <td>NaN</td>\n",
       "      <td>Unfurnished</td>\n",
       "      <td>Non-Smoking</td>\n",
       "    </tr>\n",
       "    <tr>\n",
       "      <th>13</th>\n",
       "      <td>Long Term</td>\n",
       "      <td>3150.0</td>\n",
       "      <td>5 Beds</td>\n",
       "      <td>2</td>\n",
       "      <td>NaN</td>\n",
       "      <td>Unfurnished</td>\n",
       "      <td>Non-Smoking</td>\n",
       "    </tr>\n",
       "    <tr>\n",
       "      <th>14</th>\n",
       "      <td>Long Term</td>\n",
       "      <td>3195.0</td>\n",
       "      <td>3 Beds</td>\n",
       "      <td>2.5</td>\n",
       "      <td>NaN</td>\n",
       "      <td>Unfurnished</td>\n",
       "      <td>Non-Smoking</td>\n",
       "    </tr>\n",
       "    <tr>\n",
       "      <th>32</th>\n",
       "      <td>Long Term</td>\n",
       "      <td>1250.0</td>\n",
       "      <td>1 Bed</td>\n",
       "      <td>1</td>\n",
       "      <td>NaN</td>\n",
       "      <td>Furnished</td>\n",
       "      <td>Non-Smoking</td>\n",
       "    </tr>\n",
       "    <tr>\n",
       "      <th>34</th>\n",
       "      <td>Long Term</td>\n",
       "      <td>2600.0</td>\n",
       "      <td>3 Beds</td>\n",
       "      <td>2.5</td>\n",
       "      <td>NaN</td>\n",
       "      <td>Unfurnished</td>\n",
       "      <td>Non-Smoking</td>\n",
       "    </tr>\n",
       "    <tr>\n",
       "      <th>...</th>\n",
       "      <td>...</td>\n",
       "      <td>...</td>\n",
       "      <td>...</td>\n",
       "      <td>...</td>\n",
       "      <td>...</td>\n",
       "      <td>...</td>\n",
       "      <td>...</td>\n",
       "    </tr>\n",
       "    <tr>\n",
       "      <th>25693</th>\n",
       "      <td>Long Term</td>\n",
       "      <td>1050.0</td>\n",
       "      <td>1 Bed</td>\n",
       "      <td>1</td>\n",
       "      <td>NaN</td>\n",
       "      <td>Unfurnished</td>\n",
       "      <td>Non-Smoking</td>\n",
       "    </tr>\n",
       "    <tr>\n",
       "      <th>25694</th>\n",
       "      <td>Long Term</td>\n",
       "      <td>1250.0</td>\n",
       "      <td>2 Beds</td>\n",
       "      <td>1</td>\n",
       "      <td>NaN</td>\n",
       "      <td>Unfurnished</td>\n",
       "      <td>Non-Smoking</td>\n",
       "    </tr>\n",
       "    <tr>\n",
       "      <th>25697</th>\n",
       "      <td>Long Term</td>\n",
       "      <td>2300.0</td>\n",
       "      <td>3 Beds</td>\n",
       "      <td>1</td>\n",
       "      <td>NaN</td>\n",
       "      <td>Unfurnished</td>\n",
       "      <td>Non-Smoking</td>\n",
       "    </tr>\n",
       "    <tr>\n",
       "      <th>25698</th>\n",
       "      <td>Long Term</td>\n",
       "      <td>800.0</td>\n",
       "      <td>Studio</td>\n",
       "      <td>1</td>\n",
       "      <td>NaN</td>\n",
       "      <td>Unfurnished</td>\n",
       "      <td>Non-Smoking</td>\n",
       "    </tr>\n",
       "    <tr>\n",
       "      <th>25699</th>\n",
       "      <td>Long Term</td>\n",
       "      <td>850.0</td>\n",
       "      <td>1 Bed</td>\n",
       "      <td>1</td>\n",
       "      <td>NaN</td>\n",
       "      <td>Unfurnished</td>\n",
       "      <td>Non-Smoking</td>\n",
       "    </tr>\n",
       "  </tbody>\n",
       "</table>\n",
       "<p>3912 rows × 7 columns</p>\n",
       "</div>"
      ],
      "text/plain": [
       "      lease_term   price    beds baths  sq_feet   furnishing      smoking\n",
       "12     Long Term  2550.0  3 Beds   2.5      NaN  Unfurnished  Non-Smoking\n",
       "13     Long Term  3150.0  5 Beds     2      NaN  Unfurnished  Non-Smoking\n",
       "14     Long Term  3195.0  3 Beds   2.5      NaN  Unfurnished  Non-Smoking\n",
       "32     Long Term  1250.0   1 Bed     1      NaN    Furnished  Non-Smoking\n",
       "34     Long Term  2600.0  3 Beds   2.5      NaN  Unfurnished  Non-Smoking\n",
       "...          ...     ...     ...   ...      ...          ...          ...\n",
       "25693  Long Term  1050.0   1 Bed     1      NaN  Unfurnished  Non-Smoking\n",
       "25694  Long Term  1250.0  2 Beds     1      NaN  Unfurnished  Non-Smoking\n",
       "25697  Long Term  2300.0  3 Beds     1      NaN  Unfurnished  Non-Smoking\n",
       "25698  Long Term   800.0  Studio     1      NaN  Unfurnished  Non-Smoking\n",
       "25699  Long Term   850.0   1 Bed     1      NaN  Unfurnished  Non-Smoking\n",
       "\n",
       "[3912 rows x 7 columns]"
      ]
     },
     "execution_count": 53,
     "metadata": {},
     "output_type": "execute_result"
    }
   ],
   "source": [
    "df[df['sq_feet'].isnull()]"
   ]
  },
  {
   "cell_type": "code",
   "execution_count": 54,
   "id": "83f3938f-828a-477b-a5ba-3ed6630ddf3b",
   "metadata": {
    "id": "83f3938f-828a-477b-a5ba-3ed6630ddf3b"
   },
   "outputs": [],
   "source": [
    "# we decided to replace the nulls  by the mean\n",
    "df['sq_feet'] = df['sq_feet'].fillna(value=df['sq_feet'].mean())"
   ]
  },
  {
   "cell_type": "code",
   "execution_count": 55,
   "id": "6e50642b-babc-4827-828b-dff2e83fdcd6",
   "metadata": {
    "id": "6e50642b-babc-4827-828b-dff2e83fdcd6",
    "outputId": "2957c877-81d1-45bb-e65f-4aa6c6ec3a4b"
   },
   "outputs": [
    {
     "data": {
      "text/html": [
       "<div>\n",
       "<style scoped>\n",
       "    .dataframe tbody tr th:only-of-type {\n",
       "        vertical-align: middle;\n",
       "    }\n",
       "\n",
       "    .dataframe tbody tr th {\n",
       "        vertical-align: top;\n",
       "    }\n",
       "\n",
       "    .dataframe thead th {\n",
       "        text-align: right;\n",
       "    }\n",
       "</style>\n",
       "<table border=\"1\" class=\"dataframe\">\n",
       "  <thead>\n",
       "    <tr style=\"text-align: right;\">\n",
       "      <th></th>\n",
       "      <th>lease_term</th>\n",
       "      <th>price</th>\n",
       "      <th>beds</th>\n",
       "      <th>baths</th>\n",
       "      <th>sq_feet</th>\n",
       "      <th>furnishing</th>\n",
       "      <th>smoking</th>\n",
       "    </tr>\n",
       "  </thead>\n",
       "  <tbody>\n",
       "  </tbody>\n",
       "</table>\n",
       "</div>"
      ],
      "text/plain": [
       "Empty DataFrame\n",
       "Columns: [lease_term, price, beds, baths, sq_feet, furnishing, smoking]\n",
       "Index: []"
      ]
     },
     "execution_count": 55,
     "metadata": {},
     "output_type": "execute_result"
    }
   ],
   "source": [
    "df[df['sq_feet'].isnull()]"
   ]
  },
  {
   "cell_type": "code",
   "execution_count": 56,
   "id": "180b2419-ea53-4b04-af0c-b225339b942b",
   "metadata": {
    "id": "180b2419-ea53-4b04-af0c-b225339b942b"
   },
   "outputs": [],
   "source": [
    "# we assumed that rows with square feet zero was in fact incomplete information, therefore we replace them with the mean\n",
    "\n",
    "df['sq_feet']=df['sq_feet'].mask(df['sq_feet']==0).fillna(df['sq_feet'].mean())"
   ]
  },
  {
   "cell_type": "code",
   "execution_count": 57,
   "id": "2822409a-ff53-4d6f-8bb9-0f7f0548b357",
   "metadata": {
    "id": "2822409a-ff53-4d6f-8bb9-0f7f0548b357",
    "outputId": "85fc7992-62d7-49b7-ec77-ab9b549e6813"
   },
   "outputs": [
    {
     "data": {
      "text/html": [
       "<div>\n",
       "<style scoped>\n",
       "    .dataframe tbody tr th:only-of-type {\n",
       "        vertical-align: middle;\n",
       "    }\n",
       "\n",
       "    .dataframe tbody tr th {\n",
       "        vertical-align: top;\n",
       "    }\n",
       "\n",
       "    .dataframe thead th {\n",
       "        text-align: right;\n",
       "    }\n",
       "</style>\n",
       "<table border=\"1\" class=\"dataframe\">\n",
       "  <thead>\n",
       "    <tr style=\"text-align: right;\">\n",
       "      <th></th>\n",
       "      <th>price</th>\n",
       "      <th>sq_feet</th>\n",
       "    </tr>\n",
       "  </thead>\n",
       "  <tbody>\n",
       "    <tr>\n",
       "      <th>count</th>\n",
       "      <td>25370.000000</td>\n",
       "      <td>25370.000000</td>\n",
       "    </tr>\n",
       "    <tr>\n",
       "      <th>mean</th>\n",
       "      <td>2180.131012</td>\n",
       "      <td>910.034854</td>\n",
       "    </tr>\n",
       "    <tr>\n",
       "      <th>std</th>\n",
       "      <td>948.271405</td>\n",
       "      <td>438.054957</td>\n",
       "    </tr>\n",
       "    <tr>\n",
       "      <th>min</th>\n",
       "      <td>1.000000</td>\n",
       "      <td>1.000000</td>\n",
       "    </tr>\n",
       "    <tr>\n",
       "      <th>25%</th>\n",
       "      <td>1640.000000</td>\n",
       "      <td>657.000000</td>\n",
       "    </tr>\n",
       "    <tr>\n",
       "      <th>50%</th>\n",
       "      <td>2050.000000</td>\n",
       "      <td>891.756827</td>\n",
       "    </tr>\n",
       "    <tr>\n",
       "      <th>75%</th>\n",
       "      <td>2550.000000</td>\n",
       "      <td>982.000000</td>\n",
       "    </tr>\n",
       "    <tr>\n",
       "      <th>max</th>\n",
       "      <td>29990.000000</td>\n",
       "      <td>11700.000000</td>\n",
       "    </tr>\n",
       "  </tbody>\n",
       "</table>\n",
       "</div>"
      ],
      "text/plain": [
       "              price       sq_feet\n",
       "count  25370.000000  25370.000000\n",
       "mean    2180.131012    910.034854\n",
       "std      948.271405    438.054957\n",
       "min        1.000000      1.000000\n",
       "25%     1640.000000    657.000000\n",
       "50%     2050.000000    891.756827\n",
       "75%     2550.000000    982.000000\n",
       "max    29990.000000  11700.000000"
      ]
     },
     "execution_count": 57,
     "metadata": {},
     "output_type": "execute_result"
    }
   ],
   "source": [
    "df.describe()"
   ]
  },
  {
   "cell_type": "markdown",
   "id": "34fcf5c2-b815-4288-8b9d-098216be9e68",
   "metadata": {
    "id": "34fcf5c2-b815-4288-8b9d-098216be9e68"
   },
   "source": [
    "### Preparing column lease_term"
   ]
  },
  {
   "cell_type": "code",
   "execution_count": 59,
   "id": "1286eda2-8cc2-4234-94bd-880e020a71f6",
   "metadata": {
    "id": "1286eda2-8cc2-4234-94bd-880e020a71f6"
   },
   "outputs": [],
   "source": [
    "# group lease terms in 3 categories : Short Term, Long Term, Negotiable\n",
    "\n",
    "for index,row in df.iterrows():\n",
    "    if row['lease_term']=='12 months':\n",
    "        df.at[index,'lease_term']='Other lease Term'\n",
    "    elif row['lease_term']=='6 months':\n",
    "        df.at[index,'lease_term']='Other lease Term'\n",
    "    elif row['lease_term']=='months':\n",
    "        df.at[index,'lease_term']='Other lease Term'\n",
    "    elif row['lease_term']=='Short Term':\n",
    "        df.at[index,'lease_term']='Other lease Term'\n",
    "    elif row['lease_term']=='Negotiable':\n",
    "        df.at[index,'lease_term']='Other lease Term'\n",
    "\n"
   ]
  },
  {
   "cell_type": "code",
   "execution_count": 60,
   "id": "4ac8ad73-9b3c-4637-8199-22046bec75e4",
   "metadata": {
    "id": "4ac8ad73-9b3c-4637-8199-22046bec75e4",
    "outputId": "b0910f15-ce48-43bd-a703-980c4e3c5741"
   },
   "outputs": [
    {
     "data": {
      "text/plain": [
       "lease_term\n",
       "Long Term           23460\n",
       "Other lease Term     1879\n",
       "Name: lease_term, dtype: int64"
      ]
     },
     "execution_count": 60,
     "metadata": {},
     "output_type": "execute_result"
    }
   ],
   "source": [
    "dfl = df.groupby('lease_term')\n",
    "dfl['lease_term'].count()"
   ]
  },
  {
   "cell_type": "code",
   "execution_count": 61,
   "id": "4c730259-a1d7-4f1c-8c1c-e424a9a6183d",
   "metadata": {
    "id": "4c730259-a1d7-4f1c-8c1c-e424a9a6183d"
   },
   "outputs": [],
   "source": [
    "# since Long Term is the most common term, the nulls were replaced by Long Term\n",
    "df['lease_term'].fillna('Long Term',inplace=True)"
   ]
  },
  {
   "cell_type": "code",
   "execution_count": 110,
   "id": "d5f79c75-ab3d-4ed1-9f6f-670f11b205b9",
   "metadata": {
    "id": "d5f79c75-ab3d-4ed1-9f6f-670f11b205b9",
    "outputId": "c88a0e76-faa0-4be4-af16-a3ce8488597c"
   },
   "outputs": [
    {
     "data": {
      "text/plain": [
       "lease_term\n",
       "Long Term           23491\n",
       "Other lease Term     1879\n",
       "Name: lease_term, dtype: int64"
      ]
     },
     "execution_count": 110,
     "metadata": {},
     "output_type": "execute_result"
    }
   ],
   "source": [
    "dft = df.groupby('lease_term')\n",
    "dft['lease_term'].count()"
   ]
  },
  {
   "cell_type": "markdown",
   "id": "e5a772b4-91b7-4265-bae0-e8cb675fc4c9",
   "metadata": {
    "id": "e5a772b4-91b7-4265-bae0-e8cb675fc4c9"
   },
   "source": [
    "### Preparing column beds"
   ]
  },
  {
   "cell_type": "code",
   "execution_count": 113,
   "id": "91169dee-411a-41e4-b0f5-6343478ac96e",
   "metadata": {
    "id": "91169dee-411a-41e4-b0f5-6343478ac96e"
   },
   "outputs": [],
   "source": [
    "# group beds column: 1 Bed, 2 Beds, other\n",
    "for index,row in df.iterrows():\n",
    "    if row['beds']=='Studio' or row['beds']=='3 Beds' or row['beds']=='4 Beds' or row['beds']=='5 Beds' or row['beds']=='6 Beds' or row['beds']=='7 Beds' or row['beds']=='8 Beds' or row['beds']=='9 Beds':\n",
    "        df.at[index,'beds']='other beds'"
   ]
  },
  {
   "cell_type": "code",
   "execution_count": 115,
   "id": "b01edd47-b8f7-4590-81f5-4fb0438c87c2",
   "metadata": {
    "id": "b01edd47-b8f7-4590-81f5-4fb0438c87c2",
    "outputId": "b5628752-334d-4b20-f624-4dd7f85a1abf"
   },
   "outputs": [
    {
     "data": {
      "text/plain": [
       "beds\n",
       "1 Bed         9371\n",
       "2 Beds        9831\n",
       "other beds    6168\n",
       "Name: beds, dtype: int64"
      ]
     },
     "execution_count": 115,
     "metadata": {},
     "output_type": "execute_result"
    }
   ],
   "source": [
    "dfb = df.groupby('beds')\n",
    "dfb['beds'].count()"
   ]
  },
  {
   "cell_type": "markdown",
   "id": "7d68e5f0-406b-47db-b53a-8e8f5ff634cb",
   "metadata": {
    "id": "7d68e5f0-406b-47db-b53a-8e8f5ff634cb"
   },
   "source": [
    "### Preparing column baths"
   ]
  },
  {
   "cell_type": "code",
   "execution_count": 118,
   "id": "ae1f24af-28a3-4efc-b842-4dbbfe19804f",
   "metadata": {
    "id": "ae1f24af-28a3-4efc-b842-4dbbfe19804f",
    "outputId": "dd7db557-6623-45e5-d467-dc3fe2d5988a"
   },
   "outputs": [
    {
     "data": {
      "text/html": [
       "<div>\n",
       "<style scoped>\n",
       "    .dataframe tbody tr th:only-of-type {\n",
       "        vertical-align: middle;\n",
       "    }\n",
       "\n",
       "    .dataframe tbody tr th {\n",
       "        vertical-align: top;\n",
       "    }\n",
       "\n",
       "    .dataframe thead th {\n",
       "        text-align: right;\n",
       "    }\n",
       "</style>\n",
       "<table border=\"1\" class=\"dataframe\">\n",
       "  <thead>\n",
       "    <tr style=\"text-align: right;\">\n",
       "      <th></th>\n",
       "      <th>lease_term</th>\n",
       "      <th>price</th>\n",
       "      <th>beds</th>\n",
       "      <th>baths</th>\n",
       "      <th>sq_feet</th>\n",
       "      <th>furnishing</th>\n",
       "      <th>smoking</th>\n",
       "    </tr>\n",
       "  </thead>\n",
       "  <tbody>\n",
       "    <tr>\n",
       "      <th>9103</th>\n",
       "      <td>Long Term</td>\n",
       "      <td>2500.0</td>\n",
       "      <td>other beds</td>\n",
       "      <td>0</td>\n",
       "      <td>1029.000000</td>\n",
       "      <td>Unfurnished</td>\n",
       "      <td>Non-Smoking</td>\n",
       "    </tr>\n",
       "    <tr>\n",
       "      <th>25269</th>\n",
       "      <td>Long Term</td>\n",
       "      <td>1250.0</td>\n",
       "      <td>other beds</td>\n",
       "      <td>0</td>\n",
       "      <td>891.756827</td>\n",
       "      <td>Unfurnished</td>\n",
       "      <td>Non-Smoking</td>\n",
       "    </tr>\n",
       "  </tbody>\n",
       "</table>\n",
       "</div>"
      ],
      "text/plain": [
       "      lease_term   price        beds baths      sq_feet   furnishing  \\\n",
       "9103   Long Term  2500.0  other beds     0  1029.000000  Unfurnished   \n",
       "25269  Long Term  1250.0  other beds     0   891.756827  Unfurnished   \n",
       "\n",
       "           smoking  \n",
       "9103   Non-Smoking  \n",
       "25269  Non-Smoking  "
      ]
     },
     "execution_count": 118,
     "metadata": {},
     "output_type": "execute_result"
    }
   ],
   "source": [
    "#df.drop(df.loc[df['line_race']==0].index, inplace=True)\n",
    "df.loc[df['baths']=='0']\n"
   ]
  },
  {
   "cell_type": "code",
   "execution_count": 120,
   "id": "4fdc2db0-5088-47cc-897d-3fd626a17e09",
   "metadata": {
    "id": "4fdc2db0-5088-47cc-897d-3fd626a17e09",
    "outputId": "ad76e676-0dcc-4078-be2c-b2384512e6b4"
   },
   "outputs": [
    {
     "data": {
      "text/plain": [
       "baths\n",
       "0           2\n",
       "1       16502\n",
       "1.5       961\n",
       "2        5052\n",
       "2.5      1906\n",
       "3         384\n",
       "3.5       422\n",
       "4          87\n",
       "4.5        23\n",
       "5           9\n",
       "5.5         4\n",
       "6           2\n",
       "6.5         1\n",
       "7           2\n",
       "7.5         2\n",
       "8           1\n",
       "none       10\n",
       "Name: baths, dtype: int64"
      ]
     },
     "execution_count": 120,
     "metadata": {},
     "output_type": "execute_result"
    }
   ],
   "source": [
    "dfbh = df.groupby('baths')\n",
    "dfbh['baths'].count()"
   ]
  },
  {
   "cell_type": "code",
   "execution_count": 122,
   "id": "b34ad751-474b-47a3-8371-78cdfcfef06a",
   "metadata": {
    "id": "b34ad751-474b-47a3-8371-78cdfcfef06a"
   },
   "outputs": [],
   "source": [
    "# we are grouping the values of column baths in 2\n",
    "# for index,row in df.iterrows():\n",
    "#     if row['baths']=='1' or row['baths']=='0':\n",
    "#         df.at[index,'baths']='1 or none'\n",
    "#     else:\n",
    "#         df.at[index,'baths']='more than 1'\n",
    "\n",
    "for index,row in df.iterrows():\n",
    "    if row['baths']!='1':\n",
    "        df.at[index,'baths']='other baths'\n",
    "\n"
   ]
  },
  {
   "cell_type": "code",
   "execution_count": 124,
   "id": "f3ab0c08-d8bd-4d1b-a097-f5b4fc31f68e",
   "metadata": {
    "id": "f3ab0c08-d8bd-4d1b-a097-f5b4fc31f68e",
    "outputId": "5b6113ce-f256-42a3-f092-4c9730990a94"
   },
   "outputs": [
    {
     "data": {
      "text/plain": [
       "baths\n",
       "1              16502\n",
       "other baths     8868\n",
       "Name: baths, dtype: int64"
      ]
     },
     "execution_count": 124,
     "metadata": {},
     "output_type": "execute_result"
    }
   ],
   "source": [
    "dfbh = df.groupby('baths')\n",
    "dfbh['baths'].count()"
   ]
  },
  {
   "cell_type": "markdown",
   "id": "1b0d7113-a4a0-425b-bc32-c54b4d3e1afe",
   "metadata": {
    "id": "1b0d7113-a4a0-425b-bc32-c54b4d3e1afe"
   },
   "source": [
    "### Preparing column furnishing"
   ]
  },
  {
   "cell_type": "code",
   "execution_count": 127,
   "id": "618cb919-8f55-4f83-83fb-e13b9fa3d59e",
   "metadata": {
    "id": "618cb919-8f55-4f83-83fb-e13b9fa3d59e"
   },
   "outputs": [],
   "source": [
    "for index,row in df.iterrows():\n",
    "    if row['furnishing']=='Unfurnished, Negotiable':\n",
    "        df.at[index,'furnishing']='Other furnishing'\n",
    "    if row['furnishing']=='Negotiable':\n",
    "        df.at[index,'furnishing']='Other furnishing'\n",
    "    if row['furnishing']=='Furnished':\n",
    "        df.at[index,'furnishing']='Other furnishing'"
   ]
  },
  {
   "cell_type": "code",
   "execution_count": 129,
   "id": "e9b35b81-9c4a-4fc7-92c7-1531afb8313f",
   "metadata": {
    "id": "e9b35b81-9c4a-4fc7-92c7-1531afb8313f",
    "outputId": "291ce6cd-6e1a-4e33-963f-bbd9f7af389b"
   },
   "outputs": [
    {
     "data": {
      "text/plain": [
       "furnishing\n",
       "Other furnishing     2569\n",
       "Unfurnished         22801\n",
       "Name: furnishing, dtype: int64"
      ]
     },
     "execution_count": 129,
     "metadata": {},
     "output_type": "execute_result"
    }
   ],
   "source": [
    "dff = df.groupby('furnishing')\n",
    "dff['furnishing'].count()"
   ]
  },
  {
   "cell_type": "markdown",
   "id": "70978bc6-3d2e-4b69-b1e3-a89ad292915e",
   "metadata": {
    "id": "70978bc6-3d2e-4b69-b1e3-a89ad292915e"
   },
   "source": [
    "### Preparing column smoking"
   ]
  },
  {
   "cell_type": "code",
   "execution_count": 132,
   "id": "aeb306fe-7281-4b35-a110-b4e6baf17f79",
   "metadata": {
    "id": "aeb306fe-7281-4b35-a110-b4e6baf17f79",
    "outputId": "45e62ce3-3663-4fbc-f577-d8b470b123b4"
   },
   "outputs": [
    {
     "data": {
      "text/plain": [
       "smoking\n",
       "Negotiable                99\n",
       "Non-Smoking            22076\n",
       "Smoke Free Building      352\n",
       "Smoking Allowed          175\n",
       "Name: smoking, dtype: int64"
      ]
     },
     "execution_count": 132,
     "metadata": {},
     "output_type": "execute_result"
    }
   ],
   "source": [
    "dfs = df.groupby('smoking')\n",
    "dfs['smoking'].count()"
   ]
  },
  {
   "cell_type": "code",
   "execution_count": 134,
   "id": "a94ce108-bdc2-46b4-99d9-4f63c1f4dce2",
   "metadata": {
    "id": "a94ce108-bdc2-46b4-99d9-4f63c1f4dce2"
   },
   "outputs": [],
   "source": [
    "for index,row in df.iterrows():\n",
    "    if row['smoking']=='Smoke Free Building':\n",
    "        df.at[index,'smoking']='Non-Smoking'\n",
    "    elif row['smoking']=='Negotiable' or row['smoking']=='Smoking Allowed':\n",
    "        df.at[index,'smoking']='Negotiable_Allowed'\n"
   ]
  },
  {
   "cell_type": "code",
   "execution_count": 136,
   "id": "d6a315c4-2fb4-4f2f-ac37-4cad0392b98d",
   "metadata": {
    "id": "d6a315c4-2fb4-4f2f-ac37-4cad0392b98d",
    "outputId": "e3f69a84-48cf-49df-fae2-cb6b71f01b31"
   },
   "outputs": [
    {
     "data": {
      "text/plain": [
       "smoking\n",
       "Negotiable_Allowed      274\n",
       "Non-Smoking           22428\n",
       "Name: smoking, dtype: int64"
      ]
     },
     "execution_count": 136,
     "metadata": {},
     "output_type": "execute_result"
    }
   ],
   "source": [
    "dfs = df.groupby('smoking')\n",
    "dfs['smoking'].count()"
   ]
  },
  {
   "cell_type": "code",
   "execution_count": 138,
   "id": "cae0c258-f717-4127-ae52-5210795ccd85",
   "metadata": {
    "id": "cae0c258-f717-4127-ae52-5210795ccd85"
   },
   "outputs": [],
   "source": [
    "# since Non-Smoking is the most common, the nulls were replaced by Non-Smoking\n",
    "df['smoking'].fillna('Non-Smoking',inplace=True)"
   ]
  },
  {
   "cell_type": "markdown",
   "id": "7acd1941-9edb-4b91-bf56-c278256a4983",
   "metadata": {
    "id": "7acd1941-9edb-4b91-bf56-c278256a4983"
   },
   "source": [
    "## Summary of the the data after preparation"
   ]
  },
  {
   "cell_type": "code",
   "execution_count": 141,
   "id": "5cc1a786-adaa-493c-ad52-b06c64b965e5",
   "metadata": {
    "id": "5cc1a786-adaa-493c-ad52-b06c64b965e5",
    "outputId": "0ef959d1-e046-406f-d394-dd581bd95bf7"
   },
   "outputs": [
    {
     "name": "stdout",
     "output_type": "stream",
     "text": [
      "<class 'pandas.core.frame.DataFrame'>\n",
      "Index: 25370 entries, 0 to 25770\n",
      "Data columns (total 7 columns):\n",
      " #   Column      Non-Null Count  Dtype  \n",
      "---  ------      --------------  -----  \n",
      " 0   lease_term  25370 non-null  object \n",
      " 1   price       25370 non-null  float64\n",
      " 2   beds        25370 non-null  object \n",
      " 3   baths       25370 non-null  object \n",
      " 4   sq_feet     25370 non-null  float64\n",
      " 5   furnishing  25370 non-null  object \n",
      " 6   smoking     25370 non-null  object \n",
      "dtypes: float64(2), object(5)\n",
      "memory usage: 2.6+ MB\n"
     ]
    }
   ],
   "source": [
    "df.info()"
   ]
  },
  {
   "cell_type": "code",
   "execution_count": 143,
   "id": "f2695d03-1d96-4988-9035-fbe699033eb3",
   "metadata": {
    "id": "f2695d03-1d96-4988-9035-fbe699033eb3",
    "outputId": "f59ed98d-c4d6-4db9-d201-92ab77a7b136"
   },
   "outputs": [
    {
     "data": {
      "text/html": [
       "<div>\n",
       "<style scoped>\n",
       "    .dataframe tbody tr th:only-of-type {\n",
       "        vertical-align: middle;\n",
       "    }\n",
       "\n",
       "    .dataframe tbody tr th {\n",
       "        vertical-align: top;\n",
       "    }\n",
       "\n",
       "    .dataframe thead th {\n",
       "        text-align: right;\n",
       "    }\n",
       "</style>\n",
       "<table border=\"1\" class=\"dataframe\">\n",
       "  <thead>\n",
       "    <tr style=\"text-align: right;\">\n",
       "      <th></th>\n",
       "      <th>price</th>\n",
       "      <th>sq_feet</th>\n",
       "    </tr>\n",
       "  </thead>\n",
       "  <tbody>\n",
       "    <tr>\n",
       "      <th>count</th>\n",
       "      <td>25370.000000</td>\n",
       "      <td>25370.000000</td>\n",
       "    </tr>\n",
       "    <tr>\n",
       "      <th>mean</th>\n",
       "      <td>2180.131012</td>\n",
       "      <td>910.034854</td>\n",
       "    </tr>\n",
       "    <tr>\n",
       "      <th>std</th>\n",
       "      <td>948.271405</td>\n",
       "      <td>438.054957</td>\n",
       "    </tr>\n",
       "    <tr>\n",
       "      <th>min</th>\n",
       "      <td>1.000000</td>\n",
       "      <td>1.000000</td>\n",
       "    </tr>\n",
       "    <tr>\n",
       "      <th>25%</th>\n",
       "      <td>1640.000000</td>\n",
       "      <td>657.000000</td>\n",
       "    </tr>\n",
       "    <tr>\n",
       "      <th>50%</th>\n",
       "      <td>2050.000000</td>\n",
       "      <td>891.756827</td>\n",
       "    </tr>\n",
       "    <tr>\n",
       "      <th>75%</th>\n",
       "      <td>2550.000000</td>\n",
       "      <td>982.000000</td>\n",
       "    </tr>\n",
       "    <tr>\n",
       "      <th>max</th>\n",
       "      <td>29990.000000</td>\n",
       "      <td>11700.000000</td>\n",
       "    </tr>\n",
       "  </tbody>\n",
       "</table>\n",
       "</div>"
      ],
      "text/plain": [
       "              price       sq_feet\n",
       "count  25370.000000  25370.000000\n",
       "mean    2180.131012    910.034854\n",
       "std      948.271405    438.054957\n",
       "min        1.000000      1.000000\n",
       "25%     1640.000000    657.000000\n",
       "50%     2050.000000    891.756827\n",
       "75%     2550.000000    982.000000\n",
       "max    29990.000000  11700.000000"
      ]
     },
     "execution_count": 143,
     "metadata": {},
     "output_type": "execute_result"
    }
   ],
   "source": [
    "df.describe()"
   ]
  },
  {
   "cell_type": "code",
   "execution_count": 145,
   "id": "82a9701c-37a0-45a2-83ec-ca988f7b80df",
   "metadata": {
    "id": "82a9701c-37a0-45a2-83ec-ca988f7b80df",
    "outputId": "86284a79-5d2f-4710-cc06-17bcbc45a2f7"
   },
   "outputs": [
    {
     "data": {
      "text/plain": [
       "lease_term    0\n",
       "price         0\n",
       "beds          0\n",
       "baths         0\n",
       "sq_feet       0\n",
       "furnishing    0\n",
       "smoking       0\n",
       "dtype: int64"
      ]
     },
     "execution_count": 145,
     "metadata": {},
     "output_type": "execute_result"
    }
   ],
   "source": [
    "df.isnull().sum()"
   ]
  },
  {
   "cell_type": "markdown",
   "id": "ce404b4b-da35-41e6-bf5f-de160cf1b22f",
   "metadata": {
    "id": "ce404b4b-da35-41e6-bf5f-de160cf1b22f"
   },
   "source": [
    "# 3. Feature Engineering"
   ]
  },
  {
   "cell_type": "code",
   "execution_count": 148,
   "id": "15b86649-93f9-43e0-b893-111a0a359a6d",
   "metadata": {},
   "outputs": [
    {
     "data": {
      "text/html": [
       "<div>\n",
       "<style scoped>\n",
       "    .dataframe tbody tr th:only-of-type {\n",
       "        vertical-align: middle;\n",
       "    }\n",
       "\n",
       "    .dataframe tbody tr th {\n",
       "        vertical-align: top;\n",
       "    }\n",
       "\n",
       "    .dataframe thead th {\n",
       "        text-align: right;\n",
       "    }\n",
       "</style>\n",
       "<table border=\"1\" class=\"dataframe\">\n",
       "  <thead>\n",
       "    <tr style=\"text-align: right;\">\n",
       "      <th></th>\n",
       "      <th>lease_term</th>\n",
       "      <th>price</th>\n",
       "      <th>beds</th>\n",
       "      <th>baths</th>\n",
       "      <th>sq_feet</th>\n",
       "      <th>furnishing</th>\n",
       "      <th>smoking</th>\n",
       "    </tr>\n",
       "  </thead>\n",
       "  <tbody>\n",
       "    <tr>\n",
       "      <th>0</th>\n",
       "      <td>Long Term</td>\n",
       "      <td>2495.0</td>\n",
       "      <td>2 Beds</td>\n",
       "      <td>other baths</td>\n",
       "      <td>1403.0</td>\n",
       "      <td>Unfurnished</td>\n",
       "      <td>Non-Smoking</td>\n",
       "    </tr>\n",
       "    <tr>\n",
       "      <th>1</th>\n",
       "      <td>Long Term</td>\n",
       "      <td>2695.0</td>\n",
       "      <td>other beds</td>\n",
       "      <td>other baths</td>\n",
       "      <td>1496.0</td>\n",
       "      <td>Unfurnished</td>\n",
       "      <td>Non-Smoking</td>\n",
       "    </tr>\n",
       "    <tr>\n",
       "      <th>2</th>\n",
       "      <td>Long Term</td>\n",
       "      <td>2295.0</td>\n",
       "      <td>2 Beds</td>\n",
       "      <td>other baths</td>\n",
       "      <td>1180.0</td>\n",
       "      <td>Unfurnished</td>\n",
       "      <td>Non-Smoking</td>\n",
       "    </tr>\n",
       "    <tr>\n",
       "      <th>3</th>\n",
       "      <td>Long Term</td>\n",
       "      <td>2095.0</td>\n",
       "      <td>2 Beds</td>\n",
       "      <td>other baths</td>\n",
       "      <td>1403.0</td>\n",
       "      <td>Unfurnished</td>\n",
       "      <td>Non-Smoking</td>\n",
       "    </tr>\n",
       "    <tr>\n",
       "      <th>4</th>\n",
       "      <td>Long Term</td>\n",
       "      <td>2495.0</td>\n",
       "      <td>2 Beds</td>\n",
       "      <td>other baths</td>\n",
       "      <td>1403.0</td>\n",
       "      <td>Unfurnished</td>\n",
       "      <td>Non-Smoking</td>\n",
       "    </tr>\n",
       "    <tr>\n",
       "      <th>...</th>\n",
       "      <td>...</td>\n",
       "      <td>...</td>\n",
       "      <td>...</td>\n",
       "      <td>...</td>\n",
       "      <td>...</td>\n",
       "      <td>...</td>\n",
       "      <td>...</td>\n",
       "    </tr>\n",
       "    <tr>\n",
       "      <th>25766</th>\n",
       "      <td>Long Term</td>\n",
       "      <td>920.0</td>\n",
       "      <td>other beds</td>\n",
       "      <td>1</td>\n",
       "      <td>400.0</td>\n",
       "      <td>Unfurnished</td>\n",
       "      <td>Non-Smoking</td>\n",
       "    </tr>\n",
       "    <tr>\n",
       "      <th>25767</th>\n",
       "      <td>Long Term</td>\n",
       "      <td>1450.0</td>\n",
       "      <td>other beds</td>\n",
       "      <td>1</td>\n",
       "      <td>810.0</td>\n",
       "      <td>Unfurnished</td>\n",
       "      <td>Non-Smoking</td>\n",
       "    </tr>\n",
       "    <tr>\n",
       "      <th>25768</th>\n",
       "      <td>Long Term</td>\n",
       "      <td>1125.0</td>\n",
       "      <td>1 Bed</td>\n",
       "      <td>1</td>\n",
       "      <td>520.0</td>\n",
       "      <td>Unfurnished</td>\n",
       "      <td>Non-Smoking</td>\n",
       "    </tr>\n",
       "    <tr>\n",
       "      <th>25769</th>\n",
       "      <td>Long Term</td>\n",
       "      <td>920.0</td>\n",
       "      <td>other beds</td>\n",
       "      <td>1</td>\n",
       "      <td>400.0</td>\n",
       "      <td>Unfurnished</td>\n",
       "      <td>Non-Smoking</td>\n",
       "    </tr>\n",
       "    <tr>\n",
       "      <th>25770</th>\n",
       "      <td>Long Term</td>\n",
       "      <td>1285.0</td>\n",
       "      <td>2 Beds</td>\n",
       "      <td>1</td>\n",
       "      <td>700.0</td>\n",
       "      <td>Unfurnished</td>\n",
       "      <td>Non-Smoking</td>\n",
       "    </tr>\n",
       "  </tbody>\n",
       "</table>\n",
       "<p>25370 rows × 7 columns</p>\n",
       "</div>"
      ],
      "text/plain": [
       "      lease_term   price        beds        baths  sq_feet   furnishing  \\\n",
       "0      Long Term  2495.0      2 Beds  other baths   1403.0  Unfurnished   \n",
       "1      Long Term  2695.0  other beds  other baths   1496.0  Unfurnished   \n",
       "2      Long Term  2295.0      2 Beds  other baths   1180.0  Unfurnished   \n",
       "3      Long Term  2095.0      2 Beds  other baths   1403.0  Unfurnished   \n",
       "4      Long Term  2495.0      2 Beds  other baths   1403.0  Unfurnished   \n",
       "...          ...     ...         ...          ...      ...          ...   \n",
       "25766  Long Term   920.0  other beds            1    400.0  Unfurnished   \n",
       "25767  Long Term  1450.0  other beds            1    810.0  Unfurnished   \n",
       "25768  Long Term  1125.0       1 Bed            1    520.0  Unfurnished   \n",
       "25769  Long Term   920.0  other beds            1    400.0  Unfurnished   \n",
       "25770  Long Term  1285.0      2 Beds            1    700.0  Unfurnished   \n",
       "\n",
       "           smoking  \n",
       "0      Non-Smoking  \n",
       "1      Non-Smoking  \n",
       "2      Non-Smoking  \n",
       "3      Non-Smoking  \n",
       "4      Non-Smoking  \n",
       "...            ...  \n",
       "25766  Non-Smoking  \n",
       "25767  Non-Smoking  \n",
       "25768  Non-Smoking  \n",
       "25769  Non-Smoking  \n",
       "25770  Non-Smoking  \n",
       "\n",
       "[25370 rows x 7 columns]"
      ]
     },
     "execution_count": 148,
     "metadata": {},
     "output_type": "execute_result"
    }
   ],
   "source": [
    "df"
   ]
  },
  {
   "cell_type": "code",
   "execution_count": 150,
   "id": "96bc3d62-06fc-4cc0-8f14-57e5955ffbdf",
   "metadata": {},
   "outputs": [
    {
     "data": {
      "text/html": [
       "<div>\n",
       "<style scoped>\n",
       "    .dataframe tbody tr th:only-of-type {\n",
       "        vertical-align: middle;\n",
       "    }\n",
       "\n",
       "    .dataframe tbody tr th {\n",
       "        vertical-align: top;\n",
       "    }\n",
       "\n",
       "    .dataframe thead th {\n",
       "        text-align: right;\n",
       "    }\n",
       "</style>\n",
       "<table border=\"1\" class=\"dataframe\">\n",
       "  <thead>\n",
       "    <tr style=\"text-align: right;\">\n",
       "      <th></th>\n",
       "      <th>lease_term_Other lease Term</th>\n",
       "      <th>beds_2 Beds</th>\n",
       "      <th>beds_other beds</th>\n",
       "      <th>baths_other baths</th>\n",
       "      <th>furnishing_Unfurnished</th>\n",
       "      <th>smoking_Non-Smoking</th>\n",
       "    </tr>\n",
       "  </thead>\n",
       "  <tbody>\n",
       "    <tr>\n",
       "      <th>0</th>\n",
       "      <td>0.0</td>\n",
       "      <td>1.0</td>\n",
       "      <td>0.0</td>\n",
       "      <td>1.0</td>\n",
       "      <td>1.0</td>\n",
       "      <td>1.0</td>\n",
       "    </tr>\n",
       "    <tr>\n",
       "      <th>1</th>\n",
       "      <td>0.0</td>\n",
       "      <td>0.0</td>\n",
       "      <td>1.0</td>\n",
       "      <td>1.0</td>\n",
       "      <td>1.0</td>\n",
       "      <td>1.0</td>\n",
       "    </tr>\n",
       "    <tr>\n",
       "      <th>2</th>\n",
       "      <td>0.0</td>\n",
       "      <td>1.0</td>\n",
       "      <td>0.0</td>\n",
       "      <td>1.0</td>\n",
       "      <td>1.0</td>\n",
       "      <td>1.0</td>\n",
       "    </tr>\n",
       "    <tr>\n",
       "      <th>3</th>\n",
       "      <td>0.0</td>\n",
       "      <td>1.0</td>\n",
       "      <td>0.0</td>\n",
       "      <td>1.0</td>\n",
       "      <td>1.0</td>\n",
       "      <td>1.0</td>\n",
       "    </tr>\n",
       "    <tr>\n",
       "      <th>4</th>\n",
       "      <td>0.0</td>\n",
       "      <td>1.0</td>\n",
       "      <td>0.0</td>\n",
       "      <td>1.0</td>\n",
       "      <td>1.0</td>\n",
       "      <td>1.0</td>\n",
       "    </tr>\n",
       "    <tr>\n",
       "      <th>...</th>\n",
       "      <td>...</td>\n",
       "      <td>...</td>\n",
       "      <td>...</td>\n",
       "      <td>...</td>\n",
       "      <td>...</td>\n",
       "      <td>...</td>\n",
       "    </tr>\n",
       "    <tr>\n",
       "      <th>25766</th>\n",
       "      <td>0.0</td>\n",
       "      <td>0.0</td>\n",
       "      <td>1.0</td>\n",
       "      <td>0.0</td>\n",
       "      <td>1.0</td>\n",
       "      <td>1.0</td>\n",
       "    </tr>\n",
       "    <tr>\n",
       "      <th>25767</th>\n",
       "      <td>0.0</td>\n",
       "      <td>0.0</td>\n",
       "      <td>1.0</td>\n",
       "      <td>0.0</td>\n",
       "      <td>1.0</td>\n",
       "      <td>1.0</td>\n",
       "    </tr>\n",
       "    <tr>\n",
       "      <th>25768</th>\n",
       "      <td>0.0</td>\n",
       "      <td>0.0</td>\n",
       "      <td>0.0</td>\n",
       "      <td>0.0</td>\n",
       "      <td>1.0</td>\n",
       "      <td>1.0</td>\n",
       "    </tr>\n",
       "    <tr>\n",
       "      <th>25769</th>\n",
       "      <td>0.0</td>\n",
       "      <td>0.0</td>\n",
       "      <td>1.0</td>\n",
       "      <td>0.0</td>\n",
       "      <td>1.0</td>\n",
       "      <td>1.0</td>\n",
       "    </tr>\n",
       "    <tr>\n",
       "      <th>25770</th>\n",
       "      <td>0.0</td>\n",
       "      <td>1.0</td>\n",
       "      <td>0.0</td>\n",
       "      <td>0.0</td>\n",
       "      <td>1.0</td>\n",
       "      <td>1.0</td>\n",
       "    </tr>\n",
       "  </tbody>\n",
       "</table>\n",
       "<p>25370 rows × 6 columns</p>\n",
       "</div>"
      ],
      "text/plain": [
       "       lease_term_Other lease Term  beds_2 Beds  beds_other beds  \\\n",
       "0                              0.0          1.0              0.0   \n",
       "1                              0.0          0.0              1.0   \n",
       "2                              0.0          1.0              0.0   \n",
       "3                              0.0          1.0              0.0   \n",
       "4                              0.0          1.0              0.0   \n",
       "...                            ...          ...              ...   \n",
       "25766                          0.0          0.0              1.0   \n",
       "25767                          0.0          0.0              1.0   \n",
       "25768                          0.0          0.0              0.0   \n",
       "25769                          0.0          0.0              1.0   \n",
       "25770                          0.0          1.0              0.0   \n",
       "\n",
       "       baths_other baths  furnishing_Unfurnished  smoking_Non-Smoking  \n",
       "0                    1.0                     1.0                  1.0  \n",
       "1                    1.0                     1.0                  1.0  \n",
       "2                    1.0                     1.0                  1.0  \n",
       "3                    1.0                     1.0                  1.0  \n",
       "4                    1.0                     1.0                  1.0  \n",
       "...                  ...                     ...                  ...  \n",
       "25766                0.0                     1.0                  1.0  \n",
       "25767                0.0                     1.0                  1.0  \n",
       "25768                0.0                     1.0                  1.0  \n",
       "25769                0.0                     1.0                  1.0  \n",
       "25770                0.0                     1.0                  1.0  \n",
       "\n",
       "[25370 rows x 6 columns]"
      ]
     },
     "execution_count": 150,
     "metadata": {},
     "output_type": "execute_result"
    }
   ],
   "source": [
    "# Encoding the data\n",
    "\n",
    "from sklearn.preprocessing import OneHotEncoder\n",
    "encoder = OneHotEncoder(drop='first', sparse_output=False)\n",
    "\n",
    "# Fit and transform the data\n",
    "encoded_features = encoder.fit_transform(df[['lease_term', 'beds', 'baths', 'furnishing', 'smoking']])\n",
    "\n",
    "encoded_df = pd.DataFrame(encoded_features, columns=encoder.get_feature_names_out(['lease_term', 'beds','baths' , 'furnishing', 'smoking']),index=df.index)\n",
    "encoded_df"
   ]
  },
  {
   "cell_type": "code",
   "execution_count": 152,
   "id": "261b9620-991b-474c-87c1-369805651164",
   "metadata": {},
   "outputs": [
    {
     "data": {
      "text/html": [
       "<div>\n",
       "<style scoped>\n",
       "    .dataframe tbody tr th:only-of-type {\n",
       "        vertical-align: middle;\n",
       "    }\n",
       "\n",
       "    .dataframe tbody tr th {\n",
       "        vertical-align: top;\n",
       "    }\n",
       "\n",
       "    .dataframe thead th {\n",
       "        text-align: right;\n",
       "    }\n",
       "</style>\n",
       "<table border=\"1\" class=\"dataframe\">\n",
       "  <thead>\n",
       "    <tr style=\"text-align: right;\">\n",
       "      <th></th>\n",
       "      <th>price</th>\n",
       "      <th>sq_feet</th>\n",
       "      <th>lease_term_Other lease Term</th>\n",
       "      <th>beds_2 Beds</th>\n",
       "      <th>beds_other beds</th>\n",
       "      <th>baths_other baths</th>\n",
       "      <th>furnishing_Unfurnished</th>\n",
       "      <th>smoking_Non-Smoking</th>\n",
       "    </tr>\n",
       "  </thead>\n",
       "  <tbody>\n",
       "    <tr>\n",
       "      <th>0</th>\n",
       "      <td>2495.0</td>\n",
       "      <td>1403.0</td>\n",
       "      <td>0.0</td>\n",
       "      <td>1.0</td>\n",
       "      <td>0.0</td>\n",
       "      <td>1.0</td>\n",
       "      <td>1.0</td>\n",
       "      <td>1.0</td>\n",
       "    </tr>\n",
       "    <tr>\n",
       "      <th>1</th>\n",
       "      <td>2695.0</td>\n",
       "      <td>1496.0</td>\n",
       "      <td>0.0</td>\n",
       "      <td>0.0</td>\n",
       "      <td>1.0</td>\n",
       "      <td>1.0</td>\n",
       "      <td>1.0</td>\n",
       "      <td>1.0</td>\n",
       "    </tr>\n",
       "    <tr>\n",
       "      <th>2</th>\n",
       "      <td>2295.0</td>\n",
       "      <td>1180.0</td>\n",
       "      <td>0.0</td>\n",
       "      <td>1.0</td>\n",
       "      <td>0.0</td>\n",
       "      <td>1.0</td>\n",
       "      <td>1.0</td>\n",
       "      <td>1.0</td>\n",
       "    </tr>\n",
       "    <tr>\n",
       "      <th>3</th>\n",
       "      <td>2095.0</td>\n",
       "      <td>1403.0</td>\n",
       "      <td>0.0</td>\n",
       "      <td>1.0</td>\n",
       "      <td>0.0</td>\n",
       "      <td>1.0</td>\n",
       "      <td>1.0</td>\n",
       "      <td>1.0</td>\n",
       "    </tr>\n",
       "    <tr>\n",
       "      <th>4</th>\n",
       "      <td>2495.0</td>\n",
       "      <td>1403.0</td>\n",
       "      <td>0.0</td>\n",
       "      <td>1.0</td>\n",
       "      <td>0.0</td>\n",
       "      <td>1.0</td>\n",
       "      <td>1.0</td>\n",
       "      <td>1.0</td>\n",
       "    </tr>\n",
       "    <tr>\n",
       "      <th>...</th>\n",
       "      <td>...</td>\n",
       "      <td>...</td>\n",
       "      <td>...</td>\n",
       "      <td>...</td>\n",
       "      <td>...</td>\n",
       "      <td>...</td>\n",
       "      <td>...</td>\n",
       "      <td>...</td>\n",
       "    </tr>\n",
       "    <tr>\n",
       "      <th>25766</th>\n",
       "      <td>920.0</td>\n",
       "      <td>400.0</td>\n",
       "      <td>0.0</td>\n",
       "      <td>0.0</td>\n",
       "      <td>1.0</td>\n",
       "      <td>0.0</td>\n",
       "      <td>1.0</td>\n",
       "      <td>1.0</td>\n",
       "    </tr>\n",
       "    <tr>\n",
       "      <th>25767</th>\n",
       "      <td>1450.0</td>\n",
       "      <td>810.0</td>\n",
       "      <td>0.0</td>\n",
       "      <td>0.0</td>\n",
       "      <td>1.0</td>\n",
       "      <td>0.0</td>\n",
       "      <td>1.0</td>\n",
       "      <td>1.0</td>\n",
       "    </tr>\n",
       "    <tr>\n",
       "      <th>25768</th>\n",
       "      <td>1125.0</td>\n",
       "      <td>520.0</td>\n",
       "      <td>0.0</td>\n",
       "      <td>0.0</td>\n",
       "      <td>0.0</td>\n",
       "      <td>0.0</td>\n",
       "      <td>1.0</td>\n",
       "      <td>1.0</td>\n",
       "    </tr>\n",
       "    <tr>\n",
       "      <th>25769</th>\n",
       "      <td>920.0</td>\n",
       "      <td>400.0</td>\n",
       "      <td>0.0</td>\n",
       "      <td>0.0</td>\n",
       "      <td>1.0</td>\n",
       "      <td>0.0</td>\n",
       "      <td>1.0</td>\n",
       "      <td>1.0</td>\n",
       "    </tr>\n",
       "    <tr>\n",
       "      <th>25770</th>\n",
       "      <td>1285.0</td>\n",
       "      <td>700.0</td>\n",
       "      <td>0.0</td>\n",
       "      <td>1.0</td>\n",
       "      <td>0.0</td>\n",
       "      <td>0.0</td>\n",
       "      <td>1.0</td>\n",
       "      <td>1.0</td>\n",
       "    </tr>\n",
       "  </tbody>\n",
       "</table>\n",
       "<p>25370 rows × 8 columns</p>\n",
       "</div>"
      ],
      "text/plain": [
       "        price  sq_feet  lease_term_Other lease Term  beds_2 Beds  \\\n",
       "0      2495.0   1403.0                          0.0          1.0   \n",
       "1      2695.0   1496.0                          0.0          0.0   \n",
       "2      2295.0   1180.0                          0.0          1.0   \n",
       "3      2095.0   1403.0                          0.0          1.0   \n",
       "4      2495.0   1403.0                          0.0          1.0   \n",
       "...       ...      ...                          ...          ...   \n",
       "25766   920.0    400.0                          0.0          0.0   \n",
       "25767  1450.0    810.0                          0.0          0.0   \n",
       "25768  1125.0    520.0                          0.0          0.0   \n",
       "25769   920.0    400.0                          0.0          0.0   \n",
       "25770  1285.0    700.0                          0.0          1.0   \n",
       "\n",
       "       beds_other beds  baths_other baths  furnishing_Unfurnished  \\\n",
       "0                  0.0                1.0                     1.0   \n",
       "1                  1.0                1.0                     1.0   \n",
       "2                  0.0                1.0                     1.0   \n",
       "3                  0.0                1.0                     1.0   \n",
       "4                  0.0                1.0                     1.0   \n",
       "...                ...                ...                     ...   \n",
       "25766              1.0                0.0                     1.0   \n",
       "25767              1.0                0.0                     1.0   \n",
       "25768              0.0                0.0                     1.0   \n",
       "25769              1.0                0.0                     1.0   \n",
       "25770              0.0                0.0                     1.0   \n",
       "\n",
       "       smoking_Non-Smoking  \n",
       "0                      1.0  \n",
       "1                      1.0  \n",
       "2                      1.0  \n",
       "3                      1.0  \n",
       "4                      1.0  \n",
       "...                    ...  \n",
       "25766                  1.0  \n",
       "25767                  1.0  \n",
       "25768                  1.0  \n",
       "25769                  1.0  \n",
       "25770                  1.0  \n",
       "\n",
       "[25370 rows x 8 columns]"
      ]
     },
     "execution_count": 152,
     "metadata": {},
     "output_type": "execute_result"
    }
   ],
   "source": [
    "# join the encoded features and drop the originals\n",
    "\n",
    "df = df.drop(columns=['lease_term', 'beds', 'baths', 'furnishing', 'smoking']).join(encoded_df, how='left')\n",
    "df"
   ]
  },
  {
   "cell_type": "code",
   "execution_count": 172,
   "id": "e724829e-41a9-4164-8d53-6e64ae0455fb",
   "metadata": {},
   "outputs": [
    {
     "data": {
      "text/plain": [
       "array(['sq_feet', 'beds_2 Beds', 'beds_other beds', 'baths_other baths',\n",
       "       'smoking_Non-Smoking'], dtype=object)"
      ]
     },
     "execution_count": 172,
     "metadata": {},
     "output_type": "execute_result"
    }
   ],
   "source": [
    "# Trying feature selection to use in the models\n",
    "\n",
    "from sklearn.compose import ColumnTransformer\n",
    "from sklearn.feature_selection import f_regression, SelectKBest\n",
    "from sklearn.model_selection import train_test_split\n",
    "\n",
    "# features and target variable\n",
    "X = df.drop('price', axis=1)\n",
    "y = df['price']\n",
    "\n",
    "# Splitting the data: 80% training and 20% testing\n",
    "X_train, X_test, y_train, y_test = train_test_split(X, y, test_size=0.2, random_state=42)\n",
    "\n",
    "# Initialize SelectKBest with f_regression choose top 5 features\n",
    "selector = SelectKBest(score_func=f_regression, k=5)\n",
    "\n",
    "# Fit and transform training data only\n",
    "X_train_selected = selector.fit_transform(X_train, y_train)\n",
    "\n",
    "# Get the selected feature names\n",
    "selected_features = selector.get_feature_names_out(X.columns)\n",
    "\n",
    "# View top 5 features\n",
    "selected_features"
   ]
  },
  {
   "cell_type": "markdown",
   "id": "9caa0354-63fb-447d-be05-32c5810e28d5",
   "metadata": {},
   "source": [
    "# 4. Regression models"
   ]
  },
  {
   "cell_type": "code",
   "execution_count": 174,
   "id": "29911a1d-ac44-4b53-a5e0-3e15353a8620",
   "metadata": {},
   "outputs": [
    {
     "data": {
      "text/html": [
       "<div>\n",
       "<style scoped>\n",
       "    .dataframe tbody tr th:only-of-type {\n",
       "        vertical-align: middle;\n",
       "    }\n",
       "\n",
       "    .dataframe tbody tr th {\n",
       "        vertical-align: top;\n",
       "    }\n",
       "\n",
       "    .dataframe thead th {\n",
       "        text-align: right;\n",
       "    }\n",
       "</style>\n",
       "<table border=\"1\" class=\"dataframe\">\n",
       "  <thead>\n",
       "    <tr style=\"text-align: right;\">\n",
       "      <th></th>\n",
       "      <th>price</th>\n",
       "      <th>sq_feet</th>\n",
       "      <th>lease_term_Other lease Term</th>\n",
       "      <th>beds_2 Beds</th>\n",
       "      <th>beds_other beds</th>\n",
       "      <th>baths_other baths</th>\n",
       "      <th>furnishing_Unfurnished</th>\n",
       "      <th>smoking_Non-Smoking</th>\n",
       "    </tr>\n",
       "  </thead>\n",
       "  <tbody>\n",
       "    <tr>\n",
       "      <th>price</th>\n",
       "      <td>1.000000</td>\n",
       "      <td>0.424720</td>\n",
       "      <td>0.033115</td>\n",
       "      <td>0.113655</td>\n",
       "      <td>0.187859</td>\n",
       "      <td>0.440049</td>\n",
       "      <td>-0.026343</td>\n",
       "      <td>0.040835</td>\n",
       "    </tr>\n",
       "    <tr>\n",
       "      <th>sq_feet</th>\n",
       "      <td>0.424720</td>\n",
       "      <td>1.000000</td>\n",
       "      <td>0.121829</td>\n",
       "      <td>0.031369</td>\n",
       "      <td>0.385236</td>\n",
       "      <td>0.486964</td>\n",
       "      <td>-0.093818</td>\n",
       "      <td>-0.013287</td>\n",
       "    </tr>\n",
       "    <tr>\n",
       "      <th>lease_term_Other lease Term</th>\n",
       "      <td>0.033115</td>\n",
       "      <td>0.121829</td>\n",
       "      <td>1.000000</td>\n",
       "      <td>-0.027535</td>\n",
       "      <td>0.028483</td>\n",
       "      <td>0.046151</td>\n",
       "      <td>-0.420471</td>\n",
       "      <td>-0.044716</td>\n",
       "    </tr>\n",
       "    <tr>\n",
       "      <th>beds_2 Beds</th>\n",
       "      <td>0.113655</td>\n",
       "      <td>0.031369</td>\n",
       "      <td>-0.027535</td>\n",
       "      <td>1.000000</td>\n",
       "      <td>-0.450802</td>\n",
       "      <td>0.219329</td>\n",
       "      <td>0.065037</td>\n",
       "      <td>0.013445</td>\n",
       "    </tr>\n",
       "    <tr>\n",
       "      <th>beds_other beds</th>\n",
       "      <td>0.187859</td>\n",
       "      <td>0.385236</td>\n",
       "      <td>0.028483</td>\n",
       "      <td>-0.450802</td>\n",
       "      <td>1.000000</td>\n",
       "      <td>0.317385</td>\n",
       "      <td>-0.021145</td>\n",
       "      <td>-0.033235</td>\n",
       "    </tr>\n",
       "    <tr>\n",
       "      <th>baths_other baths</th>\n",
       "      <td>0.440049</td>\n",
       "      <td>0.486964</td>\n",
       "      <td>0.046151</td>\n",
       "      <td>0.219329</td>\n",
       "      <td>0.317385</td>\n",
       "      <td>1.000000</td>\n",
       "      <td>-0.042751</td>\n",
       "      <td>-0.005778</td>\n",
       "    </tr>\n",
       "    <tr>\n",
       "      <th>furnishing_Unfurnished</th>\n",
       "      <td>-0.026343</td>\n",
       "      <td>-0.093818</td>\n",
       "      <td>-0.420471</td>\n",
       "      <td>0.065037</td>\n",
       "      <td>-0.021145</td>\n",
       "      <td>-0.042751</td>\n",
       "      <td>1.000000</td>\n",
       "      <td>0.015491</td>\n",
       "    </tr>\n",
       "    <tr>\n",
       "      <th>smoking_Non-Smoking</th>\n",
       "      <td>0.040835</td>\n",
       "      <td>-0.013287</td>\n",
       "      <td>-0.044716</td>\n",
       "      <td>0.013445</td>\n",
       "      <td>-0.033235</td>\n",
       "      <td>-0.005778</td>\n",
       "      <td>0.015491</td>\n",
       "      <td>1.000000</td>\n",
       "    </tr>\n",
       "  </tbody>\n",
       "</table>\n",
       "</div>"
      ],
      "text/plain": [
       "                                price   sq_feet  lease_term_Other lease Term  \\\n",
       "price                        1.000000  0.424720                     0.033115   \n",
       "sq_feet                      0.424720  1.000000                     0.121829   \n",
       "lease_term_Other lease Term  0.033115  0.121829                     1.000000   \n",
       "beds_2 Beds                  0.113655  0.031369                    -0.027535   \n",
       "beds_other beds              0.187859  0.385236                     0.028483   \n",
       "baths_other baths            0.440049  0.486964                     0.046151   \n",
       "furnishing_Unfurnished      -0.026343 -0.093818                    -0.420471   \n",
       "smoking_Non-Smoking          0.040835 -0.013287                    -0.044716   \n",
       "\n",
       "                             beds_2 Beds  beds_other beds  baths_other baths  \\\n",
       "price                           0.113655         0.187859           0.440049   \n",
       "sq_feet                         0.031369         0.385236           0.486964   \n",
       "lease_term_Other lease Term    -0.027535         0.028483           0.046151   \n",
       "beds_2 Beds                     1.000000        -0.450802           0.219329   \n",
       "beds_other beds                -0.450802         1.000000           0.317385   \n",
       "baths_other baths               0.219329         0.317385           1.000000   \n",
       "furnishing_Unfurnished          0.065037        -0.021145          -0.042751   \n",
       "smoking_Non-Smoking             0.013445        -0.033235          -0.005778   \n",
       "\n",
       "                             furnishing_Unfurnished  smoking_Non-Smoking  \n",
       "price                                     -0.026343             0.040835  \n",
       "sq_feet                                   -0.093818            -0.013287  \n",
       "lease_term_Other lease Term               -0.420471            -0.044716  \n",
       "beds_2 Beds                                0.065037             0.013445  \n",
       "beds_other beds                           -0.021145            -0.033235  \n",
       "baths_other baths                         -0.042751            -0.005778  \n",
       "furnishing_Unfurnished                     1.000000             0.015491  \n",
       "smoking_Non-Smoking                        0.015491             1.000000  "
      ]
     },
     "execution_count": 174,
     "metadata": {},
     "output_type": "execute_result"
    }
   ],
   "source": [
    "# have a look at the correlation between price and the other variables\n",
    "\n",
    "df.corr()"
   ]
  },
  {
   "cell_type": "markdown",
   "id": "48104ada-eea1-4e06-a9b1-eebe38d8d9a9",
   "metadata": {},
   "source": [
    "## Multinear regression"
   ]
  },
  {
   "cell_type": "code",
   "execution_count": 192,
   "id": "21633a7f-f933-4c90-8f66-e01f351648df",
   "metadata": {},
   "outputs": [
    {
     "data": {
      "text/plain": [
       "((20296, 5), (5074, 5))"
      ]
     },
     "execution_count": 192,
     "metadata": {},
     "output_type": "execute_result"
    }
   ],
   "source": [
    "#Separate the independent features X from the target variable y\n",
    "\n",
    "from sklearn.model_selection import train_test_split\n",
    "\n",
    "# Target variable\n",
    "X = df.drop(['price','lease_term_Other lease Term','furnishing_Unfurnished'], axis=1)\n",
    "y = df['price']\n",
    "\n",
    "# Splitting the data: 80% training and 20% testing\n",
    "X_train, X_test, y_train, y_test = train_test_split(X, y, test_size=0.2, random_state=42)\n",
    "\n",
    "X_train.shape, X_test.shape"
   ]
  },
  {
   "cell_type": "code",
   "execution_count": 194,
   "id": "80b72fb7-2f8c-4d68-be44-afacdbefdcdb",
   "metadata": {},
   "outputs": [
    {
     "data": {
      "text/html": [
       "<style>#sk-container-id-2 {color: black;background-color: white;}#sk-container-id-2 pre{padding: 0;}#sk-container-id-2 div.sk-toggleable {background-color: white;}#sk-container-id-2 label.sk-toggleable__label {cursor: pointer;display: block;width: 100%;margin-bottom: 0;padding: 0.3em;box-sizing: border-box;text-align: center;}#sk-container-id-2 label.sk-toggleable__label-arrow:before {content: \"▸\";float: left;margin-right: 0.25em;color: #696969;}#sk-container-id-2 label.sk-toggleable__label-arrow:hover:before {color: black;}#sk-container-id-2 div.sk-estimator:hover label.sk-toggleable__label-arrow:before {color: black;}#sk-container-id-2 div.sk-toggleable__content {max-height: 0;max-width: 0;overflow: hidden;text-align: left;background-color: #f0f8ff;}#sk-container-id-2 div.sk-toggleable__content pre {margin: 0.2em;color: black;border-radius: 0.25em;background-color: #f0f8ff;}#sk-container-id-2 input.sk-toggleable__control:checked~div.sk-toggleable__content {max-height: 200px;max-width: 100%;overflow: auto;}#sk-container-id-2 input.sk-toggleable__control:checked~label.sk-toggleable__label-arrow:before {content: \"▾\";}#sk-container-id-2 div.sk-estimator input.sk-toggleable__control:checked~label.sk-toggleable__label {background-color: #d4ebff;}#sk-container-id-2 div.sk-label input.sk-toggleable__control:checked~label.sk-toggleable__label {background-color: #d4ebff;}#sk-container-id-2 input.sk-hidden--visually {border: 0;clip: rect(1px 1px 1px 1px);clip: rect(1px, 1px, 1px, 1px);height: 1px;margin: -1px;overflow: hidden;padding: 0;position: absolute;width: 1px;}#sk-container-id-2 div.sk-estimator {font-family: monospace;background-color: #f0f8ff;border: 1px dotted black;border-radius: 0.25em;box-sizing: border-box;margin-bottom: 0.5em;}#sk-container-id-2 div.sk-estimator:hover {background-color: #d4ebff;}#sk-container-id-2 div.sk-parallel-item::after {content: \"\";width: 100%;border-bottom: 1px solid gray;flex-grow: 1;}#sk-container-id-2 div.sk-label:hover label.sk-toggleable__label {background-color: #d4ebff;}#sk-container-id-2 div.sk-serial::before {content: \"\";position: absolute;border-left: 1px solid gray;box-sizing: border-box;top: 0;bottom: 0;left: 50%;z-index: 0;}#sk-container-id-2 div.sk-serial {display: flex;flex-direction: column;align-items: center;background-color: white;padding-right: 0.2em;padding-left: 0.2em;position: relative;}#sk-container-id-2 div.sk-item {position: relative;z-index: 1;}#sk-container-id-2 div.sk-parallel {display: flex;align-items: stretch;justify-content: center;background-color: white;position: relative;}#sk-container-id-2 div.sk-item::before, #sk-container-id-2 div.sk-parallel-item::before {content: \"\";position: absolute;border-left: 1px solid gray;box-sizing: border-box;top: 0;bottom: 0;left: 50%;z-index: -1;}#sk-container-id-2 div.sk-parallel-item {display: flex;flex-direction: column;z-index: 1;position: relative;background-color: white;}#sk-container-id-2 div.sk-parallel-item:first-child::after {align-self: flex-end;width: 50%;}#sk-container-id-2 div.sk-parallel-item:last-child::after {align-self: flex-start;width: 50%;}#sk-container-id-2 div.sk-parallel-item:only-child::after {width: 0;}#sk-container-id-2 div.sk-dashed-wrapped {border: 1px dashed gray;margin: 0 0.4em 0.5em 0.4em;box-sizing: border-box;padding-bottom: 0.4em;background-color: white;}#sk-container-id-2 div.sk-label label {font-family: monospace;font-weight: bold;display: inline-block;line-height: 1.2em;}#sk-container-id-2 div.sk-label-container {text-align: center;}#sk-container-id-2 div.sk-container {/* jupyter's `normalize.less` sets `[hidden] { display: none; }` but bootstrap.min.css set `[hidden] { display: none !important; }` so we also need the `!important` here to be able to override the default hidden behavior on the sphinx rendered scikit-learn.org. See: https://github.com/scikit-learn/scikit-learn/issues/21755 */display: inline-block !important;position: relative;}#sk-container-id-2 div.sk-text-repr-fallback {display: none;}</style><div id=\"sk-container-id-2\" class=\"sk-top-container\"><div class=\"sk-text-repr-fallback\"><pre>LinearRegression()</pre><b>In a Jupyter environment, please rerun this cell to show the HTML representation or trust the notebook. <br />On GitHub, the HTML representation is unable to render, please try loading this page with nbviewer.org.</b></div><div class=\"sk-container\" hidden><div class=\"sk-item\"><div class=\"sk-estimator sk-toggleable\"><input class=\"sk-toggleable__control sk-hidden--visually\" id=\"sk-estimator-id-2\" type=\"checkbox\" checked><label for=\"sk-estimator-id-2\" class=\"sk-toggleable__label sk-toggleable__label-arrow\">LinearRegression</label><div class=\"sk-toggleable__content\"><pre>LinearRegression()</pre></div></div></div></div></div>"
      ],
      "text/plain": [
       "LinearRegression()"
      ]
     },
     "execution_count": 194,
     "metadata": {},
     "output_type": "execute_result"
    }
   ],
   "source": [
    "# Train de model\n",
    "\n",
    "# Import model\n",
    "from sklearn.linear_model import LinearRegression\n",
    "\n",
    "# Create instance of model\n",
    "slr_model = LinearRegression()\n",
    "\n",
    "# training the model\n",
    "slr_model.fit(X_train, y_train)"
   ]
  },
  {
   "cell_type": "code",
   "execution_count": 196,
   "id": "4d7c3afe-e2fa-47d6-94dd-c1694881e39c",
   "metadata": {},
   "outputs": [],
   "source": [
    "# Evaluate the model\n",
    "# Obtain y hat values\n",
    "y_pred = slr_model.predict(X_test)"
   ]
  },
  {
   "cell_type": "code",
   "execution_count": 198,
   "id": "230b6146-175b-42b6-8934-d4cdc3f106e5",
   "metadata": {},
   "outputs": [
    {
     "data": {
      "text/plain": [
       "(527.2718596817899, 724523.2285591521, 851.1893024228818, 0.30958281701840196)"
      ]
     },
     "execution_count": 198,
     "metadata": {},
     "output_type": "execute_result"
    }
   ],
   "source": [
    "from sklearn.metrics import mean_absolute_error,mean_squared_error,r2_score\n",
    "\n",
    "# Calculate metrics for features age and bmi scaled\n",
    "MAE = mean_absolute_error(y_test, y_pred)\n",
    "MSE = mean_squared_error(y_test, y_pred)\n",
    "RMSE = np.sqrt(MSE)\n",
    "R2 = r2_score(y_test, y_pred)\n",
    "\n",
    "MAE, MSE, RMSE, R2"
   ]
  },
  {
   "cell_type": "markdown",
   "id": "c26ac6c6-5215-4505-898f-ba0890019abb",
   "metadata": {},
   "source": [
    "Mean Squared Error (MSE): 724523.23\n",
    "\n",
    "This measures the average squared difference between the actual and predicted values. A lower MSE indicates a better fit\n",
    "This suggests the predictions are somewhat off, with significant errors on average.\n",
    "\n",
    "R-squared (R²): 0.31\n",
    "\n",
    "This tells us how well the model explains the variance of the target variable. Ranges from 0 to 1, with 1 being a perfect fit. An R² of 0.31 indicates that approximately 30% of the variance in the target variable (price) is explained by the model. This isn't very high, suggesting the model might be missing important predictive features or needs further tuning."
   ]
  },
  {
   "cell_type": "markdown",
   "id": "e6306403-ba99-427d-9c25-f29c1c2af904",
   "metadata": {},
   "source": [
    "## Polynomial regression"
   ]
  },
  {
   "cell_type": "markdown",
   "id": "ab6bd67e-37e2-4ba7-aece-ea2211594887",
   "metadata": {},
   "source": [
    "Polynomial regression with degree 2"
   ]
  },
  {
   "cell_type": "code",
   "execution_count": 203,
   "id": "ea71719d-74b0-49b1-8d32-8623a8dbed5f",
   "metadata": {},
   "outputs": [],
   "source": [
    "from sklearn.preprocessing import PolynomialFeatures"
   ]
  },
  {
   "cell_type": "code",
   "execution_count": 205,
   "id": "147bacd9-8591-48b1-b409-14b426de11a2",
   "metadata": {},
   "outputs": [],
   "source": [
    "X = df.drop(['price','lease_term_Other lease Term','furnishing_Unfurnished'], axis=1)\n",
    "y = df['price']\n",
    "\n",
    "# Create an instance of PolynomialFeatures\n",
    "poly_converter = PolynomialFeatures(degree=2, include_bias=False)\n",
    "\n",
    "# Fit converter to X features + transform features\n",
    "poly_features = poly_converter.fit_transform(X)"
   ]
  },
  {
   "cell_type": "code",
   "execution_count": 207,
   "id": "69b5026a-52b7-4407-9198-aeb14e6c37b7",
   "metadata": {},
   "outputs": [
    {
     "data": {
      "text/plain": [
       "((25370, 5), (25370, 20))"
      ]
     },
     "execution_count": 207,
     "metadata": {},
     "output_type": "execute_result"
    }
   ],
   "source": [
    "X.shape, poly_features.shape"
   ]
  },
  {
   "cell_type": "code",
   "execution_count": 209,
   "id": "82aa78dd-deb0-4f38-a3ff-0af0b97bbae3",
   "metadata": {},
   "outputs": [
    {
     "data": {
      "text/html": [
       "<style>#sk-container-id-3 {color: black;background-color: white;}#sk-container-id-3 pre{padding: 0;}#sk-container-id-3 div.sk-toggleable {background-color: white;}#sk-container-id-3 label.sk-toggleable__label {cursor: pointer;display: block;width: 100%;margin-bottom: 0;padding: 0.3em;box-sizing: border-box;text-align: center;}#sk-container-id-3 label.sk-toggleable__label-arrow:before {content: \"▸\";float: left;margin-right: 0.25em;color: #696969;}#sk-container-id-3 label.sk-toggleable__label-arrow:hover:before {color: black;}#sk-container-id-3 div.sk-estimator:hover label.sk-toggleable__label-arrow:before {color: black;}#sk-container-id-3 div.sk-toggleable__content {max-height: 0;max-width: 0;overflow: hidden;text-align: left;background-color: #f0f8ff;}#sk-container-id-3 div.sk-toggleable__content pre {margin: 0.2em;color: black;border-radius: 0.25em;background-color: #f0f8ff;}#sk-container-id-3 input.sk-toggleable__control:checked~div.sk-toggleable__content {max-height: 200px;max-width: 100%;overflow: auto;}#sk-container-id-3 input.sk-toggleable__control:checked~label.sk-toggleable__label-arrow:before {content: \"▾\";}#sk-container-id-3 div.sk-estimator input.sk-toggleable__control:checked~label.sk-toggleable__label {background-color: #d4ebff;}#sk-container-id-3 div.sk-label input.sk-toggleable__control:checked~label.sk-toggleable__label {background-color: #d4ebff;}#sk-container-id-3 input.sk-hidden--visually {border: 0;clip: rect(1px 1px 1px 1px);clip: rect(1px, 1px, 1px, 1px);height: 1px;margin: -1px;overflow: hidden;padding: 0;position: absolute;width: 1px;}#sk-container-id-3 div.sk-estimator {font-family: monospace;background-color: #f0f8ff;border: 1px dotted black;border-radius: 0.25em;box-sizing: border-box;margin-bottom: 0.5em;}#sk-container-id-3 div.sk-estimator:hover {background-color: #d4ebff;}#sk-container-id-3 div.sk-parallel-item::after {content: \"\";width: 100%;border-bottom: 1px solid gray;flex-grow: 1;}#sk-container-id-3 div.sk-label:hover label.sk-toggleable__label {background-color: #d4ebff;}#sk-container-id-3 div.sk-serial::before {content: \"\";position: absolute;border-left: 1px solid gray;box-sizing: border-box;top: 0;bottom: 0;left: 50%;z-index: 0;}#sk-container-id-3 div.sk-serial {display: flex;flex-direction: column;align-items: center;background-color: white;padding-right: 0.2em;padding-left: 0.2em;position: relative;}#sk-container-id-3 div.sk-item {position: relative;z-index: 1;}#sk-container-id-3 div.sk-parallel {display: flex;align-items: stretch;justify-content: center;background-color: white;position: relative;}#sk-container-id-3 div.sk-item::before, #sk-container-id-3 div.sk-parallel-item::before {content: \"\";position: absolute;border-left: 1px solid gray;box-sizing: border-box;top: 0;bottom: 0;left: 50%;z-index: -1;}#sk-container-id-3 div.sk-parallel-item {display: flex;flex-direction: column;z-index: 1;position: relative;background-color: white;}#sk-container-id-3 div.sk-parallel-item:first-child::after {align-self: flex-end;width: 50%;}#sk-container-id-3 div.sk-parallel-item:last-child::after {align-self: flex-start;width: 50%;}#sk-container-id-3 div.sk-parallel-item:only-child::after {width: 0;}#sk-container-id-3 div.sk-dashed-wrapped {border: 1px dashed gray;margin: 0 0.4em 0.5em 0.4em;box-sizing: border-box;padding-bottom: 0.4em;background-color: white;}#sk-container-id-3 div.sk-label label {font-family: monospace;font-weight: bold;display: inline-block;line-height: 1.2em;}#sk-container-id-3 div.sk-label-container {text-align: center;}#sk-container-id-3 div.sk-container {/* jupyter's `normalize.less` sets `[hidden] { display: none; }` but bootstrap.min.css set `[hidden] { display: none !important; }` so we also need the `!important` here to be able to override the default hidden behavior on the sphinx rendered scikit-learn.org. See: https://github.com/scikit-learn/scikit-learn/issues/21755 */display: inline-block !important;position: relative;}#sk-container-id-3 div.sk-text-repr-fallback {display: none;}</style><div id=\"sk-container-id-3\" class=\"sk-top-container\"><div class=\"sk-text-repr-fallback\"><pre>LinearRegression()</pre><b>In a Jupyter environment, please rerun this cell to show the HTML representation or trust the notebook. <br />On GitHub, the HTML representation is unable to render, please try loading this page with nbviewer.org.</b></div><div class=\"sk-container\" hidden><div class=\"sk-item\"><div class=\"sk-estimator sk-toggleable\"><input class=\"sk-toggleable__control sk-hidden--visually\" id=\"sk-estimator-id-3\" type=\"checkbox\" checked><label for=\"sk-estimator-id-3\" class=\"sk-toggleable__label sk-toggleable__label-arrow\">LinearRegression</label><div class=\"sk-toggleable__content\"><pre>LinearRegression()</pre></div></div></div></div></div>"
      ],
      "text/plain": [
       "LinearRegression()"
      ]
     },
     "execution_count": 209,
     "metadata": {},
     "output_type": "execute_result"
    }
   ],
   "source": [
    "# Train/test split\n",
    "from sklearn.model_selection import train_test_split\n",
    "X_pl_train, X_pl_test, y_pl_train, y_pl_test = train_test_split(poly_features, y, test_size=0.2, random_state=42)\n",
    "\n",
    "# Import model\n",
    "from sklearn.linear_model import LinearRegression\n",
    "\n",
    "# Create instance of model\n",
    "pl_model = LinearRegression()\n",
    "\n",
    "# Train regression model on \n",
    "pl_model.fit(X_pl_train, y_pl_train)"
   ]
  },
  {
   "cell_type": "code",
   "execution_count": 211,
   "id": "c0a82d17-0229-47a2-a722-6becc1f90d7c",
   "metadata": {},
   "outputs": [
    {
     "data": {
      "text/plain": [
       "(518.186552120728, 667278.0008994945, 816.8708593771078, 0.36413329554276896)"
      ]
     },
     "execution_count": 211,
     "metadata": {},
     "output_type": "execute_result"
    }
   ],
   "source": [
    "y_pl_pred = pl_model.predict(X_pl_test)\n",
    "\n",
    "# Obtain metrics\n",
    "MAE = mean_absolute_error(y_pl_test, y_pl_pred)\n",
    "MSE = mean_squared_error(y_pl_test, y_pl_pred)\n",
    "RMSE = np.sqrt(MSE)\n",
    "R2 = r2_score(y_pl_test, y_pl_pred)\n",
    "\n",
    "MAE, MSE, RMSE,R2"
   ]
  },
  {
   "cell_type": "markdown",
   "id": "cf30ac51-f299-43fd-8c39-6081f546822c",
   "metadata": {},
   "source": [
    "Polynomial regression with degree 3"
   ]
  },
  {
   "cell_type": "code",
   "execution_count": 214,
   "id": "4d3c5c3c-5e3a-4169-bb89-314764aede1d",
   "metadata": {},
   "outputs": [
    {
     "data": {
      "text/plain": [
       "((25370, 5), (25370, 55))"
      ]
     },
     "execution_count": 214,
     "metadata": {},
     "output_type": "execute_result"
    }
   ],
   "source": [
    "# Create an instance of PolynomialFeatures -- degree 3\n",
    "\n",
    "poly_converter = PolynomialFeatures(degree=3, include_bias=False)\n",
    "\n",
    "# Fit converter to X features + transform features\n",
    "poly_features = poly_converter.fit_transform(X)\n",
    "\n",
    "X.shape, poly_features.shape"
   ]
  },
  {
   "cell_type": "code",
   "execution_count": 216,
   "id": "9d5a301a-f75c-4d45-80ce-314f16d1769f",
   "metadata": {},
   "outputs": [
    {
     "data": {
      "text/html": [
       "<style>#sk-container-id-4 {color: black;background-color: white;}#sk-container-id-4 pre{padding: 0;}#sk-container-id-4 div.sk-toggleable {background-color: white;}#sk-container-id-4 label.sk-toggleable__label {cursor: pointer;display: block;width: 100%;margin-bottom: 0;padding: 0.3em;box-sizing: border-box;text-align: center;}#sk-container-id-4 label.sk-toggleable__label-arrow:before {content: \"▸\";float: left;margin-right: 0.25em;color: #696969;}#sk-container-id-4 label.sk-toggleable__label-arrow:hover:before {color: black;}#sk-container-id-4 div.sk-estimator:hover label.sk-toggleable__label-arrow:before {color: black;}#sk-container-id-4 div.sk-toggleable__content {max-height: 0;max-width: 0;overflow: hidden;text-align: left;background-color: #f0f8ff;}#sk-container-id-4 div.sk-toggleable__content pre {margin: 0.2em;color: black;border-radius: 0.25em;background-color: #f0f8ff;}#sk-container-id-4 input.sk-toggleable__control:checked~div.sk-toggleable__content {max-height: 200px;max-width: 100%;overflow: auto;}#sk-container-id-4 input.sk-toggleable__control:checked~label.sk-toggleable__label-arrow:before {content: \"▾\";}#sk-container-id-4 div.sk-estimator input.sk-toggleable__control:checked~label.sk-toggleable__label {background-color: #d4ebff;}#sk-container-id-4 div.sk-label input.sk-toggleable__control:checked~label.sk-toggleable__label {background-color: #d4ebff;}#sk-container-id-4 input.sk-hidden--visually {border: 0;clip: rect(1px 1px 1px 1px);clip: rect(1px, 1px, 1px, 1px);height: 1px;margin: -1px;overflow: hidden;padding: 0;position: absolute;width: 1px;}#sk-container-id-4 div.sk-estimator {font-family: monospace;background-color: #f0f8ff;border: 1px dotted black;border-radius: 0.25em;box-sizing: border-box;margin-bottom: 0.5em;}#sk-container-id-4 div.sk-estimator:hover {background-color: #d4ebff;}#sk-container-id-4 div.sk-parallel-item::after {content: \"\";width: 100%;border-bottom: 1px solid gray;flex-grow: 1;}#sk-container-id-4 div.sk-label:hover label.sk-toggleable__label {background-color: #d4ebff;}#sk-container-id-4 div.sk-serial::before {content: \"\";position: absolute;border-left: 1px solid gray;box-sizing: border-box;top: 0;bottom: 0;left: 50%;z-index: 0;}#sk-container-id-4 div.sk-serial {display: flex;flex-direction: column;align-items: center;background-color: white;padding-right: 0.2em;padding-left: 0.2em;position: relative;}#sk-container-id-4 div.sk-item {position: relative;z-index: 1;}#sk-container-id-4 div.sk-parallel {display: flex;align-items: stretch;justify-content: center;background-color: white;position: relative;}#sk-container-id-4 div.sk-item::before, #sk-container-id-4 div.sk-parallel-item::before {content: \"\";position: absolute;border-left: 1px solid gray;box-sizing: border-box;top: 0;bottom: 0;left: 50%;z-index: -1;}#sk-container-id-4 div.sk-parallel-item {display: flex;flex-direction: column;z-index: 1;position: relative;background-color: white;}#sk-container-id-4 div.sk-parallel-item:first-child::after {align-self: flex-end;width: 50%;}#sk-container-id-4 div.sk-parallel-item:last-child::after {align-self: flex-start;width: 50%;}#sk-container-id-4 div.sk-parallel-item:only-child::after {width: 0;}#sk-container-id-4 div.sk-dashed-wrapped {border: 1px dashed gray;margin: 0 0.4em 0.5em 0.4em;box-sizing: border-box;padding-bottom: 0.4em;background-color: white;}#sk-container-id-4 div.sk-label label {font-family: monospace;font-weight: bold;display: inline-block;line-height: 1.2em;}#sk-container-id-4 div.sk-label-container {text-align: center;}#sk-container-id-4 div.sk-container {/* jupyter's `normalize.less` sets `[hidden] { display: none; }` but bootstrap.min.css set `[hidden] { display: none !important; }` so we also need the `!important` here to be able to override the default hidden behavior on the sphinx rendered scikit-learn.org. See: https://github.com/scikit-learn/scikit-learn/issues/21755 */display: inline-block !important;position: relative;}#sk-container-id-4 div.sk-text-repr-fallback {display: none;}</style><div id=\"sk-container-id-4\" class=\"sk-top-container\"><div class=\"sk-text-repr-fallback\"><pre>LinearRegression()</pre><b>In a Jupyter environment, please rerun this cell to show the HTML representation or trust the notebook. <br />On GitHub, the HTML representation is unable to render, please try loading this page with nbviewer.org.</b></div><div class=\"sk-container\" hidden><div class=\"sk-item\"><div class=\"sk-estimator sk-toggleable\"><input class=\"sk-toggleable__control sk-hidden--visually\" id=\"sk-estimator-id-4\" type=\"checkbox\" checked><label for=\"sk-estimator-id-4\" class=\"sk-toggleable__label sk-toggleable__label-arrow\">LinearRegression</label><div class=\"sk-toggleable__content\"><pre>LinearRegression()</pre></div></div></div></div></div>"
      ],
      "text/plain": [
       "LinearRegression()"
      ]
     },
     "execution_count": 216,
     "metadata": {},
     "output_type": "execute_result"
    }
   ],
   "source": [
    "# Train/test split\n",
    "from sklearn.model_selection import train_test_split\n",
    "X_train, X_test, y_train, y_test = train_test_split(poly_features, y, test_size=0.2, random_state=42)\n",
    "\n",
    "# Import model\n",
    "from sklearn.linear_model import LinearRegression\n",
    "\n",
    "# Create instance of model\n",
    "pl_model = LinearRegression()\n",
    "\n",
    "# Train regression model\n",
    "pl_model.fit(X_train, y_train)"
   ]
  },
  {
   "cell_type": "code",
   "execution_count": 218,
   "id": "bbe86b93-db82-4196-875a-7313bfd74e75",
   "metadata": {},
   "outputs": [
    {
     "data": {
      "text/plain": [
       "(510.2999336351732, 611098.6172076898, 781.7279688022488, 0.41766810340155036)"
      ]
     },
     "execution_count": 218,
     "metadata": {},
     "output_type": "execute_result"
    }
   ],
   "source": [
    "y_pl3_pred = pl_model.predict(X_pl3_test)\n",
    "\n",
    "from sklearn.metrics import mean_absolute_error,mean_squared_error, r2_score\n",
    "\n",
    "# Obtain metrics\n",
    "\n",
    "MAE = mean_absolute_error(y_test, y_pred)\n",
    "MSE = mean_squared_error(y_test, y_pred)\n",
    "RMSE = np.sqrt(MSE)\n",
    "R2 = r2_score(y_test, y_pred)\n",
    "\n",
    "MAE, MSE, RMSE,R2 "
   ]
  },
  {
   "cell_type": "markdown",
   "id": "0b03abf5-4af4-49e9-86b4-7e8db2da69c5",
   "metadata": {},
   "source": [
    "Mean Squared Error (MSE):611098.62 . Lower than before, meaning better prediction fit. Even though degree 3 gives a better performance, the metrics are still similar between degree 2 and 3.\n",
    "\n",
    "R-squared: Higher number than before, meaning the model explains more of the differences in rent prices. Indicates a better fit but it doesn't yet account for at least 50% "
   ]
  },
  {
   "cell_type": "markdown",
   "id": "9eaaadfe-6bb3-403c-b1de-1b4ada6644b3",
   "metadata": {},
   "source": [
    "## Ridge regression"
   ]
  },
  {
   "cell_type": "code",
   "execution_count": 236,
   "id": "1cc1d812-42b4-4317-90f9-c3f96e030845",
   "metadata": {},
   "outputs": [],
   "source": [
    "# Import model\n",
    "from sklearn.linear_model import Ridge"
   ]
  },
  {
   "cell_type": "code",
   "execution_count": 238,
   "id": "7dfc7a5a-f80a-4759-ad31-dd006ec3df8b",
   "metadata": {},
   "outputs": [],
   "source": [
    "# X = df.drop(['price'], axis=1)\n",
    "# # X = df.drop([['price','lease_term_Other lease Term','furnishing_Unfurnished','smoking_Non-Smoking\t'], axis=1)\n",
    "# y = df['price']\n",
    "\n",
    "# Create an instance of PolynomialFeatures\n",
    "poly_converter = PolynomialFeatures(degree=2, include_bias=False)\n",
    "\n",
    "# Fit converter to X features + transform features\n",
    "poly_features = poly_converter.fit_transform(X)"
   ]
  },
  {
   "cell_type": "code",
   "execution_count": 240,
   "id": "d5da316a-193b-4971-b4b1-7966ac98bcd8",
   "metadata": {},
   "outputs": [],
   "source": [
    "# Train/test split\n",
    "# Instead of using X, we will use poly_features\n",
    "\n",
    "from sklearn.model_selection import train_test_split\n",
    "X_train, X_test, y_train, y_test = train_test_split(poly_features, y, test_size=0.2, random_state=42)"
   ]
  },
  {
   "cell_type": "code",
   "execution_count": 242,
   "id": "9525f78f-fcd8-4bb7-943f-36fb5c1ea111",
   "metadata": {},
   "outputs": [],
   "source": [
    "# Scale the features\n",
    "\n",
    "from sklearn.preprocessing import StandardScaler\n",
    "\n",
    "scaler = StandardScaler()\n",
    "scaled_X_train = scaler.fit_transform(X_train)\n",
    "scaled_X_test = scaler.transform(X_test)"
   ]
  },
  {
   "cell_type": "code",
   "execution_count": 244,
   "id": "8a007914-b3a0-49a5-b277-28b9a344ce3f",
   "metadata": {},
   "outputs": [
    {
     "data": {
      "text/plain": [
       "((20296, 20), (5074, 20))"
      ]
     },
     "execution_count": 244,
     "metadata": {},
     "output_type": "execute_result"
    }
   ],
   "source": [
    "scaled_X_train.shape, scaled_X_test.shape"
   ]
  },
  {
   "cell_type": "code",
   "execution_count": 246,
   "id": "e9033ca4-c0e9-43f7-888f-4994a77fd45d",
   "metadata": {},
   "outputs": [
    {
     "data": {
      "text/html": [
       "<style>#sk-container-id-6 {color: black;background-color: white;}#sk-container-id-6 pre{padding: 0;}#sk-container-id-6 div.sk-toggleable {background-color: white;}#sk-container-id-6 label.sk-toggleable__label {cursor: pointer;display: block;width: 100%;margin-bottom: 0;padding: 0.3em;box-sizing: border-box;text-align: center;}#sk-container-id-6 label.sk-toggleable__label-arrow:before {content: \"▸\";float: left;margin-right: 0.25em;color: #696969;}#sk-container-id-6 label.sk-toggleable__label-arrow:hover:before {color: black;}#sk-container-id-6 div.sk-estimator:hover label.sk-toggleable__label-arrow:before {color: black;}#sk-container-id-6 div.sk-toggleable__content {max-height: 0;max-width: 0;overflow: hidden;text-align: left;background-color: #f0f8ff;}#sk-container-id-6 div.sk-toggleable__content pre {margin: 0.2em;color: black;border-radius: 0.25em;background-color: #f0f8ff;}#sk-container-id-6 input.sk-toggleable__control:checked~div.sk-toggleable__content {max-height: 200px;max-width: 100%;overflow: auto;}#sk-container-id-6 input.sk-toggleable__control:checked~label.sk-toggleable__label-arrow:before {content: \"▾\";}#sk-container-id-6 div.sk-estimator input.sk-toggleable__control:checked~label.sk-toggleable__label {background-color: #d4ebff;}#sk-container-id-6 div.sk-label input.sk-toggleable__control:checked~label.sk-toggleable__label {background-color: #d4ebff;}#sk-container-id-6 input.sk-hidden--visually {border: 0;clip: rect(1px 1px 1px 1px);clip: rect(1px, 1px, 1px, 1px);height: 1px;margin: -1px;overflow: hidden;padding: 0;position: absolute;width: 1px;}#sk-container-id-6 div.sk-estimator {font-family: monospace;background-color: #f0f8ff;border: 1px dotted black;border-radius: 0.25em;box-sizing: border-box;margin-bottom: 0.5em;}#sk-container-id-6 div.sk-estimator:hover {background-color: #d4ebff;}#sk-container-id-6 div.sk-parallel-item::after {content: \"\";width: 100%;border-bottom: 1px solid gray;flex-grow: 1;}#sk-container-id-6 div.sk-label:hover label.sk-toggleable__label {background-color: #d4ebff;}#sk-container-id-6 div.sk-serial::before {content: \"\";position: absolute;border-left: 1px solid gray;box-sizing: border-box;top: 0;bottom: 0;left: 50%;z-index: 0;}#sk-container-id-6 div.sk-serial {display: flex;flex-direction: column;align-items: center;background-color: white;padding-right: 0.2em;padding-left: 0.2em;position: relative;}#sk-container-id-6 div.sk-item {position: relative;z-index: 1;}#sk-container-id-6 div.sk-parallel {display: flex;align-items: stretch;justify-content: center;background-color: white;position: relative;}#sk-container-id-6 div.sk-item::before, #sk-container-id-6 div.sk-parallel-item::before {content: \"\";position: absolute;border-left: 1px solid gray;box-sizing: border-box;top: 0;bottom: 0;left: 50%;z-index: -1;}#sk-container-id-6 div.sk-parallel-item {display: flex;flex-direction: column;z-index: 1;position: relative;background-color: white;}#sk-container-id-6 div.sk-parallel-item:first-child::after {align-self: flex-end;width: 50%;}#sk-container-id-6 div.sk-parallel-item:last-child::after {align-self: flex-start;width: 50%;}#sk-container-id-6 div.sk-parallel-item:only-child::after {width: 0;}#sk-container-id-6 div.sk-dashed-wrapped {border: 1px dashed gray;margin: 0 0.4em 0.5em 0.4em;box-sizing: border-box;padding-bottom: 0.4em;background-color: white;}#sk-container-id-6 div.sk-label label {font-family: monospace;font-weight: bold;display: inline-block;line-height: 1.2em;}#sk-container-id-6 div.sk-label-container {text-align: center;}#sk-container-id-6 div.sk-container {/* jupyter's `normalize.less` sets `[hidden] { display: none; }` but bootstrap.min.css set `[hidden] { display: none !important; }` so we also need the `!important` here to be able to override the default hidden behavior on the sphinx rendered scikit-learn.org. See: https://github.com/scikit-learn/scikit-learn/issues/21755 */display: inline-block !important;position: relative;}#sk-container-id-6 div.sk-text-repr-fallback {display: none;}</style><div id=\"sk-container-id-6\" class=\"sk-top-container\"><div class=\"sk-text-repr-fallback\"><pre>Ridge()</pre><b>In a Jupyter environment, please rerun this cell to show the HTML representation or trust the notebook. <br />On GitHub, the HTML representation is unable to render, please try loading this page with nbviewer.org.</b></div><div class=\"sk-container\" hidden><div class=\"sk-item\"><div class=\"sk-estimator sk-toggleable\"><input class=\"sk-toggleable__control sk-hidden--visually\" id=\"sk-estimator-id-6\" type=\"checkbox\" checked><label for=\"sk-estimator-id-6\" class=\"sk-toggleable__label sk-toggleable__label-arrow\">Ridge</label><div class=\"sk-toggleable__content\"><pre>Ridge()</pre></div></div></div></div></div>"
      ],
      "text/plain": [
       "Ridge()"
      ]
     },
     "execution_count": 246,
     "metadata": {},
     "output_type": "execute_result"
    }
   ],
   "source": [
    "# Create instance of model\n",
    "ridge_model = Ridge(alpha=1.0)\n",
    "\n",
    "# Fit the model on scaled_X_train\n",
    "ridge_model.fit(scaled_X_train, y_train)"
   ]
  },
  {
   "cell_type": "code",
   "execution_count": 248,
   "id": "47faca83-fa8b-4865-b9a2-375acb79b39a",
   "metadata": {},
   "outputs": [
    {
     "data": {
      "text/plain": [
       "(518.159017488402, 667097.0171505673, 816.7600731858574, 0.3643057597028875)"
      ]
     },
     "execution_count": 248,
     "metadata": {},
     "output_type": "execute_result"
    }
   ],
   "source": [
    "# Evaluate ridge model\n",
    "\n",
    "y_pred = ridge_model.predict(scaled_X_test)\n",
    "\n",
    "from sklearn.metrics import mean_absolute_error,mean_squared_error\n",
    "\n",
    "# Obtain metrics\n",
    "MAE = mean_absolute_error(y_test, y_pred)\n",
    "MSE = mean_squared_error(y_test, y_pred)\n",
    "RMSE = np.sqrt(MSE)\n",
    "R2 = r2_score(y_test, y_pred)\n",
    "\n",
    "MAE, MSE, RMSE, R2"
   ]
  },
  {
   "cell_type": "markdown",
   "id": "55ef4255-6cba-4eb2-ab9b-4ff9e52f36b9",
   "metadata": {},
   "source": [
    "MSE: 667097.02\n",
    "Lower than Linear Regression, meaning better predictions but, higher than Polynominal so predictions are less accurate than polynominal.\n",
    "\n",
    "R²: 0.36\n",
    "Explains about 36% of the variance in rent prices, better than Linear Regression. Given thet value of R2, the model could be improved."
   ]
  },
  {
   "cell_type": "markdown",
   "id": "e715dbb7-187e-4f94-8448-1c9c8d1e4c02",
   "metadata": {},
   "source": [
    "# Ridge CV"
   ]
  },
  {
   "cell_type": "code",
   "execution_count": 260,
   "id": "c811c500-6295-4f7c-bcc7-de06329f085f",
   "metadata": {},
   "outputs": [
    {
     "data": {
      "text/plain": [
       "((20296, 20), (5074, 20))"
      ]
     },
     "execution_count": 260,
     "metadata": {},
     "output_type": "execute_result"
    }
   ],
   "source": [
    "# X = df.drop(['price'], axis=1)\n",
    "# # X = df.drop([['price','lease_term_Other lease Term','furnishing_Unfurnished','smoking_Non-Smoking\t'], axis=1)\n",
    "# y = df['price']\n",
    "\n",
    "# Create an instance of PolynomialFeatures\n",
    "poly_converter = PolynomialFeatures(degree=3, include_bias=False)\n",
    "\n",
    "# Fit converter to X features + transform features\n",
    "poly_features = poly_converter.fit_transform(X)\n",
    "\n",
    "scaler = StandardScaler()\n",
    "scaled_X_train = scaler.fit_transform(X_train)\n",
    "scaled_X_test = scaler.transform(X_test)\n",
    "\n",
    "scaled_X_train.shape, scaled_X_test.shape"
   ]
  },
  {
   "cell_type": "code",
   "execution_count": 262,
   "id": "5960ef26-5e3a-4659-aefa-7df02ac5540a",
   "metadata": {},
   "outputs": [],
   "source": [
    "# Import model\n",
    "from sklearn.linear_model import RidgeCV\n",
    "\n",
    "# Create instance of model\n",
    "ridgecv_model = RidgeCV((0.1, 1.0, 10.0), scoring='neg_mean_absolute_error')"
   ]
  },
  {
   "cell_type": "code",
   "execution_count": 264,
   "id": "2371ae2c-acc6-4438-81e3-59af2a7bec28",
   "metadata": {},
   "outputs": [
    {
     "data": {
      "text/html": [
       "<style>#sk-container-id-8 {color: black;background-color: white;}#sk-container-id-8 pre{padding: 0;}#sk-container-id-8 div.sk-toggleable {background-color: white;}#sk-container-id-8 label.sk-toggleable__label {cursor: pointer;display: block;width: 100%;margin-bottom: 0;padding: 0.3em;box-sizing: border-box;text-align: center;}#sk-container-id-8 label.sk-toggleable__label-arrow:before {content: \"▸\";float: left;margin-right: 0.25em;color: #696969;}#sk-container-id-8 label.sk-toggleable__label-arrow:hover:before {color: black;}#sk-container-id-8 div.sk-estimator:hover label.sk-toggleable__label-arrow:before {color: black;}#sk-container-id-8 div.sk-toggleable__content {max-height: 0;max-width: 0;overflow: hidden;text-align: left;background-color: #f0f8ff;}#sk-container-id-8 div.sk-toggleable__content pre {margin: 0.2em;color: black;border-radius: 0.25em;background-color: #f0f8ff;}#sk-container-id-8 input.sk-toggleable__control:checked~div.sk-toggleable__content {max-height: 200px;max-width: 100%;overflow: auto;}#sk-container-id-8 input.sk-toggleable__control:checked~label.sk-toggleable__label-arrow:before {content: \"▾\";}#sk-container-id-8 div.sk-estimator input.sk-toggleable__control:checked~label.sk-toggleable__label {background-color: #d4ebff;}#sk-container-id-8 div.sk-label input.sk-toggleable__control:checked~label.sk-toggleable__label {background-color: #d4ebff;}#sk-container-id-8 input.sk-hidden--visually {border: 0;clip: rect(1px 1px 1px 1px);clip: rect(1px, 1px, 1px, 1px);height: 1px;margin: -1px;overflow: hidden;padding: 0;position: absolute;width: 1px;}#sk-container-id-8 div.sk-estimator {font-family: monospace;background-color: #f0f8ff;border: 1px dotted black;border-radius: 0.25em;box-sizing: border-box;margin-bottom: 0.5em;}#sk-container-id-8 div.sk-estimator:hover {background-color: #d4ebff;}#sk-container-id-8 div.sk-parallel-item::after {content: \"\";width: 100%;border-bottom: 1px solid gray;flex-grow: 1;}#sk-container-id-8 div.sk-label:hover label.sk-toggleable__label {background-color: #d4ebff;}#sk-container-id-8 div.sk-serial::before {content: \"\";position: absolute;border-left: 1px solid gray;box-sizing: border-box;top: 0;bottom: 0;left: 50%;z-index: 0;}#sk-container-id-8 div.sk-serial {display: flex;flex-direction: column;align-items: center;background-color: white;padding-right: 0.2em;padding-left: 0.2em;position: relative;}#sk-container-id-8 div.sk-item {position: relative;z-index: 1;}#sk-container-id-8 div.sk-parallel {display: flex;align-items: stretch;justify-content: center;background-color: white;position: relative;}#sk-container-id-8 div.sk-item::before, #sk-container-id-8 div.sk-parallel-item::before {content: \"\";position: absolute;border-left: 1px solid gray;box-sizing: border-box;top: 0;bottom: 0;left: 50%;z-index: -1;}#sk-container-id-8 div.sk-parallel-item {display: flex;flex-direction: column;z-index: 1;position: relative;background-color: white;}#sk-container-id-8 div.sk-parallel-item:first-child::after {align-self: flex-end;width: 50%;}#sk-container-id-8 div.sk-parallel-item:last-child::after {align-self: flex-start;width: 50%;}#sk-container-id-8 div.sk-parallel-item:only-child::after {width: 0;}#sk-container-id-8 div.sk-dashed-wrapped {border: 1px dashed gray;margin: 0 0.4em 0.5em 0.4em;box-sizing: border-box;padding-bottom: 0.4em;background-color: white;}#sk-container-id-8 div.sk-label label {font-family: monospace;font-weight: bold;display: inline-block;line-height: 1.2em;}#sk-container-id-8 div.sk-label-container {text-align: center;}#sk-container-id-8 div.sk-container {/* jupyter's `normalize.less` sets `[hidden] { display: none; }` but bootstrap.min.css set `[hidden] { display: none !important; }` so we also need the `!important` here to be able to override the default hidden behavior on the sphinx rendered scikit-learn.org. See: https://github.com/scikit-learn/scikit-learn/issues/21755 */display: inline-block !important;position: relative;}#sk-container-id-8 div.sk-text-repr-fallback {display: none;}</style><div id=\"sk-container-id-8\" class=\"sk-top-container\"><div class=\"sk-text-repr-fallback\"><pre>RidgeCV(scoring=&#x27;neg_mean_absolute_error&#x27;)</pre><b>In a Jupyter environment, please rerun this cell to show the HTML representation or trust the notebook. <br />On GitHub, the HTML representation is unable to render, please try loading this page with nbviewer.org.</b></div><div class=\"sk-container\" hidden><div class=\"sk-item\"><div class=\"sk-estimator sk-toggleable\"><input class=\"sk-toggleable__control sk-hidden--visually\" id=\"sk-estimator-id-8\" type=\"checkbox\" checked><label for=\"sk-estimator-id-8\" class=\"sk-toggleable__label sk-toggleable__label-arrow\">RidgeCV</label><div class=\"sk-toggleable__content\"><pre>RidgeCV(scoring=&#x27;neg_mean_absolute_error&#x27;)</pre></div></div></div></div></div>"
      ],
      "text/plain": [
       "RidgeCV(scoring='neg_mean_absolute_error')"
      ]
     },
     "execution_count": 264,
     "metadata": {},
     "output_type": "execute_result"
    }
   ],
   "source": [
    "# Fit the model on scaled_X_train\n",
    "ridgecv_model.fit(scaled_X_train, y_train)"
   ]
  },
  {
   "cell_type": "code",
   "execution_count": 266,
   "id": "f0ed5bfc-fe6e-4f0f-9be6-641901f8db07",
   "metadata": {},
   "outputs": [
    {
     "data": {
      "text/plain": [
       "10.0"
      ]
     },
     "execution_count": 266,
     "metadata": {},
     "output_type": "execute_result"
    }
   ],
   "source": [
    "ridgecv_model.alpha_"
   ]
  },
  {
   "cell_type": "code",
   "execution_count": 268,
   "id": "dbf0e3b5-90e2-4c51-9a1c-ca9f0ac54bd0",
   "metadata": {},
   "outputs": [
    {
     "data": {
      "text/plain": [
       "(517.9558541989666, 665679.406843087, 815.8917862333749, 0.3656566377375401)"
      ]
     },
     "execution_count": 268,
     "metadata": {},
     "output_type": "execute_result"
    }
   ],
   "source": [
    "# Evaluate ridgecv model\n",
    "y_pred = ridgecv_model.predict(scaled_X_test)\n",
    "\n",
    "# Obtain metrics\n",
    "MAE = mean_absolute_error(y_test, y_pred)\n",
    "MSE = mean_squared_error(y_test, y_pred)\n",
    "RMSE = np.sqrt(MSE)\n",
    "R2 = r2_score(y_test, y_pred)\n",
    "\n",
    "MAE, MSE, RMSE, R2"
   ]
  },
  {
   "cell_type": "markdown",
   "id": "ac74ba84-8973-40af-9123-7ca435c352b2",
   "metadata": {},
   "source": [
    "MSE: 665679.41. and R2 are very similar to Ridge.\n",
    "\n",
    "No significant improvement."
   ]
  },
  {
   "cell_type": "markdown",
   "id": "404e553a-8985-42ab-b228-e5525c32e52f",
   "metadata": {},
   "source": [
    "## Lasso CV"
   ]
  },
  {
   "cell_type": "code",
   "execution_count": 270,
   "id": "cde57607-6cdf-4f9d-8810-70693c4d5064",
   "metadata": {},
   "outputs": [
    {
     "data": {
      "text/plain": [
       "Index(['sq_feet', 'beds_2 Beds', 'beds_other beds', 'baths_other baths',\n",
       "       'smoking_Non-Smoking'],\n",
       "      dtype='object')"
      ]
     },
     "execution_count": 270,
     "metadata": {},
     "output_type": "execute_result"
    }
   ],
   "source": [
    "X.columns"
   ]
  },
  {
   "cell_type": "code",
   "execution_count": 276,
   "id": "e9648145-92f3-4839-80a3-a58a7647bf79",
   "metadata": {},
   "outputs": [
    {
     "data": {
      "text/plain": [
       "((20296, 20), (5074, 20))"
      ]
     },
     "execution_count": 276,
     "metadata": {},
     "output_type": "execute_result"
    }
   ],
   "source": [
    "# X = df.drop(['price'], axis=1)\n",
    "# # X = df.drop([['price','lease_term_Other lease Term','furnishing_Unfurnished','smoking_Non-Smoking\t'], axis=1)\n",
    "# y = df['price']\n",
    "\n",
    "# Create an instance of PolynomialFeatures\n",
    "poly_converter = PolynomialFeatures(degree=2, include_bias=False)\n",
    "\n",
    "# Fit converter to X features + transform features\n",
    "poly_features = poly_converter.fit_transform(X)\n",
    "\n",
    "\n",
    "# Train/test split\n",
    "X_train, X_test, y_train, y_test = train_test_split(poly_features, y, test_size=0.20, random_state=42)\n",
    "\n",
    "scaler = StandardScaler()\n",
    "scaled_X_train = scaler.fit_transform(X_train)\n",
    "scaled_X_test = scaler.transform(X_test)\n",
    "\n",
    "scaled_X_train.shape, scaled_X_test.shape"
   ]
  },
  {
   "cell_type": "code",
   "execution_count": 278,
   "id": "32016009-53d1-4ddd-b89c-abeac5973c4a",
   "metadata": {},
   "outputs": [
    {
     "data": {
      "text/html": [
       "<style>#sk-container-id-10 {color: black;background-color: white;}#sk-container-id-10 pre{padding: 0;}#sk-container-id-10 div.sk-toggleable {background-color: white;}#sk-container-id-10 label.sk-toggleable__label {cursor: pointer;display: block;width: 100%;margin-bottom: 0;padding: 0.3em;box-sizing: border-box;text-align: center;}#sk-container-id-10 label.sk-toggleable__label-arrow:before {content: \"▸\";float: left;margin-right: 0.25em;color: #696969;}#sk-container-id-10 label.sk-toggleable__label-arrow:hover:before {color: black;}#sk-container-id-10 div.sk-estimator:hover label.sk-toggleable__label-arrow:before {color: black;}#sk-container-id-10 div.sk-toggleable__content {max-height: 0;max-width: 0;overflow: hidden;text-align: left;background-color: #f0f8ff;}#sk-container-id-10 div.sk-toggleable__content pre {margin: 0.2em;color: black;border-radius: 0.25em;background-color: #f0f8ff;}#sk-container-id-10 input.sk-toggleable__control:checked~div.sk-toggleable__content {max-height: 200px;max-width: 100%;overflow: auto;}#sk-container-id-10 input.sk-toggleable__control:checked~label.sk-toggleable__label-arrow:before {content: \"▾\";}#sk-container-id-10 div.sk-estimator input.sk-toggleable__control:checked~label.sk-toggleable__label {background-color: #d4ebff;}#sk-container-id-10 div.sk-label input.sk-toggleable__control:checked~label.sk-toggleable__label {background-color: #d4ebff;}#sk-container-id-10 input.sk-hidden--visually {border: 0;clip: rect(1px 1px 1px 1px);clip: rect(1px, 1px, 1px, 1px);height: 1px;margin: -1px;overflow: hidden;padding: 0;position: absolute;width: 1px;}#sk-container-id-10 div.sk-estimator {font-family: monospace;background-color: #f0f8ff;border: 1px dotted black;border-radius: 0.25em;box-sizing: border-box;margin-bottom: 0.5em;}#sk-container-id-10 div.sk-estimator:hover {background-color: #d4ebff;}#sk-container-id-10 div.sk-parallel-item::after {content: \"\";width: 100%;border-bottom: 1px solid gray;flex-grow: 1;}#sk-container-id-10 div.sk-label:hover label.sk-toggleable__label {background-color: #d4ebff;}#sk-container-id-10 div.sk-serial::before {content: \"\";position: absolute;border-left: 1px solid gray;box-sizing: border-box;top: 0;bottom: 0;left: 50%;z-index: 0;}#sk-container-id-10 div.sk-serial {display: flex;flex-direction: column;align-items: center;background-color: white;padding-right: 0.2em;padding-left: 0.2em;position: relative;}#sk-container-id-10 div.sk-item {position: relative;z-index: 1;}#sk-container-id-10 div.sk-parallel {display: flex;align-items: stretch;justify-content: center;background-color: white;position: relative;}#sk-container-id-10 div.sk-item::before, #sk-container-id-10 div.sk-parallel-item::before {content: \"\";position: absolute;border-left: 1px solid gray;box-sizing: border-box;top: 0;bottom: 0;left: 50%;z-index: -1;}#sk-container-id-10 div.sk-parallel-item {display: flex;flex-direction: column;z-index: 1;position: relative;background-color: white;}#sk-container-id-10 div.sk-parallel-item:first-child::after {align-self: flex-end;width: 50%;}#sk-container-id-10 div.sk-parallel-item:last-child::after {align-self: flex-start;width: 50%;}#sk-container-id-10 div.sk-parallel-item:only-child::after {width: 0;}#sk-container-id-10 div.sk-dashed-wrapped {border: 1px dashed gray;margin: 0 0.4em 0.5em 0.4em;box-sizing: border-box;padding-bottom: 0.4em;background-color: white;}#sk-container-id-10 div.sk-label label {font-family: monospace;font-weight: bold;display: inline-block;line-height: 1.2em;}#sk-container-id-10 div.sk-label-container {text-align: center;}#sk-container-id-10 div.sk-container {/* jupyter's `normalize.less` sets `[hidden] { display: none; }` but bootstrap.min.css set `[hidden] { display: none !important; }` so we also need the `!important` here to be able to override the default hidden behavior on the sphinx rendered scikit-learn.org. See: https://github.com/scikit-learn/scikit-learn/issues/21755 */display: inline-block !important;position: relative;}#sk-container-id-10 div.sk-text-repr-fallback {display: none;}</style><div id=\"sk-container-id-10\" class=\"sk-top-container\"><div class=\"sk-text-repr-fallback\"><pre>LassoCV(cv=10, eps=0.01)</pre><b>In a Jupyter environment, please rerun this cell to show the HTML representation or trust the notebook. <br />On GitHub, the HTML representation is unable to render, please try loading this page with nbviewer.org.</b></div><div class=\"sk-container\" hidden><div class=\"sk-item\"><div class=\"sk-estimator sk-toggleable\"><input class=\"sk-toggleable__control sk-hidden--visually\" id=\"sk-estimator-id-10\" type=\"checkbox\" checked><label for=\"sk-estimator-id-10\" class=\"sk-toggleable__label sk-toggleable__label-arrow\">LassoCV</label><div class=\"sk-toggleable__content\"><pre>LassoCV(cv=10, eps=0.01)</pre></div></div></div></div></div>"
      ],
      "text/plain": [
       "LassoCV(cv=10, eps=0.01)"
      ]
     },
     "execution_count": 278,
     "metadata": {},
     "output_type": "execute_result"
    }
   ],
   "source": [
    "# Import model\n",
    "from sklearn.linear_model import LassoCV\n",
    "\n",
    "# Create instance of model\n",
    "lassocv_model = LassoCV(eps=0.01,n_alphas=100,cv=10)\n",
    "\n",
    "# Fit the model on scaled_X_train\n",
    "lassocv_model.fit(scaled_X_train, y_train)"
   ]
  },
  {
   "cell_type": "code",
   "execution_count": 280,
   "id": "4583d2b3-9d32-4ed2-9f61-b1ce8f734d4f",
   "metadata": {},
   "outputs": [
    {
     "data": {
      "text/plain": [
       "4.512804386947463"
      ]
     },
     "execution_count": 280,
     "metadata": {},
     "output_type": "execute_result"
    }
   ],
   "source": [
    "lassocv_model.alpha_"
   ]
  },
  {
   "cell_type": "code",
   "execution_count": 282,
   "id": "789324e9-7ad3-47f8-8c39-a32254551d6d",
   "metadata": {},
   "outputs": [
    {
     "data": {
      "text/plain": [
       "(519.2911857594862, 675144.3063829938, 821.6716536323946, 0.35663728677685136)"
      ]
     },
     "execution_count": 282,
     "metadata": {},
     "output_type": "execute_result"
    }
   ],
   "source": [
    "# Evaluate lassocv model\n",
    "\n",
    "y_pred = lassocv_model.predict(scaled_X_test)\n",
    "\n",
    "# Obtain metrics\n",
    "\n",
    "MAE = mean_absolute_error(y_test, y_pred)\n",
    "MSE = mean_squared_error(y_test, y_pred)\n",
    "RMSE = np.sqrt(MSE)\n",
    "R2 = r2_score(y_test, y_pred)\n",
    "\n",
    "MAE, MSE, RMSE, R2"
   ]
  },
  {
   "cell_type": "code",
   "execution_count": 284,
   "id": "d95ba620-4500-4ba4-a2ee-5937e97e9ca0",
   "metadata": {},
   "outputs": [
    {
     "data": {
      "text/plain": [
       "array([ -0.        ,  -0.        , -26.09661642,   0.        ,\n",
       "        29.94889089,   0.        , 116.4642289 , 210.47114572,\n",
       "       237.43167825, -35.96051708,  -0.        ,   0.        ,\n",
       "       107.78678147,  -0.        , -64.93283163, 106.72359163,\n",
       "        -0.        ,   0.        ,   0.        ,  12.422254  ])"
      ]
     },
     "execution_count": 284,
     "metadata": {},
     "output_type": "execute_result"
    }
   ],
   "source": [
    "lassocv_model.coef_"
   ]
  },
  {
   "cell_type": "code",
   "execution_count": 288,
   "id": "d3ddc5d0-46ec-483d-a169-c6aad061e2c5",
   "metadata": {},
   "outputs": [
    {
     "data": {
      "text/html": [
       "<div>\n",
       "<style scoped>\n",
       "    .dataframe tbody tr th:only-of-type {\n",
       "        vertical-align: middle;\n",
       "    }\n",
       "\n",
       "    .dataframe tbody tr th {\n",
       "        vertical-align: top;\n",
       "    }\n",
       "\n",
       "    .dataframe thead th {\n",
       "        text-align: right;\n",
       "    }\n",
       "</style>\n",
       "<table border=\"1\" class=\"dataframe\">\n",
       "  <thead>\n",
       "    <tr style=\"text-align: right;\">\n",
       "      <th></th>\n",
       "      <th>Feature</th>\n",
       "      <th>Coefficient</th>\n",
       "    </tr>\n",
       "  </thead>\n",
       "  <tbody>\n",
       "    <tr>\n",
       "      <th>0</th>\n",
       "      <td>beds_other beds</td>\n",
       "      <td>-26.096616</td>\n",
       "    </tr>\n",
       "    <tr>\n",
       "      <th>1</th>\n",
       "      <td>smoking_Non-Smoking</td>\n",
       "      <td>29.948891</td>\n",
       "    </tr>\n",
       "    <tr>\n",
       "      <th>2</th>\n",
       "      <td>sq_feet beds_2 Beds</td>\n",
       "      <td>116.464229</td>\n",
       "    </tr>\n",
       "    <tr>\n",
       "      <th>3</th>\n",
       "      <td>sq_feet beds_other beds</td>\n",
       "      <td>210.471146</td>\n",
       "    </tr>\n",
       "    <tr>\n",
       "      <th>4</th>\n",
       "      <td>sq_feet baths_other baths</td>\n",
       "      <td>237.431678</td>\n",
       "    </tr>\n",
       "    <tr>\n",
       "      <th>5</th>\n",
       "      <td>sq_feet smoking_Non-Smoking</td>\n",
       "      <td>-35.960517</td>\n",
       "    </tr>\n",
       "    <tr>\n",
       "      <th>6</th>\n",
       "      <td>beds_2 Beds baths_other baths</td>\n",
       "      <td>107.786781</td>\n",
       "    </tr>\n",
       "    <tr>\n",
       "      <th>7</th>\n",
       "      <td>beds_other beds^2</td>\n",
       "      <td>-64.932832</td>\n",
       "    </tr>\n",
       "    <tr>\n",
       "      <th>8</th>\n",
       "      <td>beds_other beds baths_other baths</td>\n",
       "      <td>106.723592</td>\n",
       "    </tr>\n",
       "    <tr>\n",
       "      <th>9</th>\n",
       "      <td>smoking_Non-Smoking^2</td>\n",
       "      <td>12.422254</td>\n",
       "    </tr>\n",
       "  </tbody>\n",
       "</table>\n",
       "</div>"
      ],
      "text/plain": [
       "                             Feature  Coefficient\n",
       "0                    beds_other beds   -26.096616\n",
       "1                smoking_Non-Smoking    29.948891\n",
       "2                sq_feet beds_2 Beds   116.464229\n",
       "3            sq_feet beds_other beds   210.471146\n",
       "4          sq_feet baths_other baths   237.431678\n",
       "5        sq_feet smoking_Non-Smoking   -35.960517\n",
       "6      beds_2 Beds baths_other baths   107.786781\n",
       "7                  beds_other beds^2   -64.932832\n",
       "8  beds_other beds baths_other baths   106.723592\n",
       "9              smoking_Non-Smoking^2    12.422254"
      ]
     },
     "execution_count": 288,
     "metadata": {},
     "output_type": "execute_result"
    }
   ],
   "source": [
    "# see which features are non-zero\n",
    "\n",
    "poly_features_names = poly_converter.get_feature_names_out(input_features=X.columns)\n",
    "lasso_coefficients = lassocv_model.coef_\n",
    "non_zero_mask = lasso_coefficients!=0\n",
    "\n",
    "non_zero_features_df = pd.DataFrame({\n",
    "    'Feature':poly_features_names[non_zero_mask],\n",
    "    'Coefficient':lasso_coefficients[non_zero_mask]\n",
    "})\n",
    "\n",
    "non_zero_features_df"
   ]
  },
  {
   "cell_type": "markdown",
   "id": "adb250d8-5f75-42c6-a5af-c41568099222",
   "metadata": {},
   "source": [
    "## Let's try Lasso CV with fewer variables"
   ]
  },
  {
   "cell_type": "code",
   "execution_count": 465,
   "id": "5bf6e55f-529f-40e5-9b6b-f7d5080b7fb1",
   "metadata": {},
   "outputs": [],
   "source": [
    "X = df.drop(['price','lease_term_Other lease Term', 'beds_2 Beds','beds_other beds','furnishing_Unfurnished','smoking_Non-Smoking'], axis=1)\n",
    "y = df['price']"
   ]
  },
  {
   "cell_type": "code",
   "execution_count": 467,
   "id": "c51d3413-6770-4258-a55a-b276648176be",
   "metadata": {},
   "outputs": [
    {
     "data": {
      "text/plain": [
       "Index(['sq_feet', 'baths_other baths'], dtype='object')"
      ]
     },
     "execution_count": 467,
     "metadata": {},
     "output_type": "execute_result"
    }
   ],
   "source": [
    "X.columns"
   ]
  },
  {
   "cell_type": "code",
   "execution_count": 469,
   "id": "3ea74a39-7463-4774-964a-a652caa5dd27",
   "metadata": {},
   "outputs": [
    {
     "data": {
      "text/plain": [
       "((20296, 5), (5074, 5))"
      ]
     },
     "execution_count": 469,
     "metadata": {},
     "output_type": "execute_result"
    }
   ],
   "source": [
    "# Create an instance of PolynomialFeatures\n",
    "poly_converter = PolynomialFeatures(degree=2, include_bias=False)\n",
    "\n",
    "# Fit converter to X features + transform features\n",
    "poly_features = poly_converter.fit_transform(X)\n",
    "\n",
    "\n",
    "# Train/test split\n",
    "X_train, X_test, y_train, y_test = train_test_split(poly_features, y, test_size=0.20, random_state=42)\n",
    "\n",
    "scaler = StandardScaler()\n",
    "scaled_X_train = scaler.fit_transform(X_train)\n",
    "scaled_X_test = scaler.transform(X_test)\n",
    "\n",
    "scaled_X_train.shape, scaled_X_test.shape"
   ]
  },
  {
   "cell_type": "code",
   "execution_count": 471,
   "id": "56b79d5d-c517-494c-9f78-a01e500f7e0d",
   "metadata": {},
   "outputs": [
    {
     "data": {
      "text/html": [
       "<style>#sk-container-id-20 {color: black;background-color: white;}#sk-container-id-20 pre{padding: 0;}#sk-container-id-20 div.sk-toggleable {background-color: white;}#sk-container-id-20 label.sk-toggleable__label {cursor: pointer;display: block;width: 100%;margin-bottom: 0;padding: 0.3em;box-sizing: border-box;text-align: center;}#sk-container-id-20 label.sk-toggleable__label-arrow:before {content: \"▸\";float: left;margin-right: 0.25em;color: #696969;}#sk-container-id-20 label.sk-toggleable__label-arrow:hover:before {color: black;}#sk-container-id-20 div.sk-estimator:hover label.sk-toggleable__label-arrow:before {color: black;}#sk-container-id-20 div.sk-toggleable__content {max-height: 0;max-width: 0;overflow: hidden;text-align: left;background-color: #f0f8ff;}#sk-container-id-20 div.sk-toggleable__content pre {margin: 0.2em;color: black;border-radius: 0.25em;background-color: #f0f8ff;}#sk-container-id-20 input.sk-toggleable__control:checked~div.sk-toggleable__content {max-height: 200px;max-width: 100%;overflow: auto;}#sk-container-id-20 input.sk-toggleable__control:checked~label.sk-toggleable__label-arrow:before {content: \"▾\";}#sk-container-id-20 div.sk-estimator input.sk-toggleable__control:checked~label.sk-toggleable__label {background-color: #d4ebff;}#sk-container-id-20 div.sk-label input.sk-toggleable__control:checked~label.sk-toggleable__label {background-color: #d4ebff;}#sk-container-id-20 input.sk-hidden--visually {border: 0;clip: rect(1px 1px 1px 1px);clip: rect(1px, 1px, 1px, 1px);height: 1px;margin: -1px;overflow: hidden;padding: 0;position: absolute;width: 1px;}#sk-container-id-20 div.sk-estimator {font-family: monospace;background-color: #f0f8ff;border: 1px dotted black;border-radius: 0.25em;box-sizing: border-box;margin-bottom: 0.5em;}#sk-container-id-20 div.sk-estimator:hover {background-color: #d4ebff;}#sk-container-id-20 div.sk-parallel-item::after {content: \"\";width: 100%;border-bottom: 1px solid gray;flex-grow: 1;}#sk-container-id-20 div.sk-label:hover label.sk-toggleable__label {background-color: #d4ebff;}#sk-container-id-20 div.sk-serial::before {content: \"\";position: absolute;border-left: 1px solid gray;box-sizing: border-box;top: 0;bottom: 0;left: 50%;z-index: 0;}#sk-container-id-20 div.sk-serial {display: flex;flex-direction: column;align-items: center;background-color: white;padding-right: 0.2em;padding-left: 0.2em;position: relative;}#sk-container-id-20 div.sk-item {position: relative;z-index: 1;}#sk-container-id-20 div.sk-parallel {display: flex;align-items: stretch;justify-content: center;background-color: white;position: relative;}#sk-container-id-20 div.sk-item::before, #sk-container-id-20 div.sk-parallel-item::before {content: \"\";position: absolute;border-left: 1px solid gray;box-sizing: border-box;top: 0;bottom: 0;left: 50%;z-index: -1;}#sk-container-id-20 div.sk-parallel-item {display: flex;flex-direction: column;z-index: 1;position: relative;background-color: white;}#sk-container-id-20 div.sk-parallel-item:first-child::after {align-self: flex-end;width: 50%;}#sk-container-id-20 div.sk-parallel-item:last-child::after {align-self: flex-start;width: 50%;}#sk-container-id-20 div.sk-parallel-item:only-child::after {width: 0;}#sk-container-id-20 div.sk-dashed-wrapped {border: 1px dashed gray;margin: 0 0.4em 0.5em 0.4em;box-sizing: border-box;padding-bottom: 0.4em;background-color: white;}#sk-container-id-20 div.sk-label label {font-family: monospace;font-weight: bold;display: inline-block;line-height: 1.2em;}#sk-container-id-20 div.sk-label-container {text-align: center;}#sk-container-id-20 div.sk-container {/* jupyter's `normalize.less` sets `[hidden] { display: none; }` but bootstrap.min.css set `[hidden] { display: none !important; }` so we also need the `!important` here to be able to override the default hidden behavior on the sphinx rendered scikit-learn.org. See: https://github.com/scikit-learn/scikit-learn/issues/21755 */display: inline-block !important;position: relative;}#sk-container-id-20 div.sk-text-repr-fallback {display: none;}</style><div id=\"sk-container-id-20\" class=\"sk-top-container\"><div class=\"sk-text-repr-fallback\"><pre>LassoCV(cv=10, eps=0.01)</pre><b>In a Jupyter environment, please rerun this cell to show the HTML representation or trust the notebook. <br />On GitHub, the HTML representation is unable to render, please try loading this page with nbviewer.org.</b></div><div class=\"sk-container\" hidden><div class=\"sk-item\"><div class=\"sk-estimator sk-toggleable\"><input class=\"sk-toggleable__control sk-hidden--visually\" id=\"sk-estimator-id-20\" type=\"checkbox\" checked><label for=\"sk-estimator-id-20\" class=\"sk-toggleable__label sk-toggleable__label-arrow\">LassoCV</label><div class=\"sk-toggleable__content\"><pre>LassoCV(cv=10, eps=0.01)</pre></div></div></div></div></div>"
      ],
      "text/plain": [
       "LassoCV(cv=10, eps=0.01)"
      ]
     },
     "execution_count": 471,
     "metadata": {},
     "output_type": "execute_result"
    }
   ],
   "source": [
    "# Import model\n",
    "from sklearn.linear_model import LassoCV\n",
    "\n",
    "# Create instance of model\n",
    "lassocv_model = LassoCV(eps=0.01,n_alphas=100,cv=10)\n",
    "\n",
    "# Fit the model on scaled_X_train\n",
    "lassocv_model.fit(scaled_X_train, y_train)"
   ]
  },
  {
   "cell_type": "code",
   "execution_count": 473,
   "id": "d618c9b6-23a5-409b-95b9-82a0189842b0",
   "metadata": {},
   "outputs": [
    {
     "data": {
      "text/plain": [
       "17.390220742924367"
      ]
     },
     "execution_count": 473,
     "metadata": {},
     "output_type": "execute_result"
    }
   ],
   "source": [
    "lassocv_model.alpha_"
   ]
  },
  {
   "cell_type": "code",
   "execution_count": 475,
   "id": "96c00263-07fb-40b9-af1f-9ab68e6f780b",
   "metadata": {},
   "outputs": [
    {
     "data": {
      "text/plain": [
       "(524.3777741471986, 680529.8443825206, 824.9423279130007, 0.35150526639723145)"
      ]
     },
     "execution_count": 475,
     "metadata": {},
     "output_type": "execute_result"
    }
   ],
   "source": [
    "# Evaluate lassocv model\n",
    "\n",
    "y_pred = lassocv_model.predict(scaled_X_test)\n",
    "\n",
    "# Obtain metrics\n",
    "\n",
    "MAE = mean_absolute_error(y_test, y_pred)\n",
    "MSE = mean_squared_error(y_test, y_pred)\n",
    "RMSE = np.sqrt(MSE)\n",
    "R2 = r2_score(y_test, y_pred)\n",
    "\n",
    "MAE, MSE, RMSE, R2"
   ]
  },
  {
   "cell_type": "code",
   "execution_count": 477,
   "id": "58b9676f-9040-47c3-becf-5f3327298d73",
   "metadata": {},
   "outputs": [
    {
     "data": {
      "text/plain": [
       "array([ 20.51048693,  81.24321353,  11.56216596, 339.10476896,\n",
       "         0.        ])"
      ]
     },
     "execution_count": 477,
     "metadata": {},
     "output_type": "execute_result"
    }
   ],
   "source": [
    "lassocv_model.coef_"
   ]
  },
  {
   "cell_type": "code",
   "execution_count": 479,
   "id": "8137af83-16e4-4008-8e74-e8c6b7be9cc3",
   "metadata": {},
   "outputs": [
    {
     "data": {
      "text/html": [
       "<div>\n",
       "<style scoped>\n",
       "    .dataframe tbody tr th:only-of-type {\n",
       "        vertical-align: middle;\n",
       "    }\n",
       "\n",
       "    .dataframe tbody tr th {\n",
       "        vertical-align: top;\n",
       "    }\n",
       "\n",
       "    .dataframe thead th {\n",
       "        text-align: right;\n",
       "    }\n",
       "</style>\n",
       "<table border=\"1\" class=\"dataframe\">\n",
       "  <thead>\n",
       "    <tr style=\"text-align: right;\">\n",
       "      <th></th>\n",
       "      <th>Feature</th>\n",
       "      <th>Coefficient</th>\n",
       "    </tr>\n",
       "  </thead>\n",
       "  <tbody>\n",
       "    <tr>\n",
       "      <th>0</th>\n",
       "      <td>sq_feet</td>\n",
       "      <td>20.510487</td>\n",
       "    </tr>\n",
       "    <tr>\n",
       "      <th>1</th>\n",
       "      <td>baths_other baths</td>\n",
       "      <td>81.243214</td>\n",
       "    </tr>\n",
       "    <tr>\n",
       "      <th>2</th>\n",
       "      <td>sq_feet^2</td>\n",
       "      <td>11.562166</td>\n",
       "    </tr>\n",
       "    <tr>\n",
       "      <th>3</th>\n",
       "      <td>sq_feet baths_other baths</td>\n",
       "      <td>339.104769</td>\n",
       "    </tr>\n",
       "  </tbody>\n",
       "</table>\n",
       "</div>"
      ],
      "text/plain": [
       "                     Feature  Coefficient\n",
       "0                    sq_feet    20.510487\n",
       "1          baths_other baths    81.243214\n",
       "2                  sq_feet^2    11.562166\n",
       "3  sq_feet baths_other baths   339.104769"
      ]
     },
     "execution_count": 479,
     "metadata": {},
     "output_type": "execute_result"
    }
   ],
   "source": [
    "# see which features are non-zero\n",
    "\n",
    "poly_features_names = poly_converter.get_feature_names_out(input_features=X.columns)\n",
    "lasso_coefficients = lassocv_model.coef_\n",
    "non_zero_mask = lasso_coefficients!=0\n",
    "\n",
    "non_zero_features_df = pd.DataFrame({\n",
    "    'Feature':poly_features_names[non_zero_mask],\n",
    "    'Coefficient':lasso_coefficients[non_zero_mask]\n",
    "})\n",
    "\n",
    "non_zero_features_df"
   ]
  },
  {
   "cell_type": "markdown",
   "id": "8c8cc9a0-d47e-4662-8cae-db95a3efdedf",
   "metadata": {},
   "source": [
    "Model with Lasso CV did not improve the metrics and the performance.\n",
    "\n",
    "In our tests, the model that performed the better with 5 variables was polynomial degree 3."
   ]
  },
  {
   "cell_type": "markdown",
   "id": "a762cbcc-0d8e-432e-a2e2-6af686012da9",
   "metadata": {},
   "source": [
    "# 4. Cross-Validation"
   ]
  },
  {
   "cell_type": "code",
   "execution_count": 492,
   "id": "6ab2e27d-8244-4da2-a0df-68608acdb7b3",
   "metadata": {},
   "outputs": [],
   "source": [
    "X = df.drop(['price','lease_term_Other lease Term','furnishing_Unfurnished'], axis=1)\n",
    "y = df['price']"
   ]
  },
  {
   "cell_type": "code",
   "execution_count": 494,
   "id": "95592795-d55c-44f3-93af-0fdfdfd386a1",
   "metadata": {},
   "outputs": [
    {
     "data": {
      "text/plain": [
       "Index(['sq_feet', 'beds_2 Beds', 'beds_other beds', 'baths_other baths',\n",
       "       'smoking_Non-Smoking'],\n",
       "      dtype='object')"
      ]
     },
     "execution_count": 494,
     "metadata": {},
     "output_type": "execute_result"
    }
   ],
   "source": [
    "X.columns"
   ]
  },
  {
   "cell_type": "code",
   "execution_count": 500,
   "id": "bb06b5be-828b-42bf-9095-6fa919095005",
   "metadata": {},
   "outputs": [
    {
     "data": {
      "text/plain": [
       "((20296, 20), (5074, 20))"
      ]
     },
     "execution_count": 500,
     "metadata": {},
     "output_type": "execute_result"
    }
   ],
   "source": [
    "# Create an instance of PolynomialFeatures\n",
    "poly_converter = PolynomialFeatures(degree=2, include_bias=False)\n",
    "\n",
    "# Fit converter to X features + transform features\n",
    "poly_features = poly_converter.fit_transform(X)\n",
    "\n",
    "from sklearn.model_selection import train_test_split\n",
    "X_train, X_test, y_train, y_test = train_test_split(poly_features, y, test_size=0.2, random_state=42)\n",
    "\n",
    "scaler = StandardScaler()\n",
    "scaled_X_train = scaler.fit_transform(X_train)\n",
    "scaled_X_test = scaler.transform(X_test)\n",
    "\n",
    "scaled_X_train.shape, scaled_X_test.shape"
   ]
  },
  {
   "cell_type": "code",
   "execution_count": 503,
   "id": "f3e8b36f-2b8e-4235-af88-ed235a943896",
   "metadata": {},
   "outputs": [],
   "source": [
    "# Import model\n",
    "\n",
    "from sklearn.linear_model import ElasticNetCV"
   ]
  },
  {
   "cell_type": "code",
   "execution_count": 505,
   "id": "71740930-7fe5-45cb-876e-5cbdc5b52ba2",
   "metadata": {},
   "outputs": [
    {
     "data": {
      "text/html": [
       "<style>#sk-container-id-21 {color: black;background-color: white;}#sk-container-id-21 pre{padding: 0;}#sk-container-id-21 div.sk-toggleable {background-color: white;}#sk-container-id-21 label.sk-toggleable__label {cursor: pointer;display: block;width: 100%;margin-bottom: 0;padding: 0.3em;box-sizing: border-box;text-align: center;}#sk-container-id-21 label.sk-toggleable__label-arrow:before {content: \"▸\";float: left;margin-right: 0.25em;color: #696969;}#sk-container-id-21 label.sk-toggleable__label-arrow:hover:before {color: black;}#sk-container-id-21 div.sk-estimator:hover label.sk-toggleable__label-arrow:before {color: black;}#sk-container-id-21 div.sk-toggleable__content {max-height: 0;max-width: 0;overflow: hidden;text-align: left;background-color: #f0f8ff;}#sk-container-id-21 div.sk-toggleable__content pre {margin: 0.2em;color: black;border-radius: 0.25em;background-color: #f0f8ff;}#sk-container-id-21 input.sk-toggleable__control:checked~div.sk-toggleable__content {max-height: 200px;max-width: 100%;overflow: auto;}#sk-container-id-21 input.sk-toggleable__control:checked~label.sk-toggleable__label-arrow:before {content: \"▾\";}#sk-container-id-21 div.sk-estimator input.sk-toggleable__control:checked~label.sk-toggleable__label {background-color: #d4ebff;}#sk-container-id-21 div.sk-label input.sk-toggleable__control:checked~label.sk-toggleable__label {background-color: #d4ebff;}#sk-container-id-21 input.sk-hidden--visually {border: 0;clip: rect(1px 1px 1px 1px);clip: rect(1px, 1px, 1px, 1px);height: 1px;margin: -1px;overflow: hidden;padding: 0;position: absolute;width: 1px;}#sk-container-id-21 div.sk-estimator {font-family: monospace;background-color: #f0f8ff;border: 1px dotted black;border-radius: 0.25em;box-sizing: border-box;margin-bottom: 0.5em;}#sk-container-id-21 div.sk-estimator:hover {background-color: #d4ebff;}#sk-container-id-21 div.sk-parallel-item::after {content: \"\";width: 100%;border-bottom: 1px solid gray;flex-grow: 1;}#sk-container-id-21 div.sk-label:hover label.sk-toggleable__label {background-color: #d4ebff;}#sk-container-id-21 div.sk-serial::before {content: \"\";position: absolute;border-left: 1px solid gray;box-sizing: border-box;top: 0;bottom: 0;left: 50%;z-index: 0;}#sk-container-id-21 div.sk-serial {display: flex;flex-direction: column;align-items: center;background-color: white;padding-right: 0.2em;padding-left: 0.2em;position: relative;}#sk-container-id-21 div.sk-item {position: relative;z-index: 1;}#sk-container-id-21 div.sk-parallel {display: flex;align-items: stretch;justify-content: center;background-color: white;position: relative;}#sk-container-id-21 div.sk-item::before, #sk-container-id-21 div.sk-parallel-item::before {content: \"\";position: absolute;border-left: 1px solid gray;box-sizing: border-box;top: 0;bottom: 0;left: 50%;z-index: -1;}#sk-container-id-21 div.sk-parallel-item {display: flex;flex-direction: column;z-index: 1;position: relative;background-color: white;}#sk-container-id-21 div.sk-parallel-item:first-child::after {align-self: flex-end;width: 50%;}#sk-container-id-21 div.sk-parallel-item:last-child::after {align-self: flex-start;width: 50%;}#sk-container-id-21 div.sk-parallel-item:only-child::after {width: 0;}#sk-container-id-21 div.sk-dashed-wrapped {border: 1px dashed gray;margin: 0 0.4em 0.5em 0.4em;box-sizing: border-box;padding-bottom: 0.4em;background-color: white;}#sk-container-id-21 div.sk-label label {font-family: monospace;font-weight: bold;display: inline-block;line-height: 1.2em;}#sk-container-id-21 div.sk-label-container {text-align: center;}#sk-container-id-21 div.sk-container {/* jupyter's `normalize.less` sets `[hidden] { display: none; }` but bootstrap.min.css set `[hidden] { display: none !important; }` so we also need the `!important` here to be able to override the default hidden behavior on the sphinx rendered scikit-learn.org. See: https://github.com/scikit-learn/scikit-learn/issues/21755 */display: inline-block !important;position: relative;}#sk-container-id-21 div.sk-text-repr-fallback {display: none;}</style><div id=\"sk-container-id-21\" class=\"sk-top-container\"><div class=\"sk-text-repr-fallback\"><pre>ElasticNetCV(l1_ratio=[0.1, 0.5, 0.7, 0.9, 0.95, 0.99, 1], max_iter=10000)</pre><b>In a Jupyter environment, please rerun this cell to show the HTML representation or trust the notebook. <br />On GitHub, the HTML representation is unable to render, please try loading this page with nbviewer.org.</b></div><div class=\"sk-container\" hidden><div class=\"sk-item\"><div class=\"sk-estimator sk-toggleable\"><input class=\"sk-toggleable__control sk-hidden--visually\" id=\"sk-estimator-id-21\" type=\"checkbox\" checked><label for=\"sk-estimator-id-21\" class=\"sk-toggleable__label sk-toggleable__label-arrow\">ElasticNetCV</label><div class=\"sk-toggleable__content\"><pre>ElasticNetCV(l1_ratio=[0.1, 0.5, 0.7, 0.9, 0.95, 0.99, 1], max_iter=10000)</pre></div></div></div></div></div>"
      ],
      "text/plain": [
       "ElasticNetCV(l1_ratio=[0.1, 0.5, 0.7, 0.9, 0.95, 0.99, 1], max_iter=10000)"
      ]
     },
     "execution_count": 505,
     "metadata": {},
     "output_type": "execute_result"
    }
   ],
   "source": [
    "# Create instance of model\n",
    "elasticcv_model = ElasticNetCV(l1_ratio=[.1, .5, .7,.9, .95, .99, 1], eps=0.001, n_alphas=100, max_iter=10000)\n",
    "\n",
    "# Fit the model on scaled_X_train\n",
    "elasticcv_model.fit(scaled_X_train, y_train)"
   ]
  },
  {
   "cell_type": "code",
   "execution_count": 506,
   "id": "570c096f-0aa2-48a5-878d-74f98f7e5b6d",
   "metadata": {},
   "outputs": [
    {
     "data": {
      "text/plain": [
       "1.0"
      ]
     },
     "execution_count": 506,
     "metadata": {},
     "output_type": "execute_result"
    }
   ],
   "source": [
    "elasticcv_model.l1_ratio_"
   ]
  },
  {
   "cell_type": "code",
   "execution_count": 507,
   "id": "a7b8b1b3-02b5-4487-98ea-da776994a5bb",
   "metadata": {},
   "outputs": [
    {
     "data": {
      "text/plain": [
       "1.285262876126082"
      ]
     },
     "execution_count": 507,
     "metadata": {},
     "output_type": "execute_result"
    }
   ],
   "source": [
    "elasticcv_model.alpha_"
   ]
  },
  {
   "cell_type": "code",
   "execution_count": 511,
   "id": "b3ad36ed-50c7-41fc-bad4-2fd35ee2c168",
   "metadata": {},
   "outputs": [
    {
     "data": {
      "text/plain": [
       "array([  -0.        ,  -68.96094306,  -31.4583425 ,   -0.        ,\n",
       "         33.80007731,    0.        ,  372.3811816 ,  478.34176128,\n",
       "        195.71292059, -193.09045097,  -99.56725773,    0.        ,\n",
       "        131.99091934,  -42.21453038, -207.75038712,  133.06282978,\n",
       "         -0.        ,   -0.        ,    0.        ,   49.95477027])"
      ]
     },
     "execution_count": 511,
     "metadata": {},
     "output_type": "execute_result"
    }
   ],
   "source": [
    "elasticcv_model.coef_"
   ]
  },
  {
   "cell_type": "code",
   "execution_count": 513,
   "id": "53045a2c-7ea6-40b5-b070-d3d614d8abbb",
   "metadata": {},
   "outputs": [
    {
     "data": {
      "text/html": [
       "<div>\n",
       "<style scoped>\n",
       "    .dataframe tbody tr th:only-of-type {\n",
       "        vertical-align: middle;\n",
       "    }\n",
       "\n",
       "    .dataframe tbody tr th {\n",
       "        vertical-align: top;\n",
       "    }\n",
       "\n",
       "    .dataframe thead th {\n",
       "        text-align: right;\n",
       "    }\n",
       "</style>\n",
       "<table border=\"1\" class=\"dataframe\">\n",
       "  <thead>\n",
       "    <tr style=\"text-align: right;\">\n",
       "      <th></th>\n",
       "      <th>Feature</th>\n",
       "      <th>Coefficient</th>\n",
       "    </tr>\n",
       "  </thead>\n",
       "  <tbody>\n",
       "    <tr>\n",
       "      <th>0</th>\n",
       "      <td>beds_2 Beds</td>\n",
       "      <td>-68.960943</td>\n",
       "    </tr>\n",
       "    <tr>\n",
       "      <th>1</th>\n",
       "      <td>beds_other beds</td>\n",
       "      <td>-31.458342</td>\n",
       "    </tr>\n",
       "    <tr>\n",
       "      <th>2</th>\n",
       "      <td>smoking_Non-Smoking</td>\n",
       "      <td>33.800077</td>\n",
       "    </tr>\n",
       "    <tr>\n",
       "      <th>3</th>\n",
       "      <td>sq_feet beds_2 Beds</td>\n",
       "      <td>372.381182</td>\n",
       "    </tr>\n",
       "    <tr>\n",
       "      <th>4</th>\n",
       "      <td>sq_feet beds_other beds</td>\n",
       "      <td>478.341761</td>\n",
       "    </tr>\n",
       "    <tr>\n",
       "      <th>5</th>\n",
       "      <td>sq_feet baths_other baths</td>\n",
       "      <td>195.712921</td>\n",
       "    </tr>\n",
       "    <tr>\n",
       "      <th>6</th>\n",
       "      <td>sq_feet smoking_Non-Smoking</td>\n",
       "      <td>-193.090451</td>\n",
       "    </tr>\n",
       "    <tr>\n",
       "      <th>7</th>\n",
       "      <td>beds_2 Beds^2</td>\n",
       "      <td>-99.567258</td>\n",
       "    </tr>\n",
       "    <tr>\n",
       "      <th>8</th>\n",
       "      <td>beds_2 Beds baths_other baths</td>\n",
       "      <td>131.990919</td>\n",
       "    </tr>\n",
       "    <tr>\n",
       "      <th>9</th>\n",
       "      <td>beds_2 Beds smoking_Non-Smoking</td>\n",
       "      <td>-42.214530</td>\n",
       "    </tr>\n",
       "    <tr>\n",
       "      <th>10</th>\n",
       "      <td>beds_other beds^2</td>\n",
       "      <td>-207.750387</td>\n",
       "    </tr>\n",
       "    <tr>\n",
       "      <th>11</th>\n",
       "      <td>beds_other beds baths_other baths</td>\n",
       "      <td>133.062830</td>\n",
       "    </tr>\n",
       "    <tr>\n",
       "      <th>12</th>\n",
       "      <td>smoking_Non-Smoking^2</td>\n",
       "      <td>49.954770</td>\n",
       "    </tr>\n",
       "  </tbody>\n",
       "</table>\n",
       "</div>"
      ],
      "text/plain": [
       "                              Feature  Coefficient\n",
       "0                         beds_2 Beds   -68.960943\n",
       "1                     beds_other beds   -31.458342\n",
       "2                 smoking_Non-Smoking    33.800077\n",
       "3                 sq_feet beds_2 Beds   372.381182\n",
       "4             sq_feet beds_other beds   478.341761\n",
       "5           sq_feet baths_other baths   195.712921\n",
       "6         sq_feet smoking_Non-Smoking  -193.090451\n",
       "7                       beds_2 Beds^2   -99.567258\n",
       "8       beds_2 Beds baths_other baths   131.990919\n",
       "9     beds_2 Beds smoking_Non-Smoking   -42.214530\n",
       "10                  beds_other beds^2  -207.750387\n",
       "11  beds_other beds baths_other baths   133.062830\n",
       "12              smoking_Non-Smoking^2    49.954770"
      ]
     },
     "execution_count": 513,
     "metadata": {},
     "output_type": "execute_result"
    }
   ],
   "source": [
    "# see which features are non-zero\n",
    "\n",
    "poly_features_names = poly_converter.get_feature_names_out(input_features=X.columns)\n",
    "lasso_coefficients = elasticcv_model.coef_\n",
    "non_zero_mask = lasso_coefficients!=0\n",
    "\n",
    "non_zero_features_df = pd.DataFrame({\n",
    "    'Feature':poly_features_names[non_zero_mask],\n",
    "    'Coefficient':lasso_coefficients[non_zero_mask]\n",
    "})\n",
    "\n",
    "non_zero_features_df"
   ]
  },
  {
   "cell_type": "code",
   "execution_count": 515,
   "id": "990cf78b-c685-466d-a35d-933613429b5b",
   "metadata": {},
   "outputs": [
    {
     "data": {
      "text/plain": [
       "(517.9000064086729, 668778.0045526861, 817.7884839936829, 0.3627039027284652)"
      ]
     },
     "execution_count": 515,
     "metadata": {},
     "output_type": "execute_result"
    }
   ],
   "source": [
    "# Evaluate lassocv model\n",
    "\n",
    "y_pred = elasticcv_model.predict(scaled_X_test)\n",
    "\n",
    "# Obtain metrics\n",
    "\n",
    "MAE = mean_absolute_error(y_test, y_pred)\n",
    "MSE = mean_squared_error(y_test, y_pred)\n",
    "RMSE = np.sqrt(MSE)\n",
    "R2 = r2_score(y_test, y_pred)\n",
    "\n",
    "MAE, MSE, RMSE, R2"
   ]
  },
  {
   "cell_type": "markdown",
   "id": "2f26ddca-c12e-42c5-99cb-959e82da035c",
   "metadata": {},
   "source": [
    "## Elastic Net CV with less variables"
   ]
  },
  {
   "cell_type": "markdown",
   "id": "de3df488-5caa-4ef5-850e-00f312b7f88d",
   "metadata": {},
   "source": [
    "It seems we needed to review the variables that are used, and we tried to remove more variables"
   ]
  },
  {
   "cell_type": "code",
   "execution_count": 519,
   "id": "54f7331b-5541-48f8-8b3a-fdc6ede8eda0",
   "metadata": {},
   "outputs": [],
   "source": [
    "X = df.drop(['price','lease_term_Other lease Term','furnishing_Unfurnished','smoking_Non-Smoking'], axis=1)\n",
    "y = df['price']"
   ]
  },
  {
   "cell_type": "code",
   "execution_count": 521,
   "id": "52ecbfe9-c6de-472b-a9e2-ab0b68ad5631",
   "metadata": {},
   "outputs": [],
   "source": [
    "# Create an instance of PolynomialFeatures\n",
    "poly_converter = PolynomialFeatures(degree=2, include_bias=False)\n",
    "\n",
    "# Fit converter to X features + transform features\n",
    "poly_features = poly_converter.fit_transform(X)\n",
    "\n",
    "X_train, X_test, y_train, y_test = train_test_split(poly_features, y, test_size=0.2, random_state=42)"
   ]
  },
  {
   "cell_type": "code",
   "execution_count": 523,
   "id": "a411a03b-c548-405f-84a1-be95209dce25",
   "metadata": {},
   "outputs": [
    {
     "data": {
      "text/plain": [
       "((20296, 14), (20296,))"
      ]
     },
     "execution_count": 523,
     "metadata": {},
     "output_type": "execute_result"
    }
   ],
   "source": [
    "X_train.shape, y_train.shape"
   ]
  },
  {
   "cell_type": "code",
   "execution_count": 525,
   "id": "3a42961f-7fd4-4f6b-b1c9-18272f28e458",
   "metadata": {},
   "outputs": [
    {
     "data": {
      "text/plain": [
       "((20296, 14), (5074, 14))"
      ]
     },
     "execution_count": 525,
     "metadata": {},
     "output_type": "execute_result"
    }
   ],
   "source": [
    "scaler = StandardScaler()\n",
    "scaled_X_train = scaler.fit_transform(X_train)\n",
    "scaled_X_test = scaler.transform(X_test)\n",
    "\n",
    "scaled_X_train.shape, scaled_X_test.shape"
   ]
  },
  {
   "cell_type": "code",
   "execution_count": 527,
   "id": "82d9750f-f3e5-4a0b-949b-790f04dc7c4e",
   "metadata": {},
   "outputs": [
    {
     "data": {
      "text/html": [
       "<style>#sk-container-id-22 {color: black;background-color: white;}#sk-container-id-22 pre{padding: 0;}#sk-container-id-22 div.sk-toggleable {background-color: white;}#sk-container-id-22 label.sk-toggleable__label {cursor: pointer;display: block;width: 100%;margin-bottom: 0;padding: 0.3em;box-sizing: border-box;text-align: center;}#sk-container-id-22 label.sk-toggleable__label-arrow:before {content: \"▸\";float: left;margin-right: 0.25em;color: #696969;}#sk-container-id-22 label.sk-toggleable__label-arrow:hover:before {color: black;}#sk-container-id-22 div.sk-estimator:hover label.sk-toggleable__label-arrow:before {color: black;}#sk-container-id-22 div.sk-toggleable__content {max-height: 0;max-width: 0;overflow: hidden;text-align: left;background-color: #f0f8ff;}#sk-container-id-22 div.sk-toggleable__content pre {margin: 0.2em;color: black;border-radius: 0.25em;background-color: #f0f8ff;}#sk-container-id-22 input.sk-toggleable__control:checked~div.sk-toggleable__content {max-height: 200px;max-width: 100%;overflow: auto;}#sk-container-id-22 input.sk-toggleable__control:checked~label.sk-toggleable__label-arrow:before {content: \"▾\";}#sk-container-id-22 div.sk-estimator input.sk-toggleable__control:checked~label.sk-toggleable__label {background-color: #d4ebff;}#sk-container-id-22 div.sk-label input.sk-toggleable__control:checked~label.sk-toggleable__label {background-color: #d4ebff;}#sk-container-id-22 input.sk-hidden--visually {border: 0;clip: rect(1px 1px 1px 1px);clip: rect(1px, 1px, 1px, 1px);height: 1px;margin: -1px;overflow: hidden;padding: 0;position: absolute;width: 1px;}#sk-container-id-22 div.sk-estimator {font-family: monospace;background-color: #f0f8ff;border: 1px dotted black;border-radius: 0.25em;box-sizing: border-box;margin-bottom: 0.5em;}#sk-container-id-22 div.sk-estimator:hover {background-color: #d4ebff;}#sk-container-id-22 div.sk-parallel-item::after {content: \"\";width: 100%;border-bottom: 1px solid gray;flex-grow: 1;}#sk-container-id-22 div.sk-label:hover label.sk-toggleable__label {background-color: #d4ebff;}#sk-container-id-22 div.sk-serial::before {content: \"\";position: absolute;border-left: 1px solid gray;box-sizing: border-box;top: 0;bottom: 0;left: 50%;z-index: 0;}#sk-container-id-22 div.sk-serial {display: flex;flex-direction: column;align-items: center;background-color: white;padding-right: 0.2em;padding-left: 0.2em;position: relative;}#sk-container-id-22 div.sk-item {position: relative;z-index: 1;}#sk-container-id-22 div.sk-parallel {display: flex;align-items: stretch;justify-content: center;background-color: white;position: relative;}#sk-container-id-22 div.sk-item::before, #sk-container-id-22 div.sk-parallel-item::before {content: \"\";position: absolute;border-left: 1px solid gray;box-sizing: border-box;top: 0;bottom: 0;left: 50%;z-index: -1;}#sk-container-id-22 div.sk-parallel-item {display: flex;flex-direction: column;z-index: 1;position: relative;background-color: white;}#sk-container-id-22 div.sk-parallel-item:first-child::after {align-self: flex-end;width: 50%;}#sk-container-id-22 div.sk-parallel-item:last-child::after {align-self: flex-start;width: 50%;}#sk-container-id-22 div.sk-parallel-item:only-child::after {width: 0;}#sk-container-id-22 div.sk-dashed-wrapped {border: 1px dashed gray;margin: 0 0.4em 0.5em 0.4em;box-sizing: border-box;padding-bottom: 0.4em;background-color: white;}#sk-container-id-22 div.sk-label label {font-family: monospace;font-weight: bold;display: inline-block;line-height: 1.2em;}#sk-container-id-22 div.sk-label-container {text-align: center;}#sk-container-id-22 div.sk-container {/* jupyter's `normalize.less` sets `[hidden] { display: none; }` but bootstrap.min.css set `[hidden] { display: none !important; }` so we also need the `!important` here to be able to override the default hidden behavior on the sphinx rendered scikit-learn.org. See: https://github.com/scikit-learn/scikit-learn/issues/21755 */display: inline-block !important;position: relative;}#sk-container-id-22 div.sk-text-repr-fallback {display: none;}</style><div id=\"sk-container-id-22\" class=\"sk-top-container\"><div class=\"sk-text-repr-fallback\"><pre>ElasticNetCV(l1_ratio=[0.1, 0.5, 0.7, 0.9, 0.95, 0.99, 1], max_iter=10000)</pre><b>In a Jupyter environment, please rerun this cell to show the HTML representation or trust the notebook. <br />On GitHub, the HTML representation is unable to render, please try loading this page with nbviewer.org.</b></div><div class=\"sk-container\" hidden><div class=\"sk-item\"><div class=\"sk-estimator sk-toggleable\"><input class=\"sk-toggleable__control sk-hidden--visually\" id=\"sk-estimator-id-22\" type=\"checkbox\" checked><label for=\"sk-estimator-id-22\" class=\"sk-toggleable__label sk-toggleable__label-arrow\">ElasticNetCV</label><div class=\"sk-toggleable__content\"><pre>ElasticNetCV(l1_ratio=[0.1, 0.5, 0.7, 0.9, 0.95, 0.99, 1], max_iter=10000)</pre></div></div></div></div></div>"
      ],
      "text/plain": [
       "ElasticNetCV(l1_ratio=[0.1, 0.5, 0.7, 0.9, 0.95, 0.99, 1], max_iter=10000)"
      ]
     },
     "execution_count": 527,
     "metadata": {},
     "output_type": "execute_result"
    }
   ],
   "source": [
    "# Create instance of model\n",
    "elasticcv_model = ElasticNetCV(l1_ratio=[.1, .5, .7,.9, .95, .99, 1], eps=0.001, n_alphas=100, max_iter=10000)\n",
    "\n",
    "# Scale the features\n",
    "from sklearn.preprocessing import StandardScaler\n",
    "\n",
    "scaler = StandardScaler()\n",
    "scaled_X_train = scaler.fit_transform(X_train)\n",
    "scaled_X_test = scaler.transform(X_test)\n",
    "\n",
    "# Fit the model on scaled_X_train\n",
    "elasticcv_model.fit(scaled_X_train, y_train)"
   ]
  },
  {
   "cell_type": "code",
   "execution_count": 528,
   "id": "842bf21f-6375-43d9-9122-6ffaaa748830",
   "metadata": {},
   "outputs": [
    {
     "data": {
      "text/plain": [
       "0.95"
      ]
     },
     "execution_count": 528,
     "metadata": {},
     "output_type": "execute_result"
    }
   ],
   "source": [
    "elasticcv_model.l1_ratio_"
   ]
  },
  {
   "cell_type": "code",
   "execution_count": 529,
   "id": "15c31891-8913-4e35-b737-2bef95ce60ca",
   "metadata": {},
   "outputs": [
    {
     "data": {
      "text/plain": [
       "0.5461714118688882"
      ]
     },
     "execution_count": 529,
     "metadata": {},
     "output_type": "execute_result"
    }
   ],
   "source": [
    "elasticcv_model.alpha_"
   ]
  },
  {
   "cell_type": "code",
   "execution_count": 533,
   "id": "bc5b26c0-d7b1-415b-83c4-5f75cfcee1be",
   "metadata": {},
   "outputs": [
    {
     "data": {
      "text/plain": [
       "array([-55.85163311, -21.80929008, -54.64020611,   3.92289681,\n",
       "        18.04462589, 160.88661425, 226.95280661, 208.7141214 ,\n",
       "       -22.26995759,   0.        , 118.93736219, -54.78488037,\n",
       "       128.15820223,   3.56480716])"
      ]
     },
     "execution_count": 533,
     "metadata": {},
     "output_type": "execute_result"
    }
   ],
   "source": [
    "elasticcv_model.coef_"
   ]
  },
  {
   "cell_type": "code",
   "execution_count": 537,
   "id": "b534e93e-a8b8-4017-8664-47b902d28ec8",
   "metadata": {},
   "outputs": [
    {
     "data": {
      "text/html": [
       "<div>\n",
       "<style scoped>\n",
       "    .dataframe tbody tr th:only-of-type {\n",
       "        vertical-align: middle;\n",
       "    }\n",
       "\n",
       "    .dataframe tbody tr th {\n",
       "        vertical-align: top;\n",
       "    }\n",
       "\n",
       "    .dataframe thead th {\n",
       "        text-align: right;\n",
       "    }\n",
       "</style>\n",
       "<table border=\"1\" class=\"dataframe\">\n",
       "  <thead>\n",
       "    <tr style=\"text-align: right;\">\n",
       "      <th></th>\n",
       "      <th>Feature</th>\n",
       "      <th>Coefficient</th>\n",
       "    </tr>\n",
       "  </thead>\n",
       "  <tbody>\n",
       "    <tr>\n",
       "      <th>0</th>\n",
       "      <td>sq_feet</td>\n",
       "      <td>-55.851633</td>\n",
       "    </tr>\n",
       "    <tr>\n",
       "      <th>1</th>\n",
       "      <td>beds_2 Beds</td>\n",
       "      <td>-21.809290</td>\n",
       "    </tr>\n",
       "    <tr>\n",
       "      <th>2</th>\n",
       "      <td>beds_other beds</td>\n",
       "      <td>-54.640206</td>\n",
       "    </tr>\n",
       "    <tr>\n",
       "      <th>3</th>\n",
       "      <td>baths_other baths</td>\n",
       "      <td>3.922897</td>\n",
       "    </tr>\n",
       "    <tr>\n",
       "      <th>4</th>\n",
       "      <td>sq_feet^2</td>\n",
       "      <td>18.044626</td>\n",
       "    </tr>\n",
       "    <tr>\n",
       "      <th>5</th>\n",
       "      <td>sq_feet beds_2 Beds</td>\n",
       "      <td>160.886614</td>\n",
       "    </tr>\n",
       "    <tr>\n",
       "      <th>6</th>\n",
       "      <td>sq_feet beds_other beds</td>\n",
       "      <td>226.952807</td>\n",
       "    </tr>\n",
       "    <tr>\n",
       "      <th>7</th>\n",
       "      <td>sq_feet baths_other baths</td>\n",
       "      <td>208.714121</td>\n",
       "    </tr>\n",
       "    <tr>\n",
       "      <th>8</th>\n",
       "      <td>beds_2 Beds^2</td>\n",
       "      <td>-22.269958</td>\n",
       "    </tr>\n",
       "    <tr>\n",
       "      <th>9</th>\n",
       "      <td>beds_2 Beds baths_other baths</td>\n",
       "      <td>118.937362</td>\n",
       "    </tr>\n",
       "    <tr>\n",
       "      <th>10</th>\n",
       "      <td>beds_other beds^2</td>\n",
       "      <td>-54.784880</td>\n",
       "    </tr>\n",
       "    <tr>\n",
       "      <th>11</th>\n",
       "      <td>beds_other beds baths_other baths</td>\n",
       "      <td>128.158202</td>\n",
       "    </tr>\n",
       "    <tr>\n",
       "      <th>12</th>\n",
       "      <td>baths_other baths^2</td>\n",
       "      <td>3.564807</td>\n",
       "    </tr>\n",
       "  </tbody>\n",
       "</table>\n",
       "</div>"
      ],
      "text/plain": [
       "                              Feature  Coefficient\n",
       "0                             sq_feet   -55.851633\n",
       "1                         beds_2 Beds   -21.809290\n",
       "2                     beds_other beds   -54.640206\n",
       "3                   baths_other baths     3.922897\n",
       "4                           sq_feet^2    18.044626\n",
       "5                 sq_feet beds_2 Beds   160.886614\n",
       "6             sq_feet beds_other beds   226.952807\n",
       "7           sq_feet baths_other baths   208.714121\n",
       "8                       beds_2 Beds^2   -22.269958\n",
       "9       beds_2 Beds baths_other baths   118.937362\n",
       "10                  beds_other beds^2   -54.784880\n",
       "11  beds_other beds baths_other baths   128.158202\n",
       "12                baths_other baths^2     3.564807"
      ]
     },
     "execution_count": 537,
     "metadata": {},
     "output_type": "execute_result"
    }
   ],
   "source": [
    "# see which features are non-zero\n",
    "\n",
    "poly_features_names = poly_converter.get_feature_names_out(input_features=X.columns)\n",
    "elasticcv_coefficients = elasticcv_model.coef_\n",
    "non_zero_mask = elasticcv_coefficients!=0\n",
    "\n",
    "non_zero_features_df = pd.DataFrame({\n",
    "    'Feature':poly_features_names[non_zero_mask],\n",
    "    'Coefficient':elasticcv_coefficients[non_zero_mask]\n",
    "})\n",
    "\n",
    "non_zero_features_df"
   ]
  },
  {
   "cell_type": "code",
   "execution_count": 539,
   "id": "697f948e-a0f8-44a5-8f79-c1e4cb73ff23",
   "metadata": {},
   "outputs": [
    {
     "data": {
      "text/plain": [
       "(519.7372191182635, 663954.3736539481, 814.83395465208, 0.36730046709738495)"
      ]
     },
     "execution_count": 539,
     "metadata": {},
     "output_type": "execute_result"
    }
   ],
   "source": [
    "# Evaluate lassocv model\n",
    "\n",
    "y_pred = elasticcv_model.predict(scaled_X_test)\n",
    "\n",
    "# Obtain metrics\n",
    "\n",
    "MAE = mean_absolute_error(y_test, y_pred)\n",
    "MSE = mean_squared_error(y_test, y_pred)\n",
    "RMSE = np.sqrt(MSE)\n",
    "R2 = r2_score(y_test, y_pred)\n",
    "\n",
    "MAE, MSE, RMSE, R2"
   ]
  },
  {
   "cell_type": "markdown",
   "id": "68ded5c6-dea9-4cf9-8d08-3fc3a735d561",
   "metadata": {},
   "source": [
    "# 6. The best model (so far)"
   ]
  },
  {
   "cell_type": "markdown",
   "id": "0888b7ae-691d-49ee-ac7e-7042d1496315",
   "metadata": {},
   "source": [
    "As we'seen, we got a better R2 with the polynomial regression, degree 3. However, in this case we would have 55 features which is not idel because it is very difficult to explain.\n",
    "\n",
    "Lasso CV and Ridge CV had similar performances. When we used Lasso CV with only 2 varibles we obtained similar metrics but only 3 features:\n",
    "```\n",
    "Feature\t                   Coefficient\n",
    "sq_feet\t                     20.510487\n",
    "baths_other baths\t        81.243214\n",
    "sq_feet^2\t                11.562166\n",
    "sq_feet baths_other baths\t339.104769\n",
    "```\n",
    "Which lead us to think that we could review the variables that we chose at the beginning and reviewing the models.\n",
    "\n",
    "In conclusion, we are going to use the Lasso CV with 3 features as our final model"
   ]
  },
  {
   "cell_type": "markdown",
   "id": "932780f7-b7a3-4327-9cbc-75f379240d37",
   "metadata": {},
   "source": [
    "# 7. Trying the final model"
   ]
  },
  {
   "cell_type": "markdown",
   "id": "a0b9c469-2ee0-4749-ab50-bcf2acf6d66d",
   "metadata": {},
   "source": [
    "To be continued.\n",
    "After calculating the predictions, we have concluded we do need to review our models"
   ]
  },
  {
   "cell_type": "code",
   "execution_count": null,
   "id": "03b530c1-ebd8-4cbc-bde2-a67670283098",
   "metadata": {},
   "outputs": [],
   "source": []
  }
 ],
 "metadata": {
  "colab": {
   "provenance": []
  },
  "kernelspec": {
   "display_name": "Python 3 (ipykernel)",
   "language": "python",
   "name": "python3"
  },
  "language_info": {
   "codemirror_mode": {
    "name": "ipython",
    "version": 3
   },
   "file_extension": ".py",
   "mimetype": "text/x-python",
   "name": "python",
   "nbconvert_exporter": "python",
   "pygments_lexer": "ipython3",
   "version": "3.11.7"
  }
 },
 "nbformat": 4,
 "nbformat_minor": 5
}
